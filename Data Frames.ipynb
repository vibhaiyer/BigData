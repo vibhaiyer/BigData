{
 "cells": [
  {
   "cell_type": "code",
   "execution_count": 1,
   "metadata": {},
   "outputs": [],
   "source": [
    "import findspark\n",
    "findspark.init()\n",
    "findspark.find()\n",
    "import pyspark\n",
    "from pyspark import SparkContext, SparkConf\n",
    "from pyspark.sql import SparkSession\n",
    "conf = pyspark.SparkConf().setAppName('SparkApp').setMaster('local')\n",
    "sc = pyspark.SparkContext(conf=conf)\n",
    "spark = SparkSession(sc)"
   ]
  },
  {
   "cell_type": "code",
   "execution_count": 2,
   "metadata": {},
   "outputs": [
    {
     "name": "stdout",
     "output_type": "stream",
     "text": [
      "+------+\n",
      "|number|\n",
      "+------+\n",
      "|     0|\n",
      "|     1|\n",
      "|     2|\n",
      "|     3|\n",
      "|     4|\n",
      "|     5|\n",
      "|     6|\n",
      "|     7|\n",
      "|     8|\n",
      "|     9|\n",
      "|    10|\n",
      "|    11|\n",
      "|    12|\n",
      "|    13|\n",
      "|    14|\n",
      "|    15|\n",
      "|    16|\n",
      "|    17|\n",
      "|    18|\n",
      "|    19|\n",
      "+------+\n",
      "only showing top 20 rows\n",
      "\n",
      "+------+\n",
      "|number|\n",
      "+------+\n",
      "|     0|\n",
      "|     1|\n",
      "|     2|\n",
      "|     3|\n",
      "|     4|\n",
      "+------+\n",
      "only showing top 5 rows\n",
      "\n"
     ]
    },
    {
     "data": {
      "text/plain": [
       "DataFrame[number: bigint]"
      ]
     },
     "execution_count": 2,
     "metadata": {},
     "output_type": "execute_result"
    }
   ],
   "source": [
    "range = spark.range(1000).toDF(\"number\")\n",
    "range.show()\n",
    "range.show(5)  #show 5 rows\n",
    "\n",
    "divBy3 = range.where(\"number % 3 == 0\")\n",
    "divBy3\n",
    "#shows a new dataframe"
   ]
  },
  {
   "cell_type": "code",
   "execution_count": 3,
   "metadata": {},
   "outputs": [
    {
     "name": "stdout",
     "output_type": "stream",
     "text": [
      "+------+\n",
      "|number|\n",
      "+------+\n",
      "|     0|\n",
      "|     3|\n",
      "|     6|\n",
      "|     9|\n",
      "|    12|\n",
      "|    15|\n",
      "|    18|\n",
      "|    21|\n",
      "|    24|\n",
      "|    27|\n",
      "|    30|\n",
      "|    33|\n",
      "|    36|\n",
      "|    39|\n",
      "|    42|\n",
      "|    45|\n",
      "|    48|\n",
      "|    51|\n",
      "|    54|\n",
      "|    57|\n",
      "+------+\n",
      "only showing top 20 rows\n",
      "\n"
     ]
    }
   ],
   "source": [
    "divBy3.show()"
   ]
  },
  {
   "cell_type": "code",
   "execution_count": 4,
   "metadata": {},
   "outputs": [
    {
     "name": "stdout",
     "output_type": "stream",
     "text": [
      "+--------------------+-------------------+-----+\n",
      "|   DEST_COUNTRY_NAME|ORIGIN_COUNTRY_NAME|count|\n",
      "+--------------------+-------------------+-----+\n",
      "|       United States|            Romania|   15|\n",
      "|       United States|            Croatia|    1|\n",
      "|       United States|            Ireland|  344|\n",
      "|               Egypt|      United States|   15|\n",
      "|       United States|              India|   62|\n",
      "|       United States|          Singapore|    1|\n",
      "|       United States|            Grenada|   62|\n",
      "|          Costa Rica|      United States|  588|\n",
      "|             Senegal|      United States|   40|\n",
      "|             Moldova|      United States|    1|\n",
      "|       United States|       Sint Maarten|  325|\n",
      "|       United States|   Marshall Islands|   39|\n",
      "|              Guyana|      United States|   64|\n",
      "|               Malta|      United States|    1|\n",
      "|            Anguilla|      United States|   41|\n",
      "|             Bolivia|      United States|   30|\n",
      "|       United States|           Paraguay|    6|\n",
      "|             Algeria|      United States|    4|\n",
      "|Turks and Caicos ...|      United States|  230|\n",
      "|       United States|          Gibraltar|    1|\n",
      "+--------------------+-------------------+-----+\n",
      "only showing top 20 rows\n",
      "\n",
      "root\n",
      " |-- DEST_COUNTRY_NAME: string (nullable = true)\n",
      " |-- ORIGIN_COUNTRY_NAME: string (nullable = true)\n",
      " |-- count: integer (nullable = true)\n",
      "\n",
      "+--------------------+-------------------+-----+\n",
      "|   DEST_COUNTRY_NAME|ORIGIN_COUNTRY_NAME|count|\n",
      "+--------------------+-------------------+-----+\n",
      "|       United States|            Estonia|    1|\n",
      "|              Kosovo|      United States|    1|\n",
      "|              Zambia|      United States|    1|\n",
      "|       United States|   Papua New Guinea|    1|\n",
      "|               Malta|      United States|    1|\n",
      "|       United States|          Gibraltar|    1|\n",
      "|            Suriname|      United States|    1|\n",
      "|       United States|            Croatia|    1|\n",
      "|            Djibouti|      United States|    1|\n",
      "|        Burkina Faso|      United States|    1|\n",
      "|Saint Vincent and...|      United States|    1|\n",
      "|       United States|             Cyprus|    1|\n",
      "|       United States|          Singapore|    1|\n",
      "|             Moldova|      United States|    1|\n",
      "|              Cyprus|      United States|    1|\n",
      "|       United States|          Lithuania|    1|\n",
      "|       United States|           Bulgaria|    1|\n",
      "|       United States|            Georgia|    1|\n",
      "|       United States|            Bahrain|    1|\n",
      "|       Cote d'Ivoire|      United States|    1|\n",
      "+--------------------+-------------------+-----+\n",
      "only showing top 20 rows\n",
      "\n",
      "+------------------+-------------------+------+\n",
      "| DEST_COUNTRY_NAME|ORIGIN_COUNTRY_NAME| count|\n",
      "+------------------+-------------------+------+\n",
      "|     United States|      United States|370002|\n",
      "|     United States|             Canada|  8483|\n",
      "|            Canada|      United States|  8399|\n",
      "|     United States|             Mexico|  7187|\n",
      "|            Mexico|      United States|  7140|\n",
      "|    United Kingdom|      United States|  2025|\n",
      "|     United States|     United Kingdom|  1970|\n",
      "|             Japan|      United States|  1548|\n",
      "|     United States|              Japan|  1496|\n",
      "|           Germany|      United States|  1468|\n",
      "|     United States| Dominican Republic|  1420|\n",
      "|Dominican Republic|      United States|  1353|\n",
      "|     United States|            Germany|  1336|\n",
      "|       South Korea|      United States|  1048|\n",
      "|     United States|        The Bahamas|   986|\n",
      "|       The Bahamas|      United States|   955|\n",
      "|     United States|             France|   952|\n",
      "|            France|      United States|   935|\n",
      "|     United States|              China|   920|\n",
      "|          Colombia|      United States|   873|\n",
      "+------------------+-------------------+------+\n",
      "only showing top 20 rows\n",
      "\n"
     ]
    }
   ],
   "source": [
    "#working with CSV file\n",
    "flightdata = spark.read.option(\"inferSchema\",\"true\").option(\"header\",\"true\").csv(\"2015-summary.csv\")\n",
    "flightdata.show()\n",
    "flightdata.printSchema()\n",
    "\n",
    "#sort ascending\n",
    "sorted_flightdata = flightdata.sort(\"count\")\n",
    "sorted_flightdata.show()\n",
    "\n",
    "#sort descending\n",
    "from pyspark.sql.functions import col,desc\n",
    "sorted_flightdata_desc = flightdata.sort(desc(\"count\"))\n",
    "sorted_flightdata_desc.show()"
   ]
  },
  {
   "cell_type": "code",
   "execution_count": 5,
   "metadata": {},
   "outputs": [
    {
     "name": "stdout",
     "output_type": "stream",
     "text": [
      "+--------------------+--------------------+-----+\n",
      "|   DEST_COUNTRY_NAME| ORIGIN_COUNTRY_NAME|count|\n",
      "+--------------------+--------------------+-----+\n",
      "|       United States|             Romania|   15|\n",
      "|       United States|             Ireland|  344|\n",
      "|               Egypt|       United States|   15|\n",
      "|       United States|               India|   62|\n",
      "|       United States|             Grenada|   62|\n",
      "|          Costa Rica|       United States|  588|\n",
      "|             Senegal|       United States|   40|\n",
      "|       United States|        Sint Maarten|  325|\n",
      "|       United States|    Marshall Islands|   39|\n",
      "|              Guyana|       United States|   64|\n",
      "|            Anguilla|       United States|   41|\n",
      "|             Bolivia|       United States|   30|\n",
      "|Turks and Caicos ...|       United States|  230|\n",
      "|               Italy|       United States|  382|\n",
      "|       United States|Federated States ...|   69|\n",
      "|       United States|              Russia|  161|\n",
      "|            Pakistan|       United States|   12|\n",
      "|       United States|         Netherlands|  660|\n",
      "|             Iceland|       United States|  181|\n",
      "|    Marshall Islands|       United States|   42|\n",
      "+--------------------+--------------------+-----+\n",
      "only showing top 20 rows\n",
      "\n",
      "+--------------------+--------------------+-----+\n",
      "|   DEST_COUNTRY_NAME| ORIGIN_COUNTRY_NAME|count|\n",
      "+--------------------+--------------------+-----+\n",
      "|       United States|             Romania|   15|\n",
      "|       United States|             Ireland|  344|\n",
      "|               Egypt|       United States|   15|\n",
      "|       United States|               India|   62|\n",
      "|       United States|             Grenada|   62|\n",
      "|          Costa Rica|       United States|  588|\n",
      "|             Senegal|       United States|   40|\n",
      "|       United States|        Sint Maarten|  325|\n",
      "|       United States|    Marshall Islands|   39|\n",
      "|              Guyana|       United States|   64|\n",
      "|            Anguilla|       United States|   41|\n",
      "|             Bolivia|       United States|   30|\n",
      "|Turks and Caicos ...|       United States|  230|\n",
      "|               Italy|       United States|  382|\n",
      "|       United States|Federated States ...|   69|\n",
      "|       United States|              Russia|  161|\n",
      "|            Pakistan|       United States|   12|\n",
      "|       United States|         Netherlands|  660|\n",
      "|             Iceland|       United States|  181|\n",
      "|    Marshall Islands|       United States|   42|\n",
      "+--------------------+--------------------+-----+\n",
      "only showing top 20 rows\n",
      "\n",
      "+--------------------+--------------------+-----+\n",
      "|   DEST_COUNTRY_NAME| ORIGIN_COUNTRY_NAME|count|\n",
      "+--------------------+--------------------+-----+\n",
      "|       United States|             Romania|   15|\n",
      "|       United States|             Ireland|  344|\n",
      "|               Egypt|       United States|   15|\n",
      "|       United States|               India|   62|\n",
      "|       United States|             Grenada|   62|\n",
      "|          Costa Rica|       United States|  588|\n",
      "|             Senegal|       United States|   40|\n",
      "|       United States|        Sint Maarten|  325|\n",
      "|       United States|    Marshall Islands|   39|\n",
      "|              Guyana|       United States|   64|\n",
      "|            Anguilla|       United States|   41|\n",
      "|             Bolivia|       United States|   30|\n",
      "|Turks and Caicos ...|       United States|  230|\n",
      "|               Italy|       United States|  382|\n",
      "|       United States|Federated States ...|   69|\n",
      "|       United States|              Russia|  161|\n",
      "|            Pakistan|       United States|   12|\n",
      "|       United States|         Netherlands|  660|\n",
      "|             Iceland|       United States|  181|\n",
      "|    Marshall Islands|       United States|   42|\n",
      "+--------------------+--------------------+-----+\n",
      "only showing top 20 rows\n",
      "\n",
      "+-----------------+--------------------+-----+\n",
      "|DEST_COUNTRY_NAME| ORIGIN_COUNTRY_NAME|count|\n",
      "+-----------------+--------------------+-----+\n",
      "|    United States|             Romania|   15|\n",
      "|    United States|             Croatia|    1|\n",
      "|    United States|             Ireland|  344|\n",
      "|    United States|               India|   62|\n",
      "|    United States|           Singapore|    1|\n",
      "|    United States|             Grenada|   62|\n",
      "|    United States|        Sint Maarten|  325|\n",
      "|    United States|    Marshall Islands|   39|\n",
      "|    United States|            Paraguay|    6|\n",
      "|    United States|           Gibraltar|    1|\n",
      "|    United States|Federated States ...|   69|\n",
      "|    United States|              Russia|  161|\n",
      "|    United States|         Netherlands|  660|\n",
      "|    United States|             Senegal|   42|\n",
      "|    United States|              Angola|   13|\n",
      "|    United States|            Anguilla|   38|\n",
      "|    United States|             Ecuador|  300|\n",
      "|    United States|              Cyprus|    1|\n",
      "|    United States|            Portugal|  134|\n",
      "|    United States|          Costa Rica|  608|\n",
      "+-----------------+--------------------+-----+\n",
      "only showing top 20 rows\n",
      "\n",
      "+--------------------+-------------------+-----+\n",
      "|   DEST_COUNTRY_NAME|ORIGIN_COUNTRY_NAME|count|\n",
      "+--------------------+-------------------+-----+\n",
      "|       United States|            Romania|   15|\n",
      "|       United States|            Croatia|    1|\n",
      "|       United States|            Ireland|  344|\n",
      "|               Egypt|      United States|   15|\n",
      "|       United States|              India|   62|\n",
      "|       United States|          Singapore|    1|\n",
      "|       United States|            Grenada|   62|\n",
      "|          Costa Rica|      United States|  588|\n",
      "|             Senegal|      United States|   40|\n",
      "|             Moldova|      United States|    1|\n",
      "|       United States|       Sint Maarten|  325|\n",
      "|       United States|   Marshall Islands|   39|\n",
      "|              Guyana|      United States|   64|\n",
      "|               Malta|      United States|    1|\n",
      "|            Anguilla|      United States|   41|\n",
      "|             Bolivia|      United States|   30|\n",
      "|       United States|           Paraguay|    6|\n",
      "|             Algeria|      United States|    4|\n",
      "|Turks and Caicos ...|      United States|  230|\n",
      "|       United States|          Gibraltar|    1|\n",
      "+--------------------+-------------------+-----+\n",
      "only showing top 20 rows\n",
      "\n",
      "+-----------------+-------------------+------+\n",
      "|DEST_COUNTRY_NAME|ORIGIN_COUNTRY_NAME| count|\n",
      "+-----------------+-------------------+------+\n",
      "|    United States|      United States|370002|\n",
      "+-----------------+-------------------+------+\n",
      "\n"
     ]
    }
   ],
   "source": [
    "#filter data\n",
    "#1. using sql code\n",
    "flightdata.createOrReplaceTempView(\"flighTable\")\n",
    "spark.sql(\"\"\"SELECT * FROM flighTable WHERE count > 10\"\"\").show()\n",
    "#2. using where command\n",
    "flightdata.where(col(\"count\")>10).show()\n",
    "#3. Using filter\n",
    "flightdata.filter(col(\"count\")>10).show()\n",
    "\n",
    "#all returns the same\n",
    "\n",
    "#other Examples\n",
    "flightdata.filter(col(\"DEST_COUNTRY_NAME\")==\"United States\").show()\n",
    "\n",
    "#more filter\n",
    "flightdata.filter((col(\"DEST_COUNTRY_NAME\")==\"United States\") | (col(\"ORIGIN_COUNTRY_NAME\")==\"United States\")).show()\n",
    "\n",
    "flightdata.filter((col(\"DEST_COUNTRY_NAME\")==\"United States\") & (col(\"ORIGIN_COUNTRY_NAME\")==\"United States\")).show()"
   ]
  },
  {
   "cell_type": "markdown",
   "metadata": {},
   "source": [
    "#### ADDING NEW Column"
   ]
  },
  {
   "cell_type": "code",
   "execution_count": 6,
   "metadata": {},
   "outputs": [
    {
     "name": "stdout",
     "output_type": "stream",
     "text": [
      "+--------------------+-------------------+-----+------+\n",
      "|   DEST_COUNTRY_NAME|ORIGIN_COUNTRY_NAME|count|newCol|\n",
      "+--------------------+-------------------+-----+------+\n",
      "|       United States|            Romania|   15|    25|\n",
      "|       United States|            Croatia|    1|    11|\n",
      "|       United States|            Ireland|  344|   354|\n",
      "|               Egypt|      United States|   15|    25|\n",
      "|       United States|              India|   62|    72|\n",
      "|       United States|          Singapore|    1|    11|\n",
      "|       United States|            Grenada|   62|    72|\n",
      "|          Costa Rica|      United States|  588|   598|\n",
      "|             Senegal|      United States|   40|    50|\n",
      "|             Moldova|      United States|    1|    11|\n",
      "|       United States|       Sint Maarten|  325|   335|\n",
      "|       United States|   Marshall Islands|   39|    49|\n",
      "|              Guyana|      United States|   64|    74|\n",
      "|               Malta|      United States|    1|    11|\n",
      "|            Anguilla|      United States|   41|    51|\n",
      "|             Bolivia|      United States|   30|    40|\n",
      "|       United States|           Paraguay|    6|    16|\n",
      "|             Algeria|      United States|    4|    14|\n",
      "|Turks and Caicos ...|      United States|  230|   240|\n",
      "|       United States|          Gibraltar|    1|    11|\n",
      "+--------------------+-------------------+-----+------+\n",
      "only showing top 20 rows\n",
      "\n"
     ]
    }
   ],
   "source": [
    "#adding new columns in Data Frame\n",
    "flightdata.withColumn(\"newCol\",col(\"count\") + 10).show()\n",
    "#OR\n",
    "#flightdata.select(\"DEST_COUNTRY_NAME\",\"ORIGIN_COUNTRY_NAME\",\"count\",(col(\"count\") + 10).alias(\"newCol2\")).show()\n",
    "#or\n",
    "#flightdata.select(\"*\",(col(\"count\") + 10).alias(\"newCol2\")).show()"
   ]
  },
  {
   "cell_type": "code",
   "execution_count": 7,
   "metadata": {},
   "outputs": [
    {
     "name": "stdout",
     "output_type": "stream",
     "text": [
      "+--------------------+-------+\n",
      "|   DEST_COUNTRY_NAME|newCol2|\n",
      "+--------------------+-------+\n",
      "|       United States|     25|\n",
      "|       United States|     11|\n",
      "|       United States|    354|\n",
      "|               Egypt|     25|\n",
      "|       United States|     72|\n",
      "|       United States|     11|\n",
      "|       United States|     72|\n",
      "|          Costa Rica|    598|\n",
      "|             Senegal|     50|\n",
      "|             Moldova|     11|\n",
      "|       United States|    335|\n",
      "|       United States|     49|\n",
      "|              Guyana|     74|\n",
      "|               Malta|     11|\n",
      "|            Anguilla|     51|\n",
      "|             Bolivia|     40|\n",
      "|       United States|     16|\n",
      "|             Algeria|     14|\n",
      "|Turks and Caicos ...|    240|\n",
      "|       United States|     11|\n",
      "+--------------------+-------+\n",
      "only showing top 20 rows\n",
      "\n"
     ]
    }
   ],
   "source": [
    "#Droping a column\n",
    "flightdata.select(\"DEST_COUNTRY_NAME\",(col(\"count\") + 10).alias(\"newCol2\")).show()"
   ]
  },
  {
   "cell_type": "markdown",
   "metadata": {},
   "source": [
    "#### Statistics"
   ]
  },
  {
   "cell_type": "code",
   "execution_count": 8,
   "metadata": {},
   "outputs": [],
   "source": [
    "from pyspark.sql.functions import mean,min,max,stddev_pop,stddev_samp,covar_pop,covar_samp,corr,count,sum,countDistinct\n"
   ]
  },
  {
   "cell_type": "code",
   "execution_count": 9,
   "metadata": {},
   "outputs": [
    {
     "name": "stdout",
     "output_type": "stream",
     "text": [
      "+----------+\n",
      "|max(count)|\n",
      "+----------+\n",
      "|    370002|\n",
      "+----------+\n",
      "\n"
     ]
    }
   ],
   "source": [
    "#Find the maximum number of flights from Origin country to Destination country by reading flightdata.\n",
    "flightdata.select(max(\"count\")).show()"
   ]
  },
  {
   "cell_type": "code",
   "execution_count": 10,
   "metadata": {},
   "outputs": [
    {
     "name": "stdout",
     "output_type": "stream",
     "text": [
      "+------------+\n",
      "|count(count)|\n",
      "+------------+\n",
      "|         208|\n",
      "+------------+\n",
      "\n"
     ]
    }
   ],
   "source": [
    "#Count those rows where number of flights going from Origin country to Destination country are greater than 10 by reading flightdata again.\n",
    "flightdata.filter(col(\"count\")>10).select(count(\"count\")).show()\n",
    "#NOT flightdata.select(count(\"count\")).filter(col(\"count\")>10).show()"
   ]
  },
  {
   "cell_type": "code",
   "execution_count": 11,
   "metadata": {},
   "outputs": [
    {
     "name": "stdout",
     "output_type": "stream",
     "text": [
      "+----------+\n",
      "|sum(count)|\n",
      "+----------+\n",
      "|    411352|\n",
      "+----------+\n",
      "\n"
     ]
    }
   ],
   "source": [
    "#Count total number of flights having destination country name is United States.\n",
    "flightdata.filter((col(\"DEST_COUNTRY_NAME\")==\"United States\")).select(sum(\"count\")).show()"
   ]
  },
  {
   "cell_type": "markdown",
   "metadata": {},
   "source": [
    "#### GroupBy"
   ]
  },
  {
   "cell_type": "code",
   "execution_count": 12,
   "metadata": {},
   "outputs": [
    {
     "name": "stdout",
     "output_type": "stream",
     "text": [
      "+--------------------+----------+\n",
      "|   DEST_COUNTRY_NAME|sum(count)|\n",
      "+--------------------+----------+\n",
      "|            Anguilla|        41|\n",
      "|              Russia|       176|\n",
      "|            Paraguay|        60|\n",
      "|             Senegal|        40|\n",
      "|              Sweden|       118|\n",
      "|            Kiribati|        26|\n",
      "|              Guyana|        64|\n",
      "|         Philippines|       134|\n",
      "|            Djibouti|         1|\n",
      "|            Malaysia|         2|\n",
      "|           Singapore|         3|\n",
      "|                Fiji|        24|\n",
      "|              Turkey|       138|\n",
      "|                Iraq|         1|\n",
      "|             Germany|      1468|\n",
      "|              Jordan|        44|\n",
      "|               Palau|        30|\n",
      "|Turks and Caicos ...|       230|\n",
      "|              France|       935|\n",
      "|              Greece|        30|\n",
      "+--------------------+----------+\n",
      "only showing top 20 rows\n",
      "\n"
     ]
    }
   ],
   "source": [
    "dest_Country_count = flightdata.groupBy(\"DEST_COUNTRY_NAME\").agg(sum(\"count\"))\n",
    "dest_Country_count.show()\n",
    "\n",
    "#OR\n",
    "#dest_Country_count = flightdata.groupBy(\"DEST_COUNTRY_NAME\").agg({\"count\":\"sum\"})"
   ]
  },
  {
   "cell_type": "markdown",
   "metadata": {},
   "source": [
    "#### Save Data in CSV"
   ]
  },
  {
   "cell_type": "code",
   "execution_count": 13,
   "metadata": {},
   "outputs": [
    {
     "ename": "AnalysisException",
     "evalue": "path file:/F:/Koblenz/Study/2nd semester/Big Data/Exam 2/DataFrames/dest_Country already exists.",
     "output_type": "error",
     "traceback": [
      "\u001b[1;31m---------------------------------------------------------------------------\u001b[0m",
      "\u001b[1;31mAnalysisException\u001b[0m                         Traceback (most recent call last)",
      "\u001b[1;32m<ipython-input-13-4b2995899fe1>\u001b[0m in \u001b[0;36m<module>\u001b[1;34m\u001b[0m\n\u001b[1;32m----> 1\u001b[1;33m \u001b[0mdest_Country_count\u001b[0m\u001b[1;33m.\u001b[0m\u001b[0mwrite\u001b[0m\u001b[1;33m.\u001b[0m\u001b[0mformat\u001b[0m\u001b[1;33m(\u001b[0m\u001b[1;34m\"csv\"\u001b[0m\u001b[1;33m)\u001b[0m\u001b[1;33m.\u001b[0m\u001b[0moption\u001b[0m\u001b[1;33m(\u001b[0m\u001b[1;34m\"header\"\u001b[0m\u001b[1;33m,\u001b[0m\u001b[1;34m\"true\"\u001b[0m\u001b[1;33m)\u001b[0m\u001b[1;33m.\u001b[0m\u001b[0msave\u001b[0m\u001b[1;33m(\u001b[0m\u001b[1;34m\"dest_Country\"\u001b[0m\u001b[1;33m)\u001b[0m\u001b[1;33m\u001b[0m\u001b[1;33m\u001b[0m\u001b[0m\n\u001b[0m",
      "\u001b[1;32mC:\\spark-3.1.1-bin-hadoop2.7\\python\\pyspark\\sql\\readwriter.py\u001b[0m in \u001b[0;36msave\u001b[1;34m(self, path, format, mode, partitionBy, **options)\u001b[0m\n\u001b[0;32m   1107\u001b[0m             \u001b[0mself\u001b[0m\u001b[1;33m.\u001b[0m\u001b[0m_jwrite\u001b[0m\u001b[1;33m.\u001b[0m\u001b[0msave\u001b[0m\u001b[1;33m(\u001b[0m\u001b[1;33m)\u001b[0m\u001b[1;33m\u001b[0m\u001b[1;33m\u001b[0m\u001b[0m\n\u001b[0;32m   1108\u001b[0m         \u001b[1;32melse\u001b[0m\u001b[1;33m:\u001b[0m\u001b[1;33m\u001b[0m\u001b[1;33m\u001b[0m\u001b[0m\n\u001b[1;32m-> 1109\u001b[1;33m             \u001b[0mself\u001b[0m\u001b[1;33m.\u001b[0m\u001b[0m_jwrite\u001b[0m\u001b[1;33m.\u001b[0m\u001b[0msave\u001b[0m\u001b[1;33m(\u001b[0m\u001b[0mpath\u001b[0m\u001b[1;33m)\u001b[0m\u001b[1;33m\u001b[0m\u001b[1;33m\u001b[0m\u001b[0m\n\u001b[0m\u001b[0;32m   1110\u001b[0m \u001b[1;33m\u001b[0m\u001b[0m\n\u001b[0;32m   1111\u001b[0m     \u001b[1;33m@\u001b[0m\u001b[0msince\u001b[0m\u001b[1;33m(\u001b[0m\u001b[1;36m1.4\u001b[0m\u001b[1;33m)\u001b[0m\u001b[1;33m\u001b[0m\u001b[1;33m\u001b[0m\u001b[0m\n",
      "\u001b[1;32mC:\\spark-3.1.1-bin-hadoop2.7\\python\\lib\\py4j-0.10.9-src.zip\\py4j\\java_gateway.py\u001b[0m in \u001b[0;36m__call__\u001b[1;34m(self, *args)\u001b[0m\n\u001b[0;32m   1302\u001b[0m \u001b[1;33m\u001b[0m\u001b[0m\n\u001b[0;32m   1303\u001b[0m         \u001b[0manswer\u001b[0m \u001b[1;33m=\u001b[0m \u001b[0mself\u001b[0m\u001b[1;33m.\u001b[0m\u001b[0mgateway_client\u001b[0m\u001b[1;33m.\u001b[0m\u001b[0msend_command\u001b[0m\u001b[1;33m(\u001b[0m\u001b[0mcommand\u001b[0m\u001b[1;33m)\u001b[0m\u001b[1;33m\u001b[0m\u001b[1;33m\u001b[0m\u001b[0m\n\u001b[1;32m-> 1304\u001b[1;33m         return_value = get_return_value(\n\u001b[0m\u001b[0;32m   1305\u001b[0m             answer, self.gateway_client, self.target_id, self.name)\n\u001b[0;32m   1306\u001b[0m \u001b[1;33m\u001b[0m\u001b[0m\n",
      "\u001b[1;32mC:\\spark-3.1.1-bin-hadoop2.7\\python\\pyspark\\sql\\utils.py\u001b[0m in \u001b[0;36mdeco\u001b[1;34m(*a, **kw)\u001b[0m\n\u001b[0;32m    115\u001b[0m                 \u001b[1;31m# Hide where the exception came from that shows a non-Pythonic\u001b[0m\u001b[1;33m\u001b[0m\u001b[1;33m\u001b[0m\u001b[1;33m\u001b[0m\u001b[0m\n\u001b[0;32m    116\u001b[0m                 \u001b[1;31m# JVM exception message.\u001b[0m\u001b[1;33m\u001b[0m\u001b[1;33m\u001b[0m\u001b[1;33m\u001b[0m\u001b[0m\n\u001b[1;32m--> 117\u001b[1;33m                 \u001b[1;32mraise\u001b[0m \u001b[0mconverted\u001b[0m \u001b[1;32mfrom\u001b[0m \u001b[1;32mNone\u001b[0m\u001b[1;33m\u001b[0m\u001b[1;33m\u001b[0m\u001b[0m\n\u001b[0m\u001b[0;32m    118\u001b[0m             \u001b[1;32melse\u001b[0m\u001b[1;33m:\u001b[0m\u001b[1;33m\u001b[0m\u001b[1;33m\u001b[0m\u001b[0m\n\u001b[0;32m    119\u001b[0m                 \u001b[1;32mraise\u001b[0m\u001b[1;33m\u001b[0m\u001b[1;33m\u001b[0m\u001b[0m\n",
      "\u001b[1;31mAnalysisException\u001b[0m: path file:/F:/Koblenz/Study/2nd semester/Big Data/Exam 2/DataFrames/dest_Country already exists."
     ]
    }
   ],
   "source": [
    "dest_Country_count.write.format(\"csv\").option(\"header\",\"true\").save(\"dest_Country\")"
   ]
  },
  {
   "cell_type": "code",
   "execution_count": null,
   "metadata": {},
   "outputs": [],
   "source": [
    "#Using coal\n",
    "dest_Country_count_merged = dest_Country_count.coalesce(1)\n",
    "dest_Country_count_merged.write.format(\"csv\").option(\"header\",\"true\").save(\"dest_Country_coal\")"
   ]
  },
  {
   "cell_type": "markdown",
   "metadata": {},
   "source": [
    "### Another Example"
   ]
  },
  {
   "cell_type": "code",
   "execution_count": 67,
   "metadata": {},
   "outputs": [
    {
     "name": "stdout",
     "output_type": "stream",
     "text": [
      "+---------+---------+--------------------+--------+--------------+---------+----------+--------------+\n",
      "|InvoiceNo|StockCode|         Description|Quantity|   InvoiceDate|UnitPrice|CustomerID|       Country|\n",
      "+---------+---------+--------------------+--------+--------------+---------+----------+--------------+\n",
      "|   536365|   85123A|WHITE HANGING HEA...|       6|12/1/2010 8:26|     2.55|     17850|United Kingdom|\n",
      "|   536365|    71053| WHITE METAL LANTERN|       6|12/1/2010 8:26|     3.39|     17850|United Kingdom|\n",
      "|   536365|   84406B|CREAM CUPID HEART...|       8|12/1/2010 8:26|     2.75|     17850|United Kingdom|\n",
      "|   536365|   84029G|KNITTED UNION FLA...|       6|12/1/2010 8:26|     3.39|     17850|United Kingdom|\n",
      "|   536365|   84029E|RED WOOLLY HOTTIE...|       6|12/1/2010 8:26|     3.39|     17850|United Kingdom|\n",
      "|   536365|    22752|SET 7 BABUSHKA NE...|       2|12/1/2010 8:26|     7.65|     17850|United Kingdom|\n",
      "|   536365|    21730|GLASS STAR FROSTE...|       6|12/1/2010 8:26|     4.25|     17850|United Kingdom|\n",
      "|   536366|    22633|HAND WARMER UNION...|       6|12/1/2010 8:28|     1.85|     17850|United Kingdom|\n",
      "|   536366|    22632|HAND WARMER RED P...|       6|12/1/2010 8:28|     1.85|     17850|United Kingdom|\n",
      "|   536367|    84879|ASSORTED COLOUR B...|      32|12/1/2010 8:34|     1.69|     13047|United Kingdom|\n",
      "|   536367|    22745|POPPY'S PLAYHOUSE...|       6|12/1/2010 8:34|      2.1|     13047|United Kingdom|\n",
      "|   536367|    22748|POPPY'S PLAYHOUSE...|       6|12/1/2010 8:34|      2.1|     13047|United Kingdom|\n",
      "|   536367|    22749|FELTCRAFT PRINCES...|       8|12/1/2010 8:34|     3.75|     13047|United Kingdom|\n",
      "|   536367|    22310|IVORY KNITTED MUG...|       6|12/1/2010 8:34|     1.65|     13047|United Kingdom|\n",
      "|   536367|    84969|BOX OF 6 ASSORTED...|       6|12/1/2010 8:34|     4.25|     13047|United Kingdom|\n",
      "|   536367|    22623|BOX OF VINTAGE JI...|       3|12/1/2010 8:34|     4.95|     13047|United Kingdom|\n",
      "|   536367|    22622|BOX OF VINTAGE AL...|       2|12/1/2010 8:34|     9.95|     13047|United Kingdom|\n",
      "|   536367|    21754|HOME BUILDING BLO...|       3|12/1/2010 8:34|     5.95|     13047|United Kingdom|\n",
      "|   536367|    21755|LOVE BUILDING BLO...|       3|12/1/2010 8:34|     5.95|     13047|United Kingdom|\n",
      "|   536367|    21777|RECIPE BOX WITH M...|       4|12/1/2010 8:34|     7.95|     13047|United Kingdom|\n",
      "+---------+---------+--------------------+--------+--------------+---------+----------+--------------+\n",
      "only showing top 20 rows\n",
      "\n",
      "root\n",
      " |-- InvoiceNo: string (nullable = true)\n",
      " |-- StockCode: string (nullable = true)\n",
      " |-- Description: string (nullable = true)\n",
      " |-- Quantity: integer (nullable = true)\n",
      " |-- InvoiceDate: string (nullable = true)\n",
      " |-- UnitPrice: double (nullable = true)\n",
      " |-- CustomerID: integer (nullable = true)\n",
      " |-- Country: string (nullable = true)\n",
      "\n"
     ]
    }
   ],
   "source": [
    "#retaildata = spark.read.option(\"inferSchema\",\"true\").option(\"header\",\"true\").csv(\"online-retail-dataset.csv\")\n",
    "\n",
    "#For date and time while loading the csv use timestamp\n",
    "\n",
    "retaildata = spark.read.option(\"inferSchema\",\"true\").option(\"header\",\"true\").option(\"timestampFormat\", \"dd-MM-yyyy HH:mm:ss\").csv(\"online-retail-dataset.csv\")\n",
    "retaildata.show()\n",
    "retaildata.printSchema()\n",
    "\n"
   ]
  },
  {
   "cell_type": "code",
   "execution_count": 15,
   "metadata": {},
   "outputs": [
    {
     "name": "stdout",
     "output_type": "stream",
     "text": [
      "+---------+------------+\n",
      "|StockCode|sum_quantity|\n",
      "+---------+------------+\n",
      "|    22197|       56450|\n",
      "|    84077|       53847|\n",
      "|   85099B|       47363|\n",
      "|   85123A|       38830|\n",
      "|    84879|       36221|\n",
      "+---------+------------+\n",
      "only showing top 5 rows\n",
      "\n",
      "+---------+--------------------+\n",
      "|StockCode|         Description|\n",
      "+---------+--------------------+\n",
      "|    22197|SMALL POPCORN HOLDER|\n",
      "|    22197|      POPCORN HOLDER|\n",
      "+---------+--------------------+\n",
      "\n"
     ]
    }
   ],
   "source": [
    "#Which item was bought most (total)\n",
    "most_bought = retaildata.groupBy(col(\"StockCode\")).agg(sum(col(\"Quantity\")).alias(\"sum_quantity\")).sort(desc(\"sum_quantity\"))\n",
    "most_bought.show(5)\n",
    "retaildata.select(\"StockCode\",\"Description\").where(col(\"StockCode\") == \"22197\").dropDuplicates().show()\n",
    "\n"
   ]
  },
  {
   "cell_type": "code",
   "execution_count": 16,
   "metadata": {},
   "outputs": [
    {
     "name": "stdout",
     "output_type": "stream",
     "text": [
      "+---------+------------+\n",
      "|StockCode|sum_quantity|\n",
      "+---------+------------+\n",
      "|    23366|          88|\n",
      "|    20975|          72|\n",
      "|    21121|          48|\n",
      "|    21124|          48|\n",
      "|    21123|          48|\n",
      "+---------+------------+\n",
      "only showing top 5 rows\n",
      "\n",
      "+---------+--------------------+\n",
      "|StockCode|         Description|\n",
      "+---------+--------------------+\n",
      "|    23366|SET 12 COLOUR PEN...|\n",
      "|    23366|SET 12 COLOURING ...|\n",
      "|    23366|SET 12 COLOURING ...|\n",
      "+---------+--------------------+\n",
      "\n"
     ]
    }
   ],
   "source": [
    "#Which one was bought most in the USA?\n",
    "most_bought = retaildata.where(col(\"Country\") == \"USA\").groupBy(col(\"StockCode\")).agg(sum(col(\"Quantity\")).alias(\"sum_quantity\")).sort(desc(\"sum_quantity\")).show(5)\n",
    "retaildata.select(\"StockCode\",\"Description\").where(col(\"StockCode\") == \"23366\").dropDuplicates().show()"
   ]
  },
  {
   "cell_type": "code",
   "execution_count": 17,
   "metadata": {},
   "outputs": [
    {
     "name": "stdout",
     "output_type": "stream",
     "text": [
      "+---------+-----+\n",
      "|InvoiceNo|Price|\n",
      "+---------+-----+\n",
      "|   570554| 0.38|\n",
      "|   567869|  0.4|\n",
      "|   539441| 0.42|\n",
      "|   573589| 0.55|\n",
      "|   542736| 0.55|\n",
      "+---------+-----+\n",
      "only showing top 5 rows\n",
      "\n",
      "+---------+------------------+\n",
      "|InvoiceNo|             Price|\n",
      "+---------+------------------+\n",
      "|   581483|          168469.6|\n",
      "|   541431|           77183.6|\n",
      "|   574941| 52940.93999999999|\n",
      "|   576365|50653.909999999996|\n",
      "|   556444|           38970.0|\n",
      "+---------+------------------+\n",
      "only showing top 5 rows\n",
      "\n"
     ]
    }
   ],
   "source": [
    "#Which was the lowest invoice (>0), which one the highest?\n",
    "retaildata.groupBy(col(\"InvoiceNo\")).agg(sum(col(\"Quantity\") * col(\"UnitPrice\")).alias(\"Price\")).where(col(\"Price\") > 0).sort(\"Price\").show(5)\n",
    "retaildata.groupBy(col(\"InvoiceNo\")).agg(sum(col(\"Quantity\") * col(\"UnitPrice\")).alias(\"Price\")).sort(desc(\"Price\")).show(5)"
   ]
  },
  {
   "cell_type": "code",
   "execution_count": 18,
   "metadata": {},
   "outputs": [
    {
     "name": "stdout",
     "output_type": "stream",
     "text": [
      "+---------+---------+--------------------+--------+--------------+---------+----------+--------------+----------+\n",
      "|InvoiceNo|StockCode|         Description|Quantity|   InvoiceDate|UnitPrice|CustomerID|       Country|IF Germany|\n",
      "+---------+---------+--------------------+--------+--------------+---------+----------+--------------+----------+\n",
      "|   536365|   85123A|WHITE HANGING HEA...|       6|12/1/2010 8:26|     2.55|     17850|United Kingdom|     false|\n",
      "|   536365|    71053| WHITE METAL LANTERN|       6|12/1/2010 8:26|     3.39|     17850|United Kingdom|     false|\n",
      "|   536365|   84406B|CREAM CUPID HEART...|       8|12/1/2010 8:26|     2.75|     17850|United Kingdom|     false|\n",
      "|   536365|   84029G|KNITTED UNION FLA...|       6|12/1/2010 8:26|     3.39|     17850|United Kingdom|     false|\n",
      "|   536365|   84029E|RED WOOLLY HOTTIE...|       6|12/1/2010 8:26|     3.39|     17850|United Kingdom|     false|\n",
      "+---------+---------+--------------------+--------+--------------+---------+----------+--------------+----------+\n",
      "only showing top 5 rows\n",
      "\n"
     ]
    }
   ],
   "source": [
    "#Add a column which displays whether an item was purchased in Germany.\n",
    "retaildata.withColumn(\"IF Germany\",col(\"Country\") == \"Germany\").show(5)"
   ]
  },
  {
   "cell_type": "code",
   "execution_count": 20,
   "metadata": {},
   "outputs": [
    {
     "name": "stdout",
     "output_type": "stream",
     "text": [
      "+---------+--------------+--------------+\n",
      "|StockCode|       Country|Quantity_total|\n",
      "+---------+--------------+--------------+\n",
      "|    22154|United Kingdom|          3646|\n",
      "|    22478|United Kingdom|          1423|\n",
      "|    22844|United Kingdom|           916|\n",
      "|    21788|United Kingdom|           867|\n",
      "|    22042|United Kingdom|           190|\n",
      "|    22539|        France|           312|\n",
      "|    85078|         Italy|            24|\n",
      "|   85034C|         Italy|             4|\n",
      "|    22389|United Kingdom|           202|\n",
      "|    85087|United Kingdom|           304|\n",
      "|   35809A|United Kingdom|           291|\n",
      "|    84821|United Kingdom|           821|\n",
      "|    22837|         Spain|            16|\n",
      "|    21030|        Cyprus|            10|\n",
      "|    84992|        Sweden|           240|\n",
      "|    22713|   Switzerland|            12|\n",
      "|    21989|       Belgium|            36|\n",
      "|    21080|       Germany|           385|\n",
      "|   84661C|United Kingdom|            71|\n",
      "|   82613D|        Cyprus|            20|\n",
      "+---------+--------------+--------------+\n",
      "only showing top 20 rows\n",
      "\n"
     ]
    }
   ],
   "source": [
    "#GroupBy using 2 columns\n",
    "retail_selection = retaildata.groupBy(\"StockCode\", \"Country\").agg(sum(\"Quantity\").alias(\"Quantity_total\"))\n",
    "retail_selection.show()"
   ]
  },
  {
   "cell_type": "code",
   "execution_count": 21,
   "metadata": {},
   "outputs": [
    {
     "name": "stdout",
     "output_type": "stream",
     "text": [
      "+---------+---------+--------------------+--------+---------------+---------+----------+--------------+-----+\n",
      "|InvoiceNo|StockCode|         Description|Quantity|    InvoiceDate|UnitPrice|CustomerID|       Country|Price|\n",
      "+---------+---------+--------------------+--------+---------------+---------+----------+--------------+-----+\n",
      "|   536596|    21624|VINTAGE UNION JAC...|       1|12/1/2010 17:29|     5.95|      null|United Kingdom|38.09|\n",
      "|   536596|    22900| SET 2 TEA TOWELS...|       1|12/1/2010 17:29|     2.95|      null|United Kingdom|38.09|\n",
      "|   536596|    22114|HOT WATER BOTTLE ...|       1|12/1/2010 17:29|     3.95|      null|United Kingdom|38.09|\n",
      "|   536596|    21967|PACK OF 12 SKULL ...|       1|12/1/2010 17:29|     0.29|      null|United Kingdom|38.09|\n",
      "|   536596|   84926A|WAKE UP COCKEREL ...|       4|12/1/2010 17:29|     1.25|      null|United Kingdom|38.09|\n",
      "+---------+---------+--------------------+--------+---------------+---------+----------+--------------+-----+\n",
      "only showing top 5 rows\n",
      "\n"
     ]
    }
   ],
   "source": [
    "#Add a column which shows the total amount of the corresponding invoice.\n",
    "total_price = retaildata.groupBy(col(\"InvoiceNo\")).agg(sum(col(\"Quantity\") * col(\"UnitPrice\")).alias(\"Price\"))\n",
    "retaildata.join(total_price,[\"InvoiceNo\"]).show(5)\n"
   ]
  },
  {
   "cell_type": "code",
   "execution_count": 22,
   "metadata": {},
   "outputs": [
    {
     "data": {
      "text/plain": [
       "455"
      ]
     },
     "execution_count": 22,
     "metadata": {},
     "output_type": "execute_result"
    }
   ],
   "source": [
    "#How many German customers spent more than $10?\n",
    "per_Customer_cost = retaildata.where(col(\"Country\") == \"Germany\").groupBy(col(\"InvoiceNo\")).agg(sum(col(\"Quantity\") * col(\"UnitPrice\")).alias(\"Paid\"))\n",
    "per_Customer_cost.where(col(\"Paid\") > 10).count()"
   ]
  },
  {
   "cell_type": "code",
   "execution_count": 23,
   "metadata": {},
   "outputs": [
    {
     "name": "stdout",
     "output_type": "stream",
     "text": [
      "+---------+------------------+\n",
      "|InvoiceNo|              Paid|\n",
      "+---------+------------------+\n",
      "|   552978| 9341.260000000004|\n",
      "|   564856|4257.0599999999995|\n",
      "|   543737|2355.9500000000003|\n",
      "|   581179|2238.5099999999993|\n",
      "|   550137|           2221.02|\n",
      "|   540458|2169.3899999999994|\n",
      "|   569640| 2145.380000000001|\n",
      "|   576910|2037.6899999999996|\n",
      "|   538174|1982.4099999999999|\n",
      "|   557466|1965.7400000000002|\n",
      "|   571065|           1881.86|\n",
      "|   578472|           1750.46|\n",
      "|   541965|           1716.62|\n",
      "|   571328|           1697.98|\n",
      "|   537201|1631.3000000000009|\n",
      "|   539395|1484.2499999999998|\n",
      "|   547822|            1444.8|\n",
      "|   550527|1411.6699999999998|\n",
      "|   569844|1377.5499999999993|\n",
      "|   571824|1376.4299999999998|\n",
      "+---------+------------------+\n",
      "only showing top 20 rows\n",
      "\n"
     ]
    }
   ],
   "source": [
    "#Sort the German customers with respect to their total invoice in descending order.\n",
    "per_Customer_cost.sort(desc(\"Paid\")).show()"
   ]
  },
  {
   "cell_type": "code",
   "execution_count": 24,
   "metadata": {},
   "outputs": [
    {
     "name": "stdout",
     "output_type": "stream",
     "text": [
      "+----------+----------------+\n",
      "|CustomerID|count(InvoiceNo)|\n",
      "+----------+----------------+\n",
      "|     15619|               1|\n",
      "|     17389|              43|\n",
      "|     12940|               4|\n",
      "|     13623|               7|\n",
      "|     14450|               3|\n",
      "|     15727|               7|\n",
      "|     15790|               1|\n",
      "|     13285|               4|\n",
      "|     14570|               2|\n",
      "|     16574|               1|\n",
      "|     13832|               2|\n",
      "|     16503|               5|\n",
      "|     15957|               1|\n",
      "|     17679|               2|\n",
      "|     17420|               3|\n",
      "|     15447|               1|\n",
      "|     16386|               2|\n",
      "|     18024|               3|\n",
      "|     16861|               3|\n",
      "|     16339|               1|\n",
      "+----------+----------------+\n",
      "only showing top 20 rows\n",
      "\n"
     ]
    },
    {
     "data": {
      "text/plain": [
       "DataFrame[Desh: int, count(InvoiceNo): bigint]"
      ]
     },
     "execution_count": 24,
     "metadata": {},
     "output_type": "execute_result"
    }
   ],
   "source": [
    "#changing column name after groupby\n",
    "df = retaildata.where(col(\"Country\") == \"United Kingdom\").groupBy(col(\"CustomerID\")).agg(countDistinct(\"InvoiceNo\"))\n",
    "df.show()\n",
    "df.withColumnRenamed(\"CustomerID\",\"Desh\")"
   ]
  },
  {
   "cell_type": "code",
   "execution_count": 71,
   "metadata": {},
   "outputs": [
    {
     "name": "stdout",
     "output_type": "stream",
     "text": [
      "root\n",
      " |-- InvoiceNo: string (nullable = true)\n",
      " |-- StockCode: string (nullable = true)\n",
      " |-- Description: string (nullable = true)\n",
      " |-- Quantity: integer (nullable = true)\n",
      " |-- InvoiceDate: timestamp (nullable = true)\n",
      " |-- UnitPrice: double (nullable = true)\n",
      " |-- CustomerID: integer (nullable = true)\n",
      " |-- Country: string (nullable = true)\n",
      "\n",
      "+---------+---------+--------------------+--------+-----------+---------+----------+--------------+\n",
      "|InvoiceNo|StockCode|         Description|Quantity|InvoiceDate|UnitPrice|CustomerID|       Country|\n",
      "+---------+---------+--------------------+--------+-----------+---------+----------+--------------+\n",
      "|   536365|   85123A|WHITE HANGING HEA...|       6|       null|     2.55|     17850|United Kingdom|\n",
      "|   536365|    71053| WHITE METAL LANTERN|       6|       null|     3.39|     17850|United Kingdom|\n",
      "|   536365|   84406B|CREAM CUPID HEART...|       8|       null|     2.75|     17850|United Kingdom|\n",
      "|   536365|   84029G|KNITTED UNION FLA...|       6|       null|     3.39|     17850|United Kingdom|\n",
      "|   536365|   84029E|RED WOOLLY HOTTIE...|       6|       null|     3.39|     17850|United Kingdom|\n",
      "|   536365|    22752|SET 7 BABUSHKA NE...|       2|       null|     7.65|     17850|United Kingdom|\n",
      "|   536365|    21730|GLASS STAR FROSTE...|       6|       null|     4.25|     17850|United Kingdom|\n",
      "|   536366|    22633|HAND WARMER UNION...|       6|       null|     1.85|     17850|United Kingdom|\n",
      "|   536366|    22632|HAND WARMER RED P...|       6|       null|     1.85|     17850|United Kingdom|\n",
      "|   536367|    84879|ASSORTED COLOUR B...|      32|       null|     1.69|     13047|United Kingdom|\n",
      "|   536367|    22745|POPPY'S PLAYHOUSE...|       6|       null|      2.1|     13047|United Kingdom|\n",
      "|   536367|    22748|POPPY'S PLAYHOUSE...|       6|       null|      2.1|     13047|United Kingdom|\n",
      "|   536367|    22749|FELTCRAFT PRINCES...|       8|       null|     3.75|     13047|United Kingdom|\n",
      "|   536367|    22310|IVORY KNITTED MUG...|       6|       null|     1.65|     13047|United Kingdom|\n",
      "|   536367|    84969|BOX OF 6 ASSORTED...|       6|       null|     4.25|     13047|United Kingdom|\n",
      "|   536367|    22623|BOX OF VINTAGE JI...|       3|       null|     4.95|     13047|United Kingdom|\n",
      "|   536367|    22622|BOX OF VINTAGE AL...|       2|       null|     9.95|     13047|United Kingdom|\n",
      "|   536367|    21754|HOME BUILDING BLO...|       3|       null|     5.95|     13047|United Kingdom|\n",
      "|   536367|    21755|LOVE BUILDING BLO...|       3|       null|     5.95|     13047|United Kingdom|\n",
      "|   536367|    21777|RECIPE BOX WITH M...|       4|       null|     7.95|     13047|United Kingdom|\n",
      "+---------+---------+--------------------+--------+-----------+---------+----------+--------------+\n",
      "only showing top 20 rows\n",
      "\n",
      "+-----------+-----------+\n",
      "|InvoiceHour|NoInovoices|\n",
      "+-----------+-----------+\n",
      "|       null|      25900|\n",
      "+-----------+-----------+\n",
      "\n"
     ]
    }
   ],
   "source": [
    "#THIS CODE IS NOT WORKING BECAUSE IT IS UNABLE TO READ DATETIME FROM CSV\n",
    "#How many orders did customers perform at which hour?\n",
    "#here the CSV is not reading the timestamp therefore we read it again by manually giving datatypes\n",
    "\n",
    "retaildata_date = spark.read.csv(\n",
    "    path = \"online-retail-dataset.csv\",\n",
    "    sep = \",\",\n",
    "    header=True,\n",
    "    quote='\"',\n",
    "    schema=\"InvoiceNo STRING ,StockCode STRING ,Description STRING ,Quantity INT ,InvoiceDate TIMESTAMP ,UnitPrice DOUBLE ,CustomerID INT ,Country STRING\")\n",
    "\n",
    "retaildata_date.printSchema()\n",
    "retaildata_date.show()\n",
    "\n",
    "#from pyspark.sql.functions import expr\n",
    "#retaildata.selectExpr(\"date(InvoiceDate)\").show()\n",
    "#retail_hour = retaildata.selectExpr(\"hour(InvoiceDate) as InvoiceHour\", \"InvoiceNo\").distinct().groupBy(\"InvoiceHour\").agg(expr(\"count(InvoiceNo) as NoInovoices\")).orderBy(\"InvoiceHour\")\n",
    "#retail_hour.show()\n",
    "\n",
    "retaildata_date.createOrReplaceTempView(\"retaildata_date\")\n",
    "spark.sql(\"\"\"SELECT hour(InvoiceDate) as InvoiceHour, count(DISTINCT InvoiceNo) as NoInovoices\n",
    "            FROM retaildata_date \n",
    "            GROUP BY InvoiceHour\n",
    "            ORDER BY InvoiceHour\"\"\").show()\n"
   ]
  },
  {
   "cell_type": "code",
   "execution_count": 79,
   "metadata": {},
   "outputs": [
    {
     "name": "stdout",
     "output_type": "stream",
     "text": [
      "+---------+--------------+-------------+\n",
      "|StockCode|       Country|sum(Quantity)|\n",
      "+---------+--------------+-------------+\n",
      "|    10002|United Kingdom|          615|\n",
      "|    10002|          EIRE|           12|\n",
      "|    10002|        France|          372|\n",
      "|    10002|         Japan|            1|\n",
      "|    10002|   Switzerland|           12|\n",
      "|    10002|       Germany|            1|\n",
      "|    10002|         Spain|           24|\n",
      "|    10080|United Kingdom|          495|\n",
      "|    10120|        France|           10|\n",
      "|    10120|United Kingdom|          183|\n",
      "|   10123C|United Kingdom|          -13|\n",
      "|   10123G|United Kingdom|          -38|\n",
      "|   10124A|United Kingdom|           16|\n",
      "|   10124G|United Kingdom|           17|\n",
      "|    10125|        France|          470|\n",
      "|    10125|       Germany|          120|\n",
      "|    10125|   Switzerland|           20|\n",
      "|    10125|United Kingdom|          686|\n",
      "|    10133|        Israel|           20|\n",
      "|    10133|          EIRE|           40|\n",
      "+---------+--------------+-------------+\n",
      "only showing top 20 rows\n",
      "\n",
      "+---------+--------------------+--------+\n",
      "|StockCode|             Country|Quantity|\n",
      "+---------+--------------------+--------+\n",
      "|     null|             Denmark|    8188|\n",
      "|     null|              Sweden|   35637|\n",
      "|     null|              Canada|    2763|\n",
      "|     null|      United Kingdom| 4263829|\n",
      "|     null|      Czech Republic|     592|\n",
      "|     null|              Greece|    1556|\n",
      "|     null|             Lebanon|     386|\n",
      "|     null|              France|  110480|\n",
      "|     null|               Japan|   25218|\n",
      "|     null|                 USA|    1034|\n",
      "|     null|               Malta|     944|\n",
      "|     null|             Germany|  117448|\n",
      "|     null|United Arab Emirates|     982|\n",
      "|     null|           Singapore|    5234|\n",
      "|     null|              Poland|    3653|\n",
      "|     null|             Finland|   10666|\n",
      "|     null|  European Community|     497|\n",
      "|     null|             Iceland|    2458|\n",
      "|     null|               Italy|    7999|\n",
      "|     null|           Lithuania|     652|\n",
      "+---------+--------------------+--------+\n",
      "only showing top 20 rows\n",
      "\n"
     ]
    }
   ],
   "source": [
    "#How frequently was each product bought in the different countries?\n",
    "\n",
    "retaildata.groupBy(col(\"StockCode\"),col(\"Country\")).agg(sum(\"Quantity\")).orderBy(\"StockCode\").show()\n",
    "\n",
    "retaildata_date.createOrReplaceTempView(\"retaildata\")\n",
    "spark.sql(\"\"\"SELECT StockCode, Country, sum(Quantity) as Quantity\n",
    "            FROM retaildata \n",
    "            GROUP BY StockCode, Country\n",
    "            GROUPING SETS ((Country,StockCode),(Country),(StockCode), ())   \n",
    "            ORDER BY StockCode\"\"\").show()\n",
    "#here is a datacube while grouping set"
   ]
  },
  {
   "cell_type": "code",
   "execution_count": 110,
   "metadata": {},
   "outputs": [
    {
     "name": "stdout",
     "output_type": "stream",
     "text": [
      "+---------+---------+--------------------+--------+--------------+---------+----------+--------------+----+\n",
      "|InvoiceNo|StockCode|         Description|Quantity|   InvoiceDate|UnitPrice|CustomerID|       Country|Date|\n",
      "+---------+---------+--------------------+--------+--------------+---------+----------+--------------+----+\n",
      "|   536365|   85123A|WHITE HANGING HEA...|       6|12/1/2010 8:26|     2.55|     17850|United Kingdom|null|\n",
      "|   536365|    71053| WHITE METAL LANTERN|       6|12/1/2010 8:26|     3.39|     17850|United Kingdom|null|\n",
      "|   536365|   84406B|CREAM CUPID HEART...|       8|12/1/2010 8:26|     2.75|     17850|United Kingdom|null|\n",
      "|   536365|   84029G|KNITTED UNION FLA...|       6|12/1/2010 8:26|     3.39|     17850|United Kingdom|null|\n",
      "|   536365|   84029E|RED WOOLLY HOTTIE...|       6|12/1/2010 8:26|     3.39|     17850|United Kingdom|null|\n",
      "|   536365|    22752|SET 7 BABUSHKA NE...|       2|12/1/2010 8:26|     7.65|     17850|United Kingdom|null|\n",
      "|   536365|    21730|GLASS STAR FROSTE...|       6|12/1/2010 8:26|     4.25|     17850|United Kingdom|null|\n",
      "|   536366|    22633|HAND WARMER UNION...|       6|12/1/2010 8:28|     1.85|     17850|United Kingdom|null|\n",
      "|   536366|    22632|HAND WARMER RED P...|       6|12/1/2010 8:28|     1.85|     17850|United Kingdom|null|\n",
      "|   536367|    84879|ASSORTED COLOUR B...|      32|12/1/2010 8:34|     1.69|     13047|United Kingdom|null|\n",
      "|   536367|    22745|POPPY'S PLAYHOUSE...|       6|12/1/2010 8:34|      2.1|     13047|United Kingdom|null|\n",
      "|   536367|    22748|POPPY'S PLAYHOUSE...|       6|12/1/2010 8:34|      2.1|     13047|United Kingdom|null|\n",
      "|   536367|    22749|FELTCRAFT PRINCES...|       8|12/1/2010 8:34|     3.75|     13047|United Kingdom|null|\n",
      "|   536367|    22310|IVORY KNITTED MUG...|       6|12/1/2010 8:34|     1.65|     13047|United Kingdom|null|\n",
      "|   536367|    84969|BOX OF 6 ASSORTED...|       6|12/1/2010 8:34|     4.25|     13047|United Kingdom|null|\n",
      "|   536367|    22623|BOX OF VINTAGE JI...|       3|12/1/2010 8:34|     4.95|     13047|United Kingdom|null|\n",
      "|   536367|    22622|BOX OF VINTAGE AL...|       2|12/1/2010 8:34|     9.95|     13047|United Kingdom|null|\n",
      "|   536367|    21754|HOME BUILDING BLO...|       3|12/1/2010 8:34|     5.95|     13047|United Kingdom|null|\n",
      "|   536367|    21755|LOVE BUILDING BLO...|       3|12/1/2010 8:34|     5.95|     13047|United Kingdom|null|\n",
      "|   536367|    21777|RECIPE BOX WITH M...|       4|12/1/2010 8:34|     7.95|     13047|United Kingdom|null|\n",
      "+---------+---------+--------------------+--------+--------------+---------+----------+--------------+----+\n",
      "only showing top 20 rows\n",
      "\n",
      "root\n",
      " |-- InvoiceNo: string (nullable = true)\n",
      " |-- StockCode: string (nullable = true)\n",
      " |-- Description: string (nullable = true)\n",
      " |-- Quantity: integer (nullable = true)\n",
      " |-- InvoiceDate: string (nullable = true)\n",
      " |-- UnitPrice: double (nullable = true)\n",
      " |-- CustomerID: integer (nullable = true)\n",
      " |-- Country: string (nullable = true)\n",
      " |-- Date: date (nullable = true)\n",
      "\n",
      "+---------+---------+--------------------+--------+--------------+---------+----------+--------------+----+-------+----+\n",
      "|InvoiceNo|StockCode|         Description|Quantity|   InvoiceDate|UnitPrice|CustomerID|       Country|Date|Quarter|Year|\n",
      "+---------+---------+--------------------+--------+--------------+---------+----------+--------------+----+-------+----+\n",
      "|   536365|   85123A|WHITE HANGING HEA...|       6|12/1/2010 8:26|     2.55|     17850|United Kingdom|null|   null|null|\n",
      "|   536365|    71053| WHITE METAL LANTERN|       6|12/1/2010 8:26|     3.39|     17850|United Kingdom|null|   null|null|\n",
      "|   536365|   84406B|CREAM CUPID HEART...|       8|12/1/2010 8:26|     2.75|     17850|United Kingdom|null|   null|null|\n",
      "|   536365|   84029G|KNITTED UNION FLA...|       6|12/1/2010 8:26|     3.39|     17850|United Kingdom|null|   null|null|\n",
      "|   536365|   84029E|RED WOOLLY HOTTIE...|       6|12/1/2010 8:26|     3.39|     17850|United Kingdom|null|   null|null|\n",
      "|   536365|    22752|SET 7 BABUSHKA NE...|       2|12/1/2010 8:26|     7.65|     17850|United Kingdom|null|   null|null|\n",
      "|   536365|    21730|GLASS STAR FROSTE...|       6|12/1/2010 8:26|     4.25|     17850|United Kingdom|null|   null|null|\n",
      "|   536366|    22633|HAND WARMER UNION...|       6|12/1/2010 8:28|     1.85|     17850|United Kingdom|null|   null|null|\n",
      "|   536366|    22632|HAND WARMER RED P...|       6|12/1/2010 8:28|     1.85|     17850|United Kingdom|null|   null|null|\n",
      "|   536367|    84879|ASSORTED COLOUR B...|      32|12/1/2010 8:34|     1.69|     13047|United Kingdom|null|   null|null|\n",
      "|   536367|    22745|POPPY'S PLAYHOUSE...|       6|12/1/2010 8:34|      2.1|     13047|United Kingdom|null|   null|null|\n",
      "|   536367|    22748|POPPY'S PLAYHOUSE...|       6|12/1/2010 8:34|      2.1|     13047|United Kingdom|null|   null|null|\n",
      "|   536367|    22749|FELTCRAFT PRINCES...|       8|12/1/2010 8:34|     3.75|     13047|United Kingdom|null|   null|null|\n",
      "|   536367|    22310|IVORY KNITTED MUG...|       6|12/1/2010 8:34|     1.65|     13047|United Kingdom|null|   null|null|\n",
      "|   536367|    84969|BOX OF 6 ASSORTED...|       6|12/1/2010 8:34|     4.25|     13047|United Kingdom|null|   null|null|\n",
      "|   536367|    22623|BOX OF VINTAGE JI...|       3|12/1/2010 8:34|     4.95|     13047|United Kingdom|null|   null|null|\n",
      "|   536367|    22622|BOX OF VINTAGE AL...|       2|12/1/2010 8:34|     9.95|     13047|United Kingdom|null|   null|null|\n",
      "|   536367|    21754|HOME BUILDING BLO...|       3|12/1/2010 8:34|     5.95|     13047|United Kingdom|null|   null|null|\n",
      "|   536367|    21755|LOVE BUILDING BLO...|       3|12/1/2010 8:34|     5.95|     13047|United Kingdom|null|   null|null|\n",
      "|   536367|    21777|RECIPE BOX WITH M...|       4|12/1/2010 8:34|     7.95|     13047|United Kingdom|null|   null|null|\n",
      "+---------+---------+--------------------+--------+--------------+---------+----------+--------------+----+-------+----+\n",
      "only showing top 20 rows\n",
      "\n"
     ]
    },
    {
     "ename": "TypeError",
     "evalue": "unhashable type: 'Column'",
     "output_type": "error",
     "traceback": [
      "\u001b[1;31m---------------------------------------------------------------------------\u001b[0m",
      "\u001b[1;31mTypeError\u001b[0m                                 Traceback (most recent call last)",
      "\u001b[1;32m<ipython-input-110-e7416e86691b>\u001b[0m in \u001b[0;36m<module>\u001b[1;34m\u001b[0m\n\u001b[0;32m     14\u001b[0m     \u001b[1;32mreturn\u001b[0m \u001b[0mswitcher\u001b[0m\u001b[1;33m.\u001b[0m\u001b[0mget\u001b[0m\u001b[1;33m(\u001b[0m\u001b[0mcountry\u001b[0m\u001b[1;33m,\u001b[0m \u001b[1;34m\"Invalid\"\u001b[0m\u001b[1;33m)\u001b[0m\u001b[1;33m\u001b[0m\u001b[1;33m\u001b[0m\u001b[0m\n\u001b[0;32m     15\u001b[0m \u001b[1;33m\u001b[0m\u001b[0m\n\u001b[1;32m---> 16\u001b[1;33m \u001b[0mdataframeNoNull\u001b[0m\u001b[1;33m.\u001b[0m\u001b[0mwithColumn\u001b[0m\u001b[1;33m(\u001b[0m\u001b[1;34m\"Region\"\u001b[0m\u001b[1;33m,\u001b[0m \u001b[0mgeneralizedCountry\u001b[0m\u001b[1;33m(\u001b[0m\u001b[0mcol\u001b[0m\u001b[1;33m(\u001b[0m\u001b[1;34m\"Country\"\u001b[0m\u001b[1;33m)\u001b[0m\u001b[1;33m)\u001b[0m\u001b[1;33m)\u001b[0m\u001b[1;33m.\u001b[0m\u001b[0mshow\u001b[0m\u001b[1;33m(\u001b[0m\u001b[1;33m)\u001b[0m\u001b[1;33m\u001b[0m\u001b[1;33m\u001b[0m\u001b[0m\n\u001b[0m",
      "\u001b[1;32m<ipython-input-110-e7416e86691b>\u001b[0m in \u001b[0;36mgeneralizedCountry\u001b[1;34m(country)\u001b[0m\n\u001b[0;32m     12\u001b[0m         \u001b[1;34m\"United Kingdom\"\u001b[0m\u001b[1;33m:\u001b[0m \u001b[1;34m\"UK\"\u001b[0m\u001b[1;33m,\u001b[0m\u001b[1;33m\u001b[0m\u001b[1;33m\u001b[0m\u001b[0m\n\u001b[0;32m     13\u001b[0m     }\n\u001b[1;32m---> 14\u001b[1;33m     \u001b[1;32mreturn\u001b[0m \u001b[0mswitcher\u001b[0m\u001b[1;33m.\u001b[0m\u001b[0mget\u001b[0m\u001b[1;33m(\u001b[0m\u001b[0mcountry\u001b[0m\u001b[1;33m,\u001b[0m \u001b[1;34m\"Invalid\"\u001b[0m\u001b[1;33m)\u001b[0m\u001b[1;33m\u001b[0m\u001b[1;33m\u001b[0m\u001b[0m\n\u001b[0m\u001b[0;32m     15\u001b[0m \u001b[1;33m\u001b[0m\u001b[0m\n\u001b[0;32m     16\u001b[0m \u001b[0mdataframeNoNull\u001b[0m\u001b[1;33m.\u001b[0m\u001b[0mwithColumn\u001b[0m\u001b[1;33m(\u001b[0m\u001b[1;34m\"Region\"\u001b[0m\u001b[1;33m,\u001b[0m \u001b[0mgeneralizedCountry\u001b[0m\u001b[1;33m(\u001b[0m\u001b[0mcol\u001b[0m\u001b[1;33m(\u001b[0m\u001b[1;34m\"Country\"\u001b[0m\u001b[1;33m)\u001b[0m\u001b[1;33m)\u001b[0m\u001b[1;33m)\u001b[0m\u001b[1;33m.\u001b[0m\u001b[0mshow\u001b[0m\u001b[1;33m(\u001b[0m\u001b[1;33m)\u001b[0m\u001b[1;33m\u001b[0m\u001b[1;33m\u001b[0m\u001b[0m\n",
      "\u001b[1;31mTypeError\u001b[0m: unhashable type: 'Column'"
     ]
    }
   ],
   "source": [
    "#not Working\n",
    "\n",
    "from pyspark.sql.functions import to_timestamp,quarter,year\n",
    "dataframeNoNull = retaildata.na.drop().withColumn(\"Date\", to_date(col(\"InvoiceDate\"),\"MM-dd-yyyy\"))\n",
    "dataframeNoNull.show()\n",
    "dataframeNoNull.printSchema()\n",
    "dataframeNoNull.withColumn(\"Quarter\", quarter(col(\"Date\"))).withColumn(\"Year\", year(col(\"Date\"))).show()\n",
    "\n",
    "\n",
    "def generalizedCountry(country):\n",
    "    switcher = {\n",
    "        \"Austria\": \"EU\",\n",
    "        \"Germany\": \"EU\",\n",
    "        \"United Kingdom\": \"UK\",\n",
    "    }\n",
    "    return switcher.get(country, \"Invalid\")        \n",
    "\n",
    "dataframeNoNull.withColumn(\"Region\", generalizedCountry(col(\"Country\"))).show()"
   ]
  },
  {
   "cell_type": "markdown",
   "metadata": {},
   "source": [
    "### Assignment Question "
   ]
  },
  {
   "cell_type": "code",
   "execution_count": 25,
   "metadata": {},
   "outputs": [
    {
     "name": "stdout",
     "output_type": "stream",
     "text": [
      "+-----------+-------------+--------------------+--------------------+-----------+-------------------+--------------------+-------+------+--------+\n",
      "|   video_id|trending_date|               title|       channel_title|category_id|       publish_time|                tags|  views| likes|dislikes|\n",
      "+-----------+-------------+--------------------+--------------------+-----------+-------------------+--------------------+-------+------+--------+\n",
      "|LgVi6y5QIjM|     17.14.11|Sing zu Ende! | G...|           inscope21|         24|2017-11-13 18:08:49|\"inscope21|\"\"sing...| 252786| 35885|     230|\n",
      "|Bayt7uQith4|     17.14.11|Kinder ferngesteu...|LUKE! Die Woche u...|         23|2017-11-12 23:30:01|\"Kinder|\"\"fernges...| 797196| 53576|     302|\n",
      "|1ZAPwfrtAFY|     17.14.11|The Trump Preside...|     LastWeekTonight|         24|2017-11-13 08:30:00|\"last week tonigh...|2418783| 97190|    6146|\n",
      "|AHtypnRk7JE|     17.14.11| Das Fermi-Paradoxon|   100SekundenPhysik|         27|2017-11-12 16:00:01|\"Physik|\"\"Wissens...| 380247| 31821|     458|\n",
      "|ZJ9We4bjcg0|     17.14.11|18 SONGS mit Kell...|                rezo|         24|2017-11-12 14:10:36|\"kelly|\"\"missesvl...| 822213|100684|    2467|\n",
      "+-----------+-------------+--------------------+--------------------+-----------+-------------------+--------------------+-------+------+--------+\n",
      "only showing top 5 rows\n",
      "\n"
     ]
    }
   ],
   "source": [
    "dataframe = spark.read.option(\"inferSchema\",\"true\").option(\"header\",\"true\").csv(\"DEvideos.csv\")\n",
    "dataframe.show(5)"
   ]
  },
  {
   "cell_type": "code",
   "execution_count": 26,
   "metadata": {},
   "outputs": [
    {
     "name": "stdout",
     "output_type": "stream",
     "text": [
      "+-----------+-------------+--------------------+-------+\n",
      "|   video_id|trending_date|               title|  views|\n",
      "+-----------+-------------+--------------------+-------+\n",
      "|LgVi6y5QIjM|     17.14.11|Sing zu Ende! | G...| 252786|\n",
      "|Bayt7uQith4|     17.14.11|Kinder ferngesteu...| 797196|\n",
      "|1ZAPwfrtAFY|     17.14.11|The Trump Preside...|2418783|\n",
      "|AHtypnRk7JE|     17.14.11| Das Fermi-Paradoxon| 380247|\n",
      "|ZJ9We4bjcg0|     17.14.11|18 SONGS mit Kell...| 822213|\n",
      "|xapGFgWqtg4|     17.14.11|Geld verdienen mi...|  32709|\n",
      "|EIM7RMe39JY|     17.14.11|Kanaken auf der K...| 308683|\n",
      "|PaWTaj6Iie0|     17.14.11|3 unbekannte Gesi...| 181660|\n",
      "|GHct2dGNLks|     17.14.11|Antoine leiht Aut...| 369173|\n",
      "|aZYSFByDGkg|     17.14.11|Legenden: So wird...|  62418|\n",
      "|2hu_evXPpMM|     17.14.11|Dagi Bee wird Hei...| 228574|\n",
      "|2kyS6SvSYSE|     17.14.11|WE WANT TO TALK A...| 748374|\n",
      "|2Zp-Qm3wJkA|     17.14.11|JP Performance - ...| 465883|\n",
      "|mmMPprcmJeA|     17.14.11|Diese Schlafposit...| 109571|\n",
      "|3U51cVIqulM|     17.14.11|ARAB Lifestyle | ...|  99988|\n",
      "|OKYUtHvgMhc|     17.14.11|Die Welt in 30 Ja...|  37877|\n",
      "|spwqQDCW4TI|     17.14.11|RUNDLAUF FUßBALL ...| 111328|\n",
      "|     #NAME?|     17.14.11|Schauriger_Geist....|  93628|\n",
      "|riV8xuBqUQ0|     17.14.11|Duell der Gigante...| 113961|\n",
      "|nNtrjfX2aGw|     17.14.11|KOCHEN mit TANZVE...| 121928|\n",
      "+-----------+-------------+--------------------+-------+\n",
      "only showing top 20 rows\n",
      "\n"
     ]
    }
   ],
   "source": [
    "videoStats = dataframe.select(\"video_id\", \"trending_date\", \"title\", \"views\")\n",
    "videoStats.show()"
   ]
  },
  {
   "cell_type": "code",
   "execution_count": 27,
   "metadata": {},
   "outputs": [
    {
     "name": "stdout",
     "output_type": "stream",
     "text": [
      "+-----------+-------------+--------------------+-------+--------+\n",
      "|   video_id|trending_date|               title|  views|     new|\n",
      "+-----------+-------------+--------------------+-------+--------+\n",
      "|LgVi6y5QIjM|     17.14.11|Sing zu Ende! | G...| 252786| 2527.86|\n",
      "|Bayt7uQith4|     17.14.11|Kinder ferngesteu...| 797196| 7971.96|\n",
      "|1ZAPwfrtAFY|     17.14.11|The Trump Preside...|2418783|24187.83|\n",
      "|AHtypnRk7JE|     17.14.11| Das Fermi-Paradoxon| 380247| 3802.47|\n",
      "|ZJ9We4bjcg0|     17.14.11|18 SONGS mit Kell...| 822213| 8222.13|\n",
      "|xapGFgWqtg4|     17.14.11|Geld verdienen mi...|  32709|  327.09|\n",
      "|EIM7RMe39JY|     17.14.11|Kanaken auf der K...| 308683| 3086.83|\n",
      "|PaWTaj6Iie0|     17.14.11|3 unbekannte Gesi...| 181660|  1816.6|\n",
      "|GHct2dGNLks|     17.14.11|Antoine leiht Aut...| 369173| 3691.73|\n",
      "|aZYSFByDGkg|     17.14.11|Legenden: So wird...|  62418|  624.18|\n",
      "|2hu_evXPpMM|     17.14.11|Dagi Bee wird Hei...| 228574| 2285.74|\n",
      "|2kyS6SvSYSE|     17.14.11|WE WANT TO TALK A...| 748374| 7483.74|\n",
      "|2Zp-Qm3wJkA|     17.14.11|JP Performance - ...| 465883| 4658.83|\n",
      "|mmMPprcmJeA|     17.14.11|Diese Schlafposit...| 109571| 1095.71|\n",
      "|3U51cVIqulM|     17.14.11|ARAB Lifestyle | ...|  99988|  999.88|\n",
      "|OKYUtHvgMhc|     17.14.11|Die Welt in 30 Ja...|  37877|  378.77|\n",
      "|spwqQDCW4TI|     17.14.11|RUNDLAUF FUßBALL ...| 111328| 1113.28|\n",
      "|     #NAME?|     17.14.11|Schauriger_Geist....|  93628|  936.28|\n",
      "|riV8xuBqUQ0|     17.14.11|Duell der Gigante...| 113961| 1139.61|\n",
      "|nNtrjfX2aGw|     17.14.11|KOCHEN mit TANZVE...| 121928| 1219.28|\n",
      "+-----------+-------------+--------------------+-------+--------+\n",
      "only showing top 20 rows\n",
      "\n"
     ]
    }
   ],
   "source": [
    "#Now after selecting the columns we are interested in, we would like to create a new column inside \"videoStats\" dataframe with the name \"new\" that contains the views divided by 100.\n",
    "\n",
    "videoStats.withColumn(\"new\",col(\"views\")/100).show()"
   ]
  },
  {
   "cell_type": "code",
   "execution_count": 28,
   "metadata": {},
   "outputs": [
    {
     "name": "stdout",
     "output_type": "stream",
     "text": [
      "+-----------------+\n",
      "|       avg(views)|\n",
      "+-----------------+\n",
      "|603455.3184378061|\n",
      "+-----------------+\n",
      "\n",
      "+-----------------+\n",
      "|       avg(views)|\n",
      "+-----------------+\n",
      "|603455.3184378061|\n",
      "+-----------------+\n",
      "\n"
     ]
    }
   ],
   "source": [
    "#Please write the line of code to calculate the mean of the views:\n",
    "videoStats.agg(mean(\"views\")).show()\n",
    "videoStats.select(mean(\"views\")).show()"
   ]
  },
  {
   "cell_type": "code",
   "execution_count": 29,
   "metadata": {},
   "outputs": [
    {
     "name": "stdout",
     "output_type": "stream",
     "text": [
      "+-----------------+\n",
      "|stddev_pop(views)|\n",
      "+-----------------+\n",
      "|2348934.009915401|\n",
      "+-----------------+\n",
      "\n",
      "+-----------------+\n",
      "|stddev_pop(views)|\n",
      "+-----------------+\n",
      "|2348934.009915401|\n",
      "+-----------------+\n",
      "\n"
     ]
    }
   ],
   "source": [
    "#Please write the line of code to calculate the standard deviation of the population of the views:\n",
    "videoStats.agg(stddev_pop(\"views\")).show()\n",
    "videoStats.select(stddev_pop(\"views\")) .show()"
   ]
  },
  {
   "cell_type": "code",
   "execution_count": 30,
   "metadata": {},
   "outputs": [
    {
     "name": "stdout",
     "output_type": "stream",
     "text": [
      "+----------+\n",
      "|max(views)|\n",
      "+----------+\n",
      "| 113876217|\n",
      "+----------+\n",
      "\n"
     ]
    }
   ],
   "source": [
    "#Please write the line of code to find the maximum of the views:\n",
    "videoStats.select(max(\"views\")).show()"
   ]
  },
  {
   "cell_type": "code",
   "execution_count": 31,
   "metadata": {},
   "outputs": [
    {
     "name": "stdout",
     "output_type": "stream",
     "text": [
      "+-------------+-----------------+\n",
      "|trending_date|       avg(views)|\n",
      "+-------------+-----------------+\n",
      "|     18.08.05|       823764.165|\n",
      "|     17.20.11|        698332.21|\n",
      "|     17.09.12|       865658.605|\n",
      "|     18.14.02|       385133.955|\n",
      "|     18.20.03| 834208.824120603|\n",
      "|     18.04.05|        641309.99|\n",
      "|     18.21.02|727736.6683417085|\n",
      "|     18.30.04|665931.1306532663|\n",
      "|     18.06.05|        622344.45|\n",
      "|     18.11.02|566525.9492385787|\n",
      "|     18.15.03|566690.5075376885|\n",
      "|     18.08.06|930508.5326633166|\n",
      "|     18.09.06|       847713.695|\n",
      "|     18.08.01|        529929.55|\n",
      "|     18.20.01|        634982.22|\n",
      "|     18.27.02| 605797.525510204|\n",
      "|     18.15.01|       714033.835|\n",
      "|     17.18.11|       429058.245|\n",
      "|     17.24.12|         667388.9|\n",
      "|     18.27.01|       466006.955|\n",
      "+-------------+-----------------+\n",
      "only showing top 20 rows\n",
      "\n"
     ]
    }
   ],
   "source": [
    "#Group the dataframe by the \"trending_date\" column and aggregate by the mean of the \"views\" column. The result should be put in a new dataframe named \"videoStatGroup\"\n",
    "\n",
    "videoStatGroup = videoStats.groupBy(\"trending_date\").agg(mean(\"views\")).show()"
   ]
  },
  {
   "cell_type": "markdown",
   "metadata": {},
   "source": [
    "### Exam Questions"
   ]
  },
  {
   "cell_type": "code",
   "execution_count": 32,
   "metadata": {},
   "outputs": [
    {
     "ename": "NameError",
     "evalue": "name 'DF' is not defined",
     "output_type": "error",
     "traceback": [
      "\u001b[1;31m---------------------------------------------------------------------------\u001b[0m",
      "\u001b[1;31mNameError\u001b[0m                                 Traceback (most recent call last)",
      "\u001b[1;32m<ipython-input-32-a33e84619257>\u001b[0m in \u001b[0;36m<module>\u001b[1;34m\u001b[0m\n\u001b[0;32m      1\u001b[0m \u001b[1;31m#replace all the null values from the column Run_Type with the value \"Other\"\u001b[0m\u001b[1;33m\u001b[0m\u001b[1;33m\u001b[0m\u001b[1;33m\u001b[0m\u001b[0m\n\u001b[1;32m----> 2\u001b[1;33m \u001b[0mDF\u001b[0m\u001b[1;33m.\u001b[0m\u001b[0mna\u001b[0m\u001b[1;33m.\u001b[0m\u001b[0mfill\u001b[0m\u001b[1;33m(\u001b[0m\u001b[1;34m\"other\"\u001b[0m\u001b[1;33m,\u001b[0m \u001b[0msubset\u001b[0m \u001b[1;33m=\u001b[0m \u001b[1;33m[\u001b[0m\u001b[1;34m\"Run_Type\"\u001b[0m\u001b[1;33m]\u001b[0m\u001b[1;33m)\u001b[0m\u001b[1;33m.\u001b[0m\u001b[0mshow\u001b[0m\u001b[1;33m(\u001b[0m\u001b[1;33m)\u001b[0m\u001b[1;33m\u001b[0m\u001b[1;33m\u001b[0m\u001b[0m\n\u001b[0m\u001b[0;32m      3\u001b[0m \u001b[0mDF\u001b[0m\u001b[1;33m.\u001b[0m\u001b[0mfillna\u001b[0m\u001b[1;33m(\u001b[0m\u001b[1;34m\"other\"\u001b[0m\u001b[1;33m,\u001b[0m \u001b[0msubset\u001b[0m \u001b[1;33m=\u001b[0m \u001b[1;33m[\u001b[0m\u001b[1;34m\"Run_Type\"\u001b[0m\u001b[1;33m]\u001b[0m\u001b[1;33m)\u001b[0m\u001b[1;33m.\u001b[0m\u001b[0mshow\u001b[0m\u001b[1;33m(\u001b[0m\u001b[1;33m)\u001b[0m\u001b[1;33m\u001b[0m\u001b[1;33m\u001b[0m\u001b[0m\n\u001b[0;32m      4\u001b[0m \u001b[1;33m\u001b[0m\u001b[0m\n\u001b[0;32m      5\u001b[0m \u001b[1;31m#drop all the rows which contain a null value in the \"Town\" column.\u001b[0m\u001b[1;33m\u001b[0m\u001b[1;33m\u001b[0m\u001b[1;33m\u001b[0m\u001b[0m\n",
      "\u001b[1;31mNameError\u001b[0m: name 'DF' is not defined"
     ]
    }
   ],
   "source": [
    "#replace all the null values from the column Run_Type with the value \"Other\"\n",
    "DF.na.fill(\"other\", subset = [\"Run_Type\"]).show()\n",
    "DF.fillna(\"other\", subset = [\"Run_Type\"]).show()\n",
    "\n",
    "#drop all the rows which contain a null value in the \"Town\" column.\n",
    "DF.dropna(\"all\", subset = [\"Town\"])\n",
    "DF.dropna(\"any\", subset = [\"Town\"])\n",
    "DF.na.drop(\"all\", subset = [\"Town\"])\n",
    "DF.na.drop(\"any\", subset = [\"Town\"])\n",
    "\n",
    "#replace all the null values in the column \"School_Year\" with the value 0.\n",
    "DF.na.fill(value = 0, subset = [\"School_Year\"]).show()\n",
    "DF.fillna(value = 0, subset = [\"School_Year\"]).show()\n",
    "\n",
    "#compute how many breakdowns occurred each year in the town of Brooklyn. Results should look like this:\n",
    "DF1 = DF.where(col(\"Town\") == \"Brooklyn Kingdom\").groupBy(col(\"School year\")).agg(countDistinct(\"InvoiceNo\"))\n",
    "DF1.withColumnRenamed(\"School year\",\"Year\")\n",
    "\n",
    "#Enter the line of code that drops all rows containing a missing value in any column:\n",
    "DF.dropna(\"any\")\n",
    "\n",
    "#Define the function that returns a dataframe containing the means for each workclass\n",
    "\n",
    "def calculate_mean(dataframe):\n",
    "    return dataframe.groupBy('workclass').mean()\n",
    "\n",
    "#Define the function that returns a dataframe containing the variance for each workclass.\n",
    "\n",
    "def calculate_variance(dataframe):\n",
    "    return dataframe.groupBy('workclass').covar_pop()"
   ]
  },
  {
   "cell_type": "raw",
   "metadata": {},
   "source": [
    "# Create a datacube that allows answering the following questions:\n",
    "How many breakdowns occurred in total?\n",
    "How many breakdowns occurred in each town in total?\n",
    "How many breakdowns occurred in each route number in total?\n",
    "How many breakdowns occurred in each town per year?\n",
    "How many breakdowns occurred in each route number per year?\n",
    "It is normal if the resulting table can answer more questions than the above-mentioned."
   ]
  },
  {
   "cell_type": "code",
   "execution_count": null,
   "metadata": {},
   "outputs": [],
   "source": [
    "datacube = "
   ]
  }
 ],
 "metadata": {
  "kernelspec": {
   "display_name": "Python 3",
   "language": "python",
   "name": "python3"
  },
  "language_info": {
   "codemirror_mode": {
    "name": "ipython",
    "version": 3
   },
   "file_extension": ".py",
   "mimetype": "text/x-python",
   "name": "python",
   "nbconvert_exporter": "python",
   "pygments_lexer": "ipython3",
   "version": "3.8.3"
  }
 },
 "nbformat": 4,
 "nbformat_minor": 4
}
