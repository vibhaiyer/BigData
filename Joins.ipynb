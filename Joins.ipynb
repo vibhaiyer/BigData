{
 "cells": [
  {
   "cell_type": "code",
   "execution_count": 1,
   "metadata": {},
   "outputs": [],
   "source": [
    "import findspark\n",
    "findspark.init()\n",
    "findspark.find()\n",
    "import pyspark\n",
    "from pyspark import SparkContext, SparkConf\n",
    "from pyspark.sql import SparkSession\n",
    "conf = pyspark.SparkConf().setAppName('SparkApp').setMaster('local')\n",
    "sc = pyspark.SparkContext(conf=conf)\n",
    "spark = SparkSession(sc)"
   ]
  },
  {
   "cell_type": "code",
   "execution_count": 2,
   "metadata": {},
   "outputs": [
    {
     "name": "stdout",
     "output_type": "stream",
     "text": [
      "+-----------+----------+----------+-------------------+--------------------+---------------+-----+-----+\n",
      "|customer_id|first_name| last_name|              email|             address|           city|state|  zip|\n",
      "+-----------+----------+----------+-------------------+--------------------+---------------+-----+-----+\n",
      "|          1|    George|Washington|gwashington@usa.gov|  3200 Mt Vernon Hwy|   Mount Vernon|   VA|22121|\n",
      "|          2|      John|     Adams|     jadams@usa.gov|     1250 Hancock St|         Quincy|   MA| 2169|\n",
      "|          3|    Thomas| Jefferson| tjefferson@usa.gov|931 Thomas Jeffer...|Charlottesville|   VA|22902|\n",
      "|          4|     James|   Madison|   jmadison@usa.gov|11350 Constitutio...|         Orange|   VA|22960|\n",
      "|          5|     James|    Monroe|    jmonroe@usa.gov|2050 James Monroe...|Charlottesville|   VA|22902|\n",
      "+-----------+----------+----------+-------------------+--------------------+---------------+-----+-----+\n",
      "\n",
      "+--------+----------+------+-----------+\n",
      "|order_id|order_date|amount|customer_id|\n",
      "+--------+----------+------+-----------+\n",
      "|       1|07/04/1776|234.56|          1|\n",
      "|       2|03/14/1760|  78.5|          3|\n",
      "|       3|05/23/1784| 124.0|          2|\n",
      "|       4|09/03/1790|  65.5|          3|\n",
      "|       5|07/21/1795|  25.5|          5|\n",
      "|       6|11/27/1787|  14.4|          7|\n",
      "+--------+----------+------+-----------+\n",
      "\n",
      "+--------+----------+------+--------+\n",
      "|order_id|order_date|amount|customer|\n",
      "+--------+----------+------+--------+\n",
      "|       1|07/04/1776|234.56|       1|\n",
      "|       2|03/14/1760|  78.5|       3|\n",
      "|       3|05/23/1784| 124.0|       2|\n",
      "|       4|09/03/1790|  65.5|       3|\n",
      "|       5|07/21/1795|  25.5|       5|\n",
      "|       6|11/27/1787|  14.4|       7|\n",
      "+--------+----------+------+--------+\n",
      "\n"
     ]
    }
   ],
   "source": [
    "customers = spark.read.option(\"inferSchema\",\"true\").option(\"header\",\"true\").csv(\"customers.csv\")\n",
    "customers.show()\n",
    "orders = spark.read.option(\"inferSchema\",\"true\").option(\"header\",\"true\").csv(\"orders.csv\")\n",
    "orders.show()\n",
    "orders2 = spark.read.option(\"inferSchema\",\"true\").option(\"header\",\"true\").csv(\"orders2.csv\")\n",
    "orders2.show()"
   ]
  },
  {
   "cell_type": "code",
   "execution_count": 5,
   "metadata": {},
   "outputs": [
    {
     "name": "stdout",
     "output_type": "stream",
     "text": [
      "+-----------+----------+----------+-------------------+--------------------+---------------+-----+-----+--------+----------+------+\n",
      "|customer_id|first_name| last_name|              email|             address|           city|state|  zip|order_id|order_date|amount|\n",
      "+-----------+----------+----------+-------------------+--------------------+---------------+-----+-----+--------+----------+------+\n",
      "|          1|    George|Washington|gwashington@usa.gov|  3200 Mt Vernon Hwy|   Mount Vernon|   VA|22121|       1|07/04/1776|234.56|\n",
      "|          2|      John|     Adams|     jadams@usa.gov|     1250 Hancock St|         Quincy|   MA| 2169|       3|05/23/1784| 124.0|\n",
      "|          3|    Thomas| Jefferson| tjefferson@usa.gov|931 Thomas Jeffer...|Charlottesville|   VA|22902|       4|09/03/1790|  65.5|\n",
      "|          3|    Thomas| Jefferson| tjefferson@usa.gov|931 Thomas Jeffer...|Charlottesville|   VA|22902|       2|03/14/1760|  78.5|\n",
      "|          5|     James|    Monroe|    jmonroe@usa.gov|2050 James Monroe...|Charlottesville|   VA|22902|       5|07/21/1795|  25.5|\n",
      "+-----------+----------+----------+-------------------+--------------------+---------------+-----+-----+--------+----------+------+\n",
      "\n"
     ]
    }
   ],
   "source": [
    "#natural Join\n",
    "natural_join = customers.join(orders, \"customer_id\")\n",
    "natural_join.show()"
   ]
  },
  {
   "cell_type": "code",
   "execution_count": 7,
   "metadata": {},
   "outputs": [
    {
     "name": "stdout",
     "output_type": "stream",
     "text": [
      "+-----------+----------+----------+-------------------+--------------------+---------------+-----+-----+--------+----------+------+--------+\n",
      "|customer_id|first_name| last_name|              email|             address|           city|state|  zip|order_id|order_date|amount|customer|\n",
      "+-----------+----------+----------+-------------------+--------------------+---------------+-----+-----+--------+----------+------+--------+\n",
      "|          1|    George|Washington|gwashington@usa.gov|  3200 Mt Vernon Hwy|   Mount Vernon|   VA|22121|       1|07/04/1776|234.56|       1|\n",
      "|          2|      John|     Adams|     jadams@usa.gov|     1250 Hancock St|         Quincy|   MA| 2169|       3|05/23/1784| 124.0|       2|\n",
      "|          3|    Thomas| Jefferson| tjefferson@usa.gov|931 Thomas Jeffer...|Charlottesville|   VA|22902|       4|09/03/1790|  65.5|       3|\n",
      "|          3|    Thomas| Jefferson| tjefferson@usa.gov|931 Thomas Jeffer...|Charlottesville|   VA|22902|       2|03/14/1760|  78.5|       3|\n",
      "|          5|     James|    Monroe|    jmonroe@usa.gov|2050 James Monroe...|Charlottesville|   VA|22902|       5|07/21/1795|  25.5|       5|\n",
      "+-----------+----------+----------+-------------------+--------------------+---------------+-----+-----+--------+----------+------+--------+\n",
      "\n"
     ]
    }
   ],
   "source": [
    "#inner join\n",
    "inner_join = customers.join(orders2,customers[\"customer_id\"] == orders2[\"customer\"],\"inner\")\n",
    "inner_join.show()"
   ]
  },
  {
   "cell_type": "code",
   "execution_count": 8,
   "metadata": {},
   "outputs": [
    {
     "name": "stdout",
     "output_type": "stream",
     "text": [
      "+-----------+----------+----------+-------------------+--------------------+---------------+-----+-----+--------+----------+------+--------+\n",
      "|customer_id|first_name| last_name|              email|             address|           city|state|  zip|order_id|order_date|amount|customer|\n",
      "+-----------+----------+----------+-------------------+--------------------+---------------+-----+-----+--------+----------+------+--------+\n",
      "|          1|    George|Washington|gwashington@usa.gov|  3200 Mt Vernon Hwy|   Mount Vernon|   VA|22121|       1|07/04/1776|234.56|       1|\n",
      "|          3|    Thomas| Jefferson| tjefferson@usa.gov|931 Thomas Jeffer...|Charlottesville|   VA|22902|       2|03/14/1760|  78.5|       3|\n",
      "|          3|    Thomas| Jefferson| tjefferson@usa.gov|931 Thomas Jeffer...|Charlottesville|   VA|22902|       4|09/03/1790|  65.5|       3|\n",
      "|          5|     James|    Monroe|    jmonroe@usa.gov|2050 James Monroe...|Charlottesville|   VA|22902|       5|07/21/1795|  25.5|       5|\n",
      "|          4|     James|   Madison|   jmadison@usa.gov|11350 Constitutio...|         Orange|   VA|22960|    null|      null|  null|    null|\n",
      "|       null|      null|      null|               null|                null|           null| null| null|       6|11/27/1787|  14.4|       7|\n",
      "|          2|      John|     Adams|     jadams@usa.gov|     1250 Hancock St|         Quincy|   MA| 2169|       3|05/23/1784| 124.0|       2|\n",
      "+-----------+----------+----------+-------------------+--------------------+---------------+-----+-----+--------+----------+------+--------+\n",
      "\n",
      "+-----------+----------+----------+-------------------+--------------------+---------------+-----+-----+--------+----------+------+--------+\n",
      "|customer_id|first_name| last_name|              email|             address|           city|state|  zip|order_id|order_date|amount|customer|\n",
      "+-----------+----------+----------+-------------------+--------------------+---------------+-----+-----+--------+----------+------+--------+\n",
      "|          1|    George|Washington|gwashington@usa.gov|  3200 Mt Vernon Hwy|   Mount Vernon|   VA|22121|       1|07/04/1776|234.56|       1|\n",
      "|          2|      John|     Adams|     jadams@usa.gov|     1250 Hancock St|         Quincy|   MA| 2169|       3|05/23/1784| 124.0|       2|\n",
      "|          3|    Thomas| Jefferson| tjefferson@usa.gov|931 Thomas Jeffer...|Charlottesville|   VA|22902|       4|09/03/1790|  65.5|       3|\n",
      "|          3|    Thomas| Jefferson| tjefferson@usa.gov|931 Thomas Jeffer...|Charlottesville|   VA|22902|       2|03/14/1760|  78.5|       3|\n",
      "|          4|     James|   Madison|   jmadison@usa.gov|11350 Constitutio...|         Orange|   VA|22960|    null|      null|  null|    null|\n",
      "|          5|     James|    Monroe|    jmonroe@usa.gov|2050 James Monroe...|Charlottesville|   VA|22902|       5|07/21/1795|  25.5|       5|\n",
      "+-----------+----------+----------+-------------------+--------------------+---------------+-----+-----+--------+----------+------+--------+\n",
      "\n",
      "+-----------+----------+----------+-------------------+--------------------+---------------+-----+-----+--------+----------+------+--------+\n",
      "|customer_id|first_name| last_name|              email|             address|           city|state|  zip|order_id|order_date|amount|customer|\n",
      "+-----------+----------+----------+-------------------+--------------------+---------------+-----+-----+--------+----------+------+--------+\n",
      "|          1|    George|Washington|gwashington@usa.gov|  3200 Mt Vernon Hwy|   Mount Vernon|   VA|22121|       1|07/04/1776|234.56|       1|\n",
      "|          3|    Thomas| Jefferson| tjefferson@usa.gov|931 Thomas Jeffer...|Charlottesville|   VA|22902|       2|03/14/1760|  78.5|       3|\n",
      "|          2|      John|     Adams|     jadams@usa.gov|     1250 Hancock St|         Quincy|   MA| 2169|       3|05/23/1784| 124.0|       2|\n",
      "|          3|    Thomas| Jefferson| tjefferson@usa.gov|931 Thomas Jeffer...|Charlottesville|   VA|22902|       4|09/03/1790|  65.5|       3|\n",
      "|          5|     James|    Monroe|    jmonroe@usa.gov|2050 James Monroe...|Charlottesville|   VA|22902|       5|07/21/1795|  25.5|       5|\n",
      "|       null|      null|      null|               null|                null|           null| null| null|       6|11/27/1787|  14.4|       7|\n",
      "+-----------+----------+----------+-------------------+--------------------+---------------+-----+-----+--------+----------+------+--------+\n",
      "\n"
     ]
    }
   ],
   "source": [
    "#outer join\n",
    "outer_join = customers.join(orders2,customers[\"customer_id\"] == orders2[\"customer\"],\"outer\")\n",
    "outer_join.show()\n",
    "\n",
    "#left outer join\n",
    "left_outer_join = customers.join(orders2,customers[\"customer_id\"] == orders2[\"customer\"],\"left_outer\")\n",
    "left_outer_join.show()\n",
    "\n",
    "#right outer join\n",
    "right_outer_join = customers.join(orders2,customers[\"customer_id\"] == orders2[\"customer\"],\"right_outer\")\n",
    "right_outer_join.show()"
   ]
  },
  {
   "cell_type": "code",
   "execution_count": 12,
   "metadata": {},
   "outputs": [
    {
     "name": "stdout",
     "output_type": "stream",
     "text": [
      "+-----------+----------+----------+-------------------+--------------------+---------------+-----+-----+\n",
      "|customer_id|first_name| last_name|              email|             address|           city|state|  zip|\n",
      "+-----------+----------+----------+-------------------+--------------------+---------------+-----+-----+\n",
      "|          1|    George|Washington|gwashington@usa.gov|  3200 Mt Vernon Hwy|   Mount Vernon|   VA|22121|\n",
      "|          2|      John|     Adams|     jadams@usa.gov|     1250 Hancock St|         Quincy|   MA| 2169|\n",
      "|          3|    Thomas| Jefferson| tjefferson@usa.gov|931 Thomas Jeffer...|Charlottesville|   VA|22902|\n",
      "|          5|     James|    Monroe|    jmonroe@usa.gov|2050 James Monroe...|Charlottesville|   VA|22902|\n",
      "+-----------+----------+----------+-------------------+--------------------+---------------+-----+-----+\n",
      "\n",
      "+-----------+----------+----------+-------------------+--------------------+---------------+-----+-----+\n",
      "|customer_id|first_name| last_name|              email|             address|           city|state|  zip|\n",
      "+-----------+----------+----------+-------------------+--------------------+---------------+-----+-----+\n",
      "|          1|    George|Washington|gwashington@usa.gov|  3200 Mt Vernon Hwy|   Mount Vernon|   VA|22121|\n",
      "|          2|      John|     Adams|     jadams@usa.gov|     1250 Hancock St|         Quincy|   MA| 2169|\n",
      "|          3|    Thomas| Jefferson| tjefferson@usa.gov|931 Thomas Jeffer...|Charlottesville|   VA|22902|\n",
      "|          5|     James|    Monroe|    jmonroe@usa.gov|2050 James Monroe...|Charlottesville|   VA|22902|\n",
      "+-----------+----------+----------+-------------------+--------------------+---------------+-----+-----+\n",
      "\n",
      "+--------+----------+------+--------+\n",
      "|order_id|order_date|amount|customer|\n",
      "+--------+----------+------+--------+\n",
      "|       1|07/04/1776|234.56|       1|\n",
      "|       2|03/14/1760|  78.5|       3|\n",
      "|       3|05/23/1784| 124.0|       2|\n",
      "|       4|09/03/1790|  65.5|       3|\n",
      "|       5|07/21/1795|  25.5|       5|\n",
      "+--------+----------+------+--------+\n",
      "\n"
     ]
    }
   ],
   "source": [
    "#semi join\n",
    "semi_join = customers.join(orders2,customers[\"customer_id\"] == orders2[\"customer\"],\"semi\")\n",
    "semi_join.show()\n",
    "\n",
    "#left semi join\n",
    "left_semi_join = customers.join(orders2,customers[\"customer_id\"] == orders2[\"customer\"],\"left_semi\")\n",
    "left_semi_join.show()\n",
    "\n",
    "left_semi_join = orders2.join(customers,customers[\"customer_id\"] == orders2[\"customer\"],\"left_semi\")\n",
    "left_semi_join.show()\n",
    "#right semi join doesn't"
   ]
  },
  {
   "cell_type": "code",
   "execution_count": 15,
   "metadata": {},
   "outputs": [
    {
     "name": "stdout",
     "output_type": "stream",
     "text": [
      "+-----------+----------+---------+----------------+--------------------+------+-----+-----+\n",
      "|customer_id|first_name|last_name|           email|             address|  city|state|  zip|\n",
      "+-----------+----------+---------+----------------+--------------------+------+-----+-----+\n",
      "|          4|     James|  Madison|jmadison@usa.gov|11350 Constitutio...|Orange|   VA|22960|\n",
      "+-----------+----------+---------+----------------+--------------------+------+-----+-----+\n",
      "\n",
      "+-----------+----------+---------+----------------+--------------------+------+-----+-----+\n",
      "|customer_id|first_name|last_name|           email|             address|  city|state|  zip|\n",
      "+-----------+----------+---------+----------------+--------------------+------+-----+-----+\n",
      "|          4|     James|  Madison|jmadison@usa.gov|11350 Constitutio...|Orange|   VA|22960|\n",
      "+-----------+----------+---------+----------------+--------------------+------+-----+-----+\n",
      "\n",
      "+--------+----------+------+--------+\n",
      "|order_id|order_date|amount|customer|\n",
      "+--------+----------+------+--------+\n",
      "|       6|11/27/1787|  14.4|       7|\n",
      "+--------+----------+------+--------+\n",
      "\n"
     ]
    }
   ],
   "source": [
    "#anti join\n",
    "anti_join = customers.join(orders2,customers[\"customer_id\"] == orders2[\"customer\"],\"anti\")\n",
    "anti_join.show()\n",
    "\n",
    "#left anti join\n",
    "left_anti_join = customers.join(orders2,customers[\"customer_id\"] == orders2[\"customer\"],\"left_anti\")\n",
    "left_anti_join.show()\n",
    "\n",
    "left_anti_join = orders2.join(customers,customers[\"customer_id\"] == orders2[\"customer\"],\"left_anti\")\n",
    "left_anti_join.show()\n",
    "#right semi join doesn't"
   ]
  },
  {
   "cell_type": "code",
   "execution_count": 18,
   "metadata": {},
   "outputs": [
    {
     "name": "stdout",
     "output_type": "stream",
     "text": [
      "+-----------+----------+----------+-------------------+--------------------+---------------+-----+-----+-----------+----------+----------+-------------------+--------------------+---------------+-----+-----+\n",
      "|customer_id|first_name| last_name|              email|             address|           city|state|  zip|customer_id|first_name| last_name|              email|             address|           city|state|  zip|\n",
      "+-----------+----------+----------+-------------------+--------------------+---------------+-----+-----+-----------+----------+----------+-------------------+--------------------+---------------+-----+-----+\n",
      "|          1|    George|Washington|gwashington@usa.gov|  3200 Mt Vernon Hwy|   Mount Vernon|   VA|22121|          1|    George|Washington|gwashington@usa.gov|  3200 Mt Vernon Hwy|   Mount Vernon|   VA|22121|\n",
      "|          1|    George|Washington|gwashington@usa.gov|  3200 Mt Vernon Hwy|   Mount Vernon|   VA|22121|          2|      John|     Adams|     jadams@usa.gov|     1250 Hancock St|         Quincy|   MA| 2169|\n",
      "|          1|    George|Washington|gwashington@usa.gov|  3200 Mt Vernon Hwy|   Mount Vernon|   VA|22121|          3|    Thomas| Jefferson| tjefferson@usa.gov|931 Thomas Jeffer...|Charlottesville|   VA|22902|\n",
      "|          1|    George|Washington|gwashington@usa.gov|  3200 Mt Vernon Hwy|   Mount Vernon|   VA|22121|          4|     James|   Madison|   jmadison@usa.gov|11350 Constitutio...|         Orange|   VA|22960|\n",
      "|          1|    George|Washington|gwashington@usa.gov|  3200 Mt Vernon Hwy|   Mount Vernon|   VA|22121|          5|     James|    Monroe|    jmonroe@usa.gov|2050 James Monroe...|Charlottesville|   VA|22902|\n",
      "|          2|      John|     Adams|     jadams@usa.gov|     1250 Hancock St|         Quincy|   MA| 2169|          1|    George|Washington|gwashington@usa.gov|  3200 Mt Vernon Hwy|   Mount Vernon|   VA|22121|\n",
      "|          2|      John|     Adams|     jadams@usa.gov|     1250 Hancock St|         Quincy|   MA| 2169|          2|      John|     Adams|     jadams@usa.gov|     1250 Hancock St|         Quincy|   MA| 2169|\n",
      "|          2|      John|     Adams|     jadams@usa.gov|     1250 Hancock St|         Quincy|   MA| 2169|          3|    Thomas| Jefferson| tjefferson@usa.gov|931 Thomas Jeffer...|Charlottesville|   VA|22902|\n",
      "|          2|      John|     Adams|     jadams@usa.gov|     1250 Hancock St|         Quincy|   MA| 2169|          4|     James|   Madison|   jmadison@usa.gov|11350 Constitutio...|         Orange|   VA|22960|\n",
      "|          2|      John|     Adams|     jadams@usa.gov|     1250 Hancock St|         Quincy|   MA| 2169|          5|     James|    Monroe|    jmonroe@usa.gov|2050 James Monroe...|Charlottesville|   VA|22902|\n",
      "|          3|    Thomas| Jefferson| tjefferson@usa.gov|931 Thomas Jeffer...|Charlottesville|   VA|22902|          1|    George|Washington|gwashington@usa.gov|  3200 Mt Vernon Hwy|   Mount Vernon|   VA|22121|\n",
      "|          3|    Thomas| Jefferson| tjefferson@usa.gov|931 Thomas Jeffer...|Charlottesville|   VA|22902|          2|      John|     Adams|     jadams@usa.gov|     1250 Hancock St|         Quincy|   MA| 2169|\n",
      "|          3|    Thomas| Jefferson| tjefferson@usa.gov|931 Thomas Jeffer...|Charlottesville|   VA|22902|          3|    Thomas| Jefferson| tjefferson@usa.gov|931 Thomas Jeffer...|Charlottesville|   VA|22902|\n",
      "|          3|    Thomas| Jefferson| tjefferson@usa.gov|931 Thomas Jeffer...|Charlottesville|   VA|22902|          4|     James|   Madison|   jmadison@usa.gov|11350 Constitutio...|         Orange|   VA|22960|\n",
      "|          3|    Thomas| Jefferson| tjefferson@usa.gov|931 Thomas Jeffer...|Charlottesville|   VA|22902|          5|     James|    Monroe|    jmonroe@usa.gov|2050 James Monroe...|Charlottesville|   VA|22902|\n",
      "|          4|     James|   Madison|   jmadison@usa.gov|11350 Constitutio...|         Orange|   VA|22960|          1|    George|Washington|gwashington@usa.gov|  3200 Mt Vernon Hwy|   Mount Vernon|   VA|22121|\n",
      "|          4|     James|   Madison|   jmadison@usa.gov|11350 Constitutio...|         Orange|   VA|22960|          2|      John|     Adams|     jadams@usa.gov|     1250 Hancock St|         Quincy|   MA| 2169|\n",
      "|          4|     James|   Madison|   jmadison@usa.gov|11350 Constitutio...|         Orange|   VA|22960|          3|    Thomas| Jefferson| tjefferson@usa.gov|931 Thomas Jeffer...|Charlottesville|   VA|22902|\n",
      "|          4|     James|   Madison|   jmadison@usa.gov|11350 Constitutio...|         Orange|   VA|22960|          4|     James|   Madison|   jmadison@usa.gov|11350 Constitutio...|         Orange|   VA|22960|\n",
      "|          4|     James|   Madison|   jmadison@usa.gov|11350 Constitutio...|         Orange|   VA|22960|          5|     James|    Monroe|    jmonroe@usa.gov|2050 James Monroe...|Charlottesville|   VA|22902|\n",
      "+-----------+----------+----------+-------------------+--------------------+---------------+-----+-----+-----------+----------+----------+-------------------+--------------------+---------------+-----+-----+\n",
      "only showing top 20 rows\n",
      "\n",
      "+-----------+----------+----------+-------------------+--------------------+---------------+-----+-----+--------+----------+------+-----------+\n",
      "|customer_id|first_name| last_name|              email|             address|           city|state|  zip|order_id|order_date|amount|customer_id|\n",
      "+-----------+----------+----------+-------------------+--------------------+---------------+-----+-----+--------+----------+------+-----------+\n",
      "|          1|    George|Washington|gwashington@usa.gov|  3200 Mt Vernon Hwy|   Mount Vernon|   VA|22121|       1|07/04/1776|234.56|          1|\n",
      "|          1|    George|Washington|gwashington@usa.gov|  3200 Mt Vernon Hwy|   Mount Vernon|   VA|22121|       2|03/14/1760|  78.5|          3|\n",
      "|          1|    George|Washington|gwashington@usa.gov|  3200 Mt Vernon Hwy|   Mount Vernon|   VA|22121|       3|05/23/1784| 124.0|          2|\n",
      "|          1|    George|Washington|gwashington@usa.gov|  3200 Mt Vernon Hwy|   Mount Vernon|   VA|22121|       4|09/03/1790|  65.5|          3|\n",
      "|          1|    George|Washington|gwashington@usa.gov|  3200 Mt Vernon Hwy|   Mount Vernon|   VA|22121|       5|07/21/1795|  25.5|          5|\n",
      "|          1|    George|Washington|gwashington@usa.gov|  3200 Mt Vernon Hwy|   Mount Vernon|   VA|22121|       6|11/27/1787|  14.4|          7|\n",
      "|          2|      John|     Adams|     jadams@usa.gov|     1250 Hancock St|         Quincy|   MA| 2169|       1|07/04/1776|234.56|          1|\n",
      "|          2|      John|     Adams|     jadams@usa.gov|     1250 Hancock St|         Quincy|   MA| 2169|       2|03/14/1760|  78.5|          3|\n",
      "|          2|      John|     Adams|     jadams@usa.gov|     1250 Hancock St|         Quincy|   MA| 2169|       3|05/23/1784| 124.0|          2|\n",
      "|          2|      John|     Adams|     jadams@usa.gov|     1250 Hancock St|         Quincy|   MA| 2169|       4|09/03/1790|  65.5|          3|\n",
      "|          2|      John|     Adams|     jadams@usa.gov|     1250 Hancock St|         Quincy|   MA| 2169|       5|07/21/1795|  25.5|          5|\n",
      "|          2|      John|     Adams|     jadams@usa.gov|     1250 Hancock St|         Quincy|   MA| 2169|       6|11/27/1787|  14.4|          7|\n",
      "|          3|    Thomas| Jefferson| tjefferson@usa.gov|931 Thomas Jeffer...|Charlottesville|   VA|22902|       1|07/04/1776|234.56|          1|\n",
      "|          3|    Thomas| Jefferson| tjefferson@usa.gov|931 Thomas Jeffer...|Charlottesville|   VA|22902|       2|03/14/1760|  78.5|          3|\n",
      "|          3|    Thomas| Jefferson| tjefferson@usa.gov|931 Thomas Jeffer...|Charlottesville|   VA|22902|       3|05/23/1784| 124.0|          2|\n",
      "|          3|    Thomas| Jefferson| tjefferson@usa.gov|931 Thomas Jeffer...|Charlottesville|   VA|22902|       4|09/03/1790|  65.5|          3|\n",
      "|          3|    Thomas| Jefferson| tjefferson@usa.gov|931 Thomas Jeffer...|Charlottesville|   VA|22902|       5|07/21/1795|  25.5|          5|\n",
      "|          3|    Thomas| Jefferson| tjefferson@usa.gov|931 Thomas Jeffer...|Charlottesville|   VA|22902|       6|11/27/1787|  14.4|          7|\n",
      "|          4|     James|   Madison|   jmadison@usa.gov|11350 Constitutio...|         Orange|   VA|22960|       1|07/04/1776|234.56|          1|\n",
      "|          4|     James|   Madison|   jmadison@usa.gov|11350 Constitutio...|         Orange|   VA|22960|       2|03/14/1760|  78.5|          3|\n",
      "+-----------+----------+----------+-------------------+--------------------+---------------+-----+-----+--------+----------+------+-----------+\n",
      "only showing top 20 rows\n"
     ]
    },
    {
     "name": "stdout",
     "output_type": "stream",
     "text": [
      "\n"
     ]
    }
   ],
   "source": [
    "#cross join\n",
    "cross_join = customers.crossJoin(customers)\n",
    "cross_join.show()\n",
    "cross_join = customers.crossJoin(orders)\n",
    "cross_join.show()"
   ]
  },
  {
   "cell_type": "code",
   "execution_count": 32,
   "metadata": {},
   "outputs": [
    {
     "name": "stdout",
     "output_type": "stream",
     "text": [
      "== Physical Plan ==\n",
      "*(2) BroadcastHashJoin [customer_id#16], [customer_id#92], LeftAnti, BuildRight, false\n",
      ":- FileScan csv [customer_id#16,first_name#17,last_name#18,email#19,address#20,city#21,state#22,zip#23] Batched: false, DataFilters: [], Format: CSV, Location: InMemoryFileIndex[file:/F:/Koblenz/Study/2nd semester/Big Data/Exam 2/Joins/customers.csv], PartitionFilters: [], PushedFilters: [], ReadSchema: struct<customer_id:int,first_name:string,last_name:string,email:string,address:string,city:string...\n",
      "+- BroadcastExchange HashedRelationBroadcastMode(List(cast(input[0, int, false] as bigint)),false), [id=#1498]\n",
      "   +- *(1) Filter isnotnull(customer_id#92)\n",
      "      +- FileScan csv [customer_id#92] Batched: false, DataFilters: [isnotnull(customer_id#92)], Format: CSV, Location: InMemoryFileIndex[file:/F:/Koblenz/Study/2nd semester/Big Data/Exam 2/Joins/orders.csv], PartitionFilters: [], PushedFilters: [IsNotNull(customer_id)], ReadSchema: struct<customer_id:int>\n",
      "\n",
      "\n"
     ]
    }
   ],
   "source": [
    "customers.join(orders,customers[\"customer_id\"] == orders[\"customer_id\"],\"left_anti\").explain()"
   ]
  },
  {
   "cell_type": "code",
   "execution_count": 29,
   "metadata": {},
   "outputs": [
    {
     "name": "stdout",
     "output_type": "stream",
     "text": [
      "== Physical Plan ==\n",
      "*(3) BroadcastHashJoin [customer_id#16], [customer_id#92], LeftAnti, BuildRight, false\n",
      ":- FileScan csv [customer_id#16,first_name#17,last_name#18,email#19,address#20,city#21,state#22,zip#23] Batched: false, DataFilters: [], Format: CSV, Location: InMemoryFileIndex[file:/F:/Koblenz/Study/2nd semester/Big Data/Exam 2/Joins/customers.csv], PartitionFilters: [], PushedFilters: [], ReadSchema: struct<customer_id:int,first_name:string,last_name:string,email:string,address:string,city:string...\n",
      "+- BroadcastExchange HashedRelationBroadcastMode(List(cast(input[0, int, true] as bigint)),false), [id=#1419]\n",
      "   +- *(2) Project [customer_id#92]\n",
      "      +- *(2) BroadcastHashJoin [order_id#89], [order_id#134], Inner, BuildRight, false\n",
      "         :- *(2) Filter (isnotnull(order_id#89) AND isnotnull(customer_id#92))\n",
      "         :  +- FileScan csv [order_id#89,customer_id#92] Batched: false, DataFilters: [isnotnull(order_id#89), isnotnull(customer_id#92)], Format: CSV, Location: InMemoryFileIndex[file:/F:/Koblenz/Study/2nd semester/Big Data/Exam 2/Joins/orders.csv], PartitionFilters: [], PushedFilters: [IsNotNull(order_id), IsNotNull(customer_id)], ReadSchema: struct<order_id:int,customer_id:int>\n",
      "         +- BroadcastExchange HashedRelationBroadcastMode(List(cast(input[0, int, false] as bigint)),false), [id=#1414]\n",
      "            +- *(1) Filter isnotnull(order_id#134)\n",
      "               +- FileScan csv [order_id#134] Batched: false, DataFilters: [isnotnull(order_id#134)], Format: CSV, Location: InMemoryFileIndex[file:/F:/Koblenz/Study/2nd semester/Big Data/Exam 2/Joins/orders2.csv], PartitionFilters: [], PushedFilters: [IsNotNull(order_id)], ReadSchema: struct<order_id:int>\n",
      "\n",
      "\n"
     ]
    }
   ],
   "source": [
    "#.join(orders2,orders[\"order_id\"] == orders2[\"order_id\"],\"left_anti\")\n",
    "customers.join((orders.join(orders2,orders[\"order_id\"] == orders2[\"order_id\"],\"inner\")),customers[\"customer_id\"] == orders[\"customer_id\"],\"leftanti\").explain()"
   ]
  },
  {
   "cell_type": "code",
   "execution_count": 33,
   "metadata": {},
   "outputs": [
    {
     "name": "stdout",
     "output_type": "stream",
     "text": [
      "== Physical Plan ==\n",
      "*(3) BroadcastHashJoin [customer_id#16], [customer_id#92], Inner, BuildRight, false\n",
      ":- *(3) Filter isnotnull(customer_id#16)\n",
      ":  +- FileScan csv [customer_id#16,first_name#17,last_name#18,email#19,address#20,city#21,state#22,zip#23] Batched: false, DataFilters: [isnotnull(customer_id#16)], Format: CSV, Location: InMemoryFileIndex[file:/F:/Koblenz/Study/2nd semester/Big Data/Exam 2/Joins/customers.csv], PartitionFilters: [], PushedFilters: [IsNotNull(customer_id)], ReadSchema: struct<customer_id:int,first_name:string,last_name:string,email:string,address:string,city:string...\n",
      "+- BroadcastExchange HashedRelationBroadcastMode(List(cast(input[3, int, false] as bigint)),false), [id=#1551]\n",
      "   +- *(2) BroadcastHashJoin [order_id#89], [order_id#134], LeftAnti, BuildRight, false\n",
      "      :- *(2) Filter isnotnull(customer_id#92)\n",
      "      :  +- FileScan csv [order_id#89,order_date#90,amount#91,customer_id#92] Batched: false, DataFilters: [isnotnull(customer_id#92)], Format: CSV, Location: InMemoryFileIndex[file:/F:/Koblenz/Study/2nd semester/Big Data/Exam 2/Joins/orders.csv], PartitionFilters: [], PushedFilters: [IsNotNull(customer_id)], ReadSchema: struct<order_id:int,order_date:string,amount:double,customer_id:int>\n",
      "      +- BroadcastExchange HashedRelationBroadcastMode(List(cast(input[0, int, false] as bigint)),false), [id=#1547]\n",
      "         +- *(1) Filter isnotnull(order_id#134)\n",
      "            +- FileScan csv [order_id#134] Batched: false, DataFilters: [isnotnull(order_id#134)], Format: CSV, Location: InMemoryFileIndex[file:/F:/Koblenz/Study/2nd semester/Big Data/Exam 2/Joins/orders2.csv], PartitionFilters: [], PushedFilters: [IsNotNull(order_id)], ReadSchema: struct<order_id:int>\n",
      "\n",
      "\n"
     ]
    }
   ],
   "source": [
    "customers.join(orders,customers[\"customer_id\"] == orders[\"customer_id\"],\"inner\").join(orders2,orders[\"order_id\"] == orders2[\"order_id\"],\"leftanti\").explain()"
   ]
  },
  {
   "cell_type": "code",
   "execution_count": null,
   "metadata": {},
   "outputs": [],
   "source": []
  }
 ],
 "metadata": {
  "kernelspec": {
   "display_name": "Python 3",
   "language": "python",
   "name": "python3"
  },
  "language_info": {
   "codemirror_mode": {
    "name": "ipython",
    "version": 3
   },
   "file_extension": ".py",
   "mimetype": "text/x-python",
   "name": "python",
   "nbconvert_exporter": "python",
   "pygments_lexer": "ipython3",
   "version": "3.8.3"
  }
 },
 "nbformat": 4,
 "nbformat_minor": 4
}
