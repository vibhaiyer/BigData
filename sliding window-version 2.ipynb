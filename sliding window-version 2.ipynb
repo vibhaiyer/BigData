{
 "cells": [
  {
   "cell_type": "code",
   "execution_count": 2,
   "metadata": {},
   "outputs": [],
   "source": [
    "from datetime import timedelta, time, datetime, date"
   ]
  },
  {
   "cell_type": "code",
   "execution_count": 3,
   "metadata": {},
   "outputs": [
    {
     "name": "stdout",
     "output_type": "stream",
     "text": [
      "1 .\t 02:00:00 - 02:40:00 Value :-  18\n",
      "2 .\t 02:25:00 - 03:05:00 Value :-  8\n",
      "3 .\t 02:50:00 - 03:30:00 Value :-  -5\n",
      "4 .\t 03:15:00 - 03:55:00 Value :-  -10\n",
      "5 .\t 03:40:00 - 04:20:00 Value :-  2\n",
      "6 .\t 04:05:00 - 04:45:00 Value :-  -5\n",
      "7 .\t 04:30:00 - 05:10:00 Value :-  -12\n",
      "8 .\t 04:55:00 - 05:35:00 Value :-  -5\n",
      "9 .\t 05:20:00 - 06:00:00 Value :-  0\n"
     ]
    }
   ],
   "source": [
    "start_time = time(2,0,0)\n",
    "window_size = timedelta(minutes=40)\n",
    "slide_time = timedelta(minutes=25)\n",
    "\n",
    "\n",
    "#entry dictionary\n",
    "start_time_dict = {02.00:4,\n",
    "02.15:8,\n",
    "02.30:4,\n",
    "02.40:2,\n",
    "02.55:4,\n",
    "04.10:5}\n",
    "\n",
    "#exit dictionary\n",
    "end_time_dict = {03.05:2,\n",
    "03.30:7,\n",
    "03.45:3,\n",
    "04.25:3,\n",
    "04.45:7,\n",
    "05.00:5}\n",
    "\n",
    "a_start_time = datetime.combine(date.today(), start_time)\n",
    "#coding\n",
    "n = 1\n",
    "while(n<10) :\n",
    "    \n",
    "    end_time = a_start_time + window_size   \n",
    "    l = a_start_time.hour + (0.01* a_start_time.minute)\n",
    "    k = end_time.hour + (0.01* end_time.minute)   \n",
    "    change = 0\n",
    "    for e_time, no in start_time_dict.items() :\n",
    "        if l <= e_time <= k :\n",
    "            change = change + no\n",
    "    for e_time, no in end_time_dict.items() :\n",
    "        if l <= e_time <= k :\n",
    "            change = change - no\n",
    "    print(n , \".\\t\" ,a_start_time.time(), \"-\" ,end_time.time(), \"Value :- \", change )    \n",
    "    a_start_time = a_start_time + slide_time\n",
    "    n = n+1"
   ]
  },
  {
   "cell_type": "code",
   "execution_count": null,
   "metadata": {},
   "outputs": [],
   "source": []
  },
  {
   "cell_type": "code",
   "execution_count": null,
   "metadata": {},
   "outputs": [],
   "source": []
  },
  {
   "cell_type": "code",
   "execution_count": null,
   "metadata": {},
   "outputs": [],
   "source": []
  },
  {
   "cell_type": "code",
   "execution_count": null,
   "metadata": {},
   "outputs": [],
   "source": []
  },
  {
   "cell_type": "code",
   "execution_count": null,
   "metadata": {},
   "outputs": [],
   "source": []
  },
  {
   "cell_type": "code",
   "execution_count": null,
   "metadata": {},
   "outputs": [],
   "source": []
  },
  {
   "cell_type": "code",
   "execution_count": null,
   "metadata": {},
   "outputs": [],
   "source": []
  }
 ],
 "metadata": {
  "kernelspec": {
   "display_name": "Python 3",
   "language": "python",
   "name": "python3"
  },
  "language_info": {
   "codemirror_mode": {
    "name": "ipython",
    "version": 3
   },
   "file_extension": ".py",
   "mimetype": "text/x-python",
   "name": "python",
   "nbconvert_exporter": "python",
   "pygments_lexer": "ipython3",
   "version": "3.8.3"
  }
 },
 "nbformat": 4,
 "nbformat_minor": 4
}
