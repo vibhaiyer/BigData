{
 "cells": [
  {
   "cell_type": "code",
   "execution_count": 1,
   "metadata": {},
   "outputs": [],
   "source": [
    "import findspark\n",
    "findspark.init()\n",
    "findspark.find()\n",
    "import pyspark\n",
    "from pyspark import SparkContext, SparkConf\n",
    "from pyspark.sql import SparkSession\n",
    "conf = pyspark.SparkConf().setAppName('SparkApp').setMaster('local')\n",
    "sc = pyspark.SparkContext(conf=conf)\n",
    "spark = SparkSession(sc)"
   ]
  },
  {
   "cell_type": "code",
   "execution_count": 2,
   "metadata": {},
   "outputs": [],
   "source": [
    "from pyspark.sql.functions import expr"
   ]
  },
  {
   "cell_type": "code",
   "execution_count": 3,
   "metadata": {},
   "outputs": [],
   "source": [
    "customers = spark.read.csv(\n",
    "    path = \"customer.csv\",\n",
    "    sep = \",\",\n",
    "    header=True,\n",
    "    quote='\"',\n",
    "    schema=\"customer_id INT, name STRING, address STRING,website STRING, credit_limit FLOAT\")\n",
    "\n",
    "\n",
    "orders = spark.read.csv(\n",
    "    path = \"orders.csv\",\n",
    "    sep = \",\",\n",
    "    header=True,\n",
    "    quote='\"',\n",
    "    schema=\"order_id INT, customer_id INT, status STRING,salesman_id INT, order_date TIMESTAMP\")\n",
    "\n",
    "\n",
    "employees = spark.read.csv(\n",
    "    path = \"employees.csv\",\n",
    "    sep = \",\",\n",
    "    header=True,\n",
    "    quote='\"',\n",
    "    schema=\"employee_id INT, fname STRING, lname STRING,email STRING,phone INT, hire_date TIMESTAMP, manager_id INT, job_title STRING\")\n"
   ]
  },
  {
   "cell_type": "code",
   "execution_count": 4,
   "metadata": {},
   "outputs": [
    {
     "name": "stdout",
     "output_type": "stream",
     "text": [
      "+-----------+----+-------+-------+------------+\n",
      "|customer_id|name|address|website|credit_limit|\n",
      "+-----------+----+-------+-------+------------+\n",
      "|        123| abc|   null|   null|        null|\n",
      "|        456| def|   null|   null|        null|\n",
      "|        789| ghk|   null|   null|        null|\n",
      "+-----------+----+-------+-------+------------+\n",
      "\n"
     ]
    }
   ],
   "source": [
    "customers.show()\n",
    "customers.registerTempTable(\"customers\")"
   ]
  },
  {
   "cell_type": "code",
   "execution_count": 5,
   "metadata": {},
   "outputs": [
    {
     "name": "stdout",
     "output_type": "stream",
     "text": [
      "+--------+-----------+--------+-----------+----------+\n",
      "|order_id|customer_id|  status|salesman_id|order_date|\n",
      "+--------+-----------+--------+-----------+----------+\n",
      "|      98|        123| pending|         12|      null|\n",
      "|      76|        456|complete|         34|      null|\n",
      "|      54|        789|complete|         56|      null|\n",
      "|    5345|        123|complete|         12|      null|\n",
      "|     453|        456|complete|         34|      null|\n",
      "|    4645|        789|complete|         12|      null|\n",
      "|     768|        123| pending|         12|      null|\n",
      "|    5754|        456|complete|         56|      null|\n",
      "|      46|        789|complete|         12|      null|\n",
      "|     325|        123| pending|         12|      null|\n",
      "|      79|        456|complete|         56|      null|\n",
      "|     453|        789| pending|         56|      null|\n",
      "+--------+-----------+--------+-----------+----------+\n",
      "\n"
     ]
    }
   ],
   "source": [
    "orders.show()\n",
    "orders.registerTempTable(\"orders\")"
   ]
  },
  {
   "cell_type": "code",
   "execution_count": 6,
   "metadata": {},
   "outputs": [
    {
     "name": "stdout",
     "output_type": "stream",
     "text": [
      "+-----------+---------+-------+-----+-----+---------+----------+---------+\n",
      "|employee_id|    fname|  lname|email|phone|hire_date|manager_id|job_title|\n",
      "+-----------+---------+-------+-----+-----+---------+----------+---------+\n",
      "|         12|     dhbf| kdfhjk| null| null|     null|      null|     null|\n",
      "|         34|     dkfj|  sklfj| null| null|     null|      null|     null|\n",
      "|         56|isjfiosjf|kdjflid| null| null|     null|      null|     null|\n",
      "|         78|      efr|     rw| null| null|     null|      null|     null|\n",
      "|         69| fdfvsdvf|  dgsdg| null| null|     null|      null|     null|\n",
      "+-----------+---------+-------+-----+-----+---------+----------+---------+\n",
      "\n"
     ]
    }
   ],
   "source": [
    "employees.show()\n",
    "employees.registerTempTable(\"employees\")"
   ]
  },
  {
   "cell_type": "code",
   "execution_count": 7,
   "metadata": {},
   "outputs": [
    {
     "data": {
      "text/plain": [
       "[(123, 1), (789, 1)]"
      ]
     },
     "execution_count": 7,
     "metadata": {},
     "output_type": "execute_result"
    }
   ],
   "source": [
    "orders.rdd.filter(lambda row: row[\"status\"] == \"pending\").map(lambda row: (row[\"customer_id\"], 1)).reduceByKey(lambda x,y: x * y).sortBy(lambda x:x[1], ascending= False).collect()"
   ]
  },
  {
   "cell_type": "code",
   "execution_count": 8,
   "metadata": {},
   "outputs": [
    {
     "data": {
      "text/plain": [
       "[(123, 3), (789, 1)]"
      ]
     },
     "execution_count": 8,
     "metadata": {},
     "output_type": "execute_result"
    }
   ],
   "source": [
    "orders.rdd.filter(lambda row: row[\"status\"] == \"pending\").map(lambda row: (row[\"customer_id\"], 1)).reduceByKey(lambda x,y: x+y).sortBy(lambda x:x[1], ascending= False).collect()"
   ]
  },
  {
   "cell_type": "code",
   "execution_count": 9,
   "metadata": {},
   "outputs": [
    {
     "data": {
      "text/plain": [
       "[(123, 3), (789, 1)]"
      ]
     },
     "execution_count": 9,
     "metadata": {},
     "output_type": "execute_result"
    }
   ],
   "source": [
    "orders.rdd.filter(lambda y: y[\"status\"] == \"pending\").map(lambda y: (y[\"customer_id\"], 1)).reduceByKey(lambda x,y: x + y).sortBy(lambda x:x[1], ascending= False).collect()"
   ]
  },
  {
   "cell_type": "code",
   "execution_count": null,
   "metadata": {},
   "outputs": [],
   "source": []
  },
  {
   "cell_type": "code",
   "execution_count": null,
   "metadata": {},
   "outputs": [],
   "source": []
  },
  {
   "cell_type": "markdown",
   "metadata": {},
   "source": [
    "#Example Question\n",
    "\n",
    "\n",
    "The following schema describes Students who are enrolled in different subjects. Your task is to use the RDD API to compute the grade of all students in Big Data Subject and Sort the resulting RDD from highest to lowest grade. The variable students and grades are a reference to the DataFrames STUDENTS and GRADES respectively.\n",
    "\n",
    "Students : student_ID, Student_name, Subject, Date\n",
    "Grades : student_ID, Grade\n",
    "\n"
   ]
  },
  {
   "cell_type": "code",
   "execution_count": 35,
   "metadata": {},
   "outputs": [
    {
     "name": "stdout",
     "output_type": "stream",
     "text": [
      "+----------+------------+------------+---------+\n",
      "|student_id|student_name|     subject|     date|\n",
      "+----------+------------+------------+---------+\n",
      "|       123|         abc|    Big Data|30-Oct-20|\n",
      "|       456|       priya|          ML|30-Oct-20|\n",
      "|       789|       vibha|    Big Data|30-Oct-20|\n",
      "|       741|         hmk|          ML|30-Oct-20|\n",
      "|       852|         lfg|    Big Data|30-Oct-20|\n",
      "|       963|         sdb|Data Science|30-Oct-20|\n",
      "|       951|     jchnsjk|Data Science|30-Oct-20|\n",
      "+----------+------------+------------+---------+\n",
      "\n"
     ]
    },
    {
     "data": {
      "text/plain": [
       "[Row(student_id=123, student_name='abc', subject='Big Data', date='30-Oct-20'),\n",
       " Row(student_id=456, student_name='priya', subject='ML', date='30-Oct-20'),\n",
       " Row(student_id=789, student_name='vibha', subject='Big Data', date='30-Oct-20'),\n",
       " Row(student_id=741, student_name='hmk', subject='ML', date='30-Oct-20'),\n",
       " Row(student_id=852, student_name='lfg', subject='Big Data', date='30-Oct-20'),\n",
       " Row(student_id=963, student_name='sdb', subject='Data Science', date='30-Oct-20'),\n",
       " Row(student_id=951, student_name='jchnsjk', subject='Data Science', date='30-Oct-20')]"
      ]
     },
     "execution_count": 35,
     "metadata": {},
     "output_type": "execute_result"
    }
   ],
   "source": [
    "students = spark.read.option(\"inferSchema\",\"true\").option(\"header\",\"true\").csv(\"STUDENTS.csv\")\n",
    "students.show()\n",
    "#students_rdd = Students.rdd\n",
    "#students_rdd.collect()\n",
    "students.rdd.collect()"
   ]
  },
  {
   "cell_type": "code",
   "execution_count": 34,
   "metadata": {},
   "outputs": [
    {
     "name": "stdout",
     "output_type": "stream",
     "text": [
      "+----------+-----+\n",
      "|student_id|grade|\n",
      "+----------+-----+\n",
      "|       123|  2.7|\n",
      "|       456|  1.3|\n",
      "|       789|  1.0|\n",
      "|       741|  3.3|\n",
      "|       852|  4.0|\n",
      "|       963|  2.3|\n",
      "|       951|  2.0|\n",
      "+----------+-----+\n",
      "\n"
     ]
    },
    {
     "data": {
      "text/plain": [
       "[Row(student_id=123, grade=2.7),\n",
       " Row(student_id=456, grade=1.3),\n",
       " Row(student_id=789, grade=1.0),\n",
       " Row(student_id=741, grade=3.3),\n",
       " Row(student_id=852, grade=4.0),\n",
       " Row(student_id=963, grade=2.3),\n",
       " Row(student_id=951, grade=2.0)]"
      ]
     },
     "execution_count": 34,
     "metadata": {},
     "output_type": "execute_result"
    }
   ],
   "source": [
    "grades = spark.read.option(\"inferSchema\",\"true\").option(\"header\",\"true\").csv(\"GRADES.csv\")\n",
    "grades.show()\n",
    "#grades_rdd = Grades.rdd\n",
    "#grades_rdd.collect()\n",
    "grades.rdd.collect()"
   ]
  },
  {
   "cell_type": "code",
   "execution_count": 36,
   "metadata": {},
   "outputs": [
    {
     "data": {
      "text/plain": [
       "[(852, ('lfg', 4.0)), (123, ('abc', 2.7)), (789, ('vibha', 1.0))]"
      ]
     },
     "execution_count": 36,
     "metadata": {},
     "output_type": "execute_result"
    }
   ],
   "source": [
    "students.rdd.filter(lambda row: row[\"subject\"] == \"Big Data\").join(grades.rdd).sortBy(lambda x: x[1][1],ascending= False).collect()"
   ]
  },
  {
   "cell_type": "code",
   "execution_count": 39,
   "metadata": {},
   "outputs": [
    {
     "data": {
      "text/plain": [
       "[(789, ('vibha', 1.0)), (123, ('abc', 2.7)), (852, ('lfg', 4.0))]"
      ]
     },
     "execution_count": 39,
     "metadata": {},
     "output_type": "execute_result"
    }
   ],
   "source": [
    "students.rdd.filter(lambda row: row[\"subject\"] == \"Big Data\").join(grades.rdd).sortBy(lambda x: x[1][1],ascending= True).collect()"
   ]
  },
  {
   "cell_type": "code",
   "execution_count": 37,
   "metadata": {},
   "outputs": [
    {
     "data": {
      "text/plain": [
       "[(456, ('priya', 1.3)),\n",
       " (852, ('lfg', 4.0)),\n",
       " (123, ('abc', 2.7)),\n",
       " (789, ('vibha', 1.0)),\n",
       " (741, ('hmk', 3.3)),\n",
       " (963, ('sdb', 2.3)),\n",
       " (951, ('jchnsjk', 2.0))]"
      ]
     },
     "execution_count": 37,
     "metadata": {},
     "output_type": "execute_result"
    }
   ],
   "source": [
    "students.rdd.fullOuterJoin(grades.rdd).collect()"
   ]
  },
  {
   "cell_type": "code",
   "execution_count": 38,
   "metadata": {},
   "outputs": [
    {
     "data": {
      "text/plain": [
       "[(456, ('priya', 1.3)),\n",
       " (852, ('lfg', 4.0)),\n",
       " (123, ('abc', 2.7)),\n",
       " (789, ('vibha', 1.0)),\n",
       " (741, ('hmk', 3.3)),\n",
       " (963, ('sdb', 2.3)),\n",
       " (951, ('jchnsjk', 2.0))]"
      ]
     },
     "execution_count": 38,
     "metadata": {},
     "output_type": "execute_result"
    }
   ],
   "source": [
    "students.rdd.join(grades.rdd).collect()"
   ]
  },
  {
   "cell_type": "code",
   "execution_count": 14,
   "metadata": {},
   "outputs": [
    {
     "data": {
      "text/plain": [
       "[(456, ('priya', 1.3)),\n",
       " (852, ('lfg', 4.0)),\n",
       " (123, ('abc', 2.7)),\n",
       " (789, ('vibha', 1.0)),\n",
       " (741, ('hmk', 3.3)),\n",
       " (963, ('sdb', 2.3)),\n",
       " (951, ('jchnsjk', 2.0))]"
      ]
     },
     "execution_count": 14,
     "metadata": {},
     "output_type": "execute_result"
    }
   ],
   "source": [
    "students.rdd.leftOuterJoin(grades.rdd).collect()"
   ]
  },
  {
   "cell_type": "code",
   "execution_count": 15,
   "metadata": {},
   "outputs": [
    {
     "data": {
      "text/plain": [
       "[(456, ('priya', 1.3)),\n",
       " (852, ('lfg', 4.0)),\n",
       " (123, ('abc', 2.7)),\n",
       " (789, ('vibha', 1.0)),\n",
       " (741, ('hmk', 3.3)),\n",
       " (963, ('sdb', 2.3)),\n",
       " (951, ('jchnsjk', 2.0))]"
      ]
     },
     "execution_count": 15,
     "metadata": {},
     "output_type": "execute_result"
    }
   ],
   "source": [
    "students.rdd.rightOuterJoin(grades.rdd).collect()"
   ]
  },
  {
   "cell_type": "code",
   "execution_count": 16,
   "metadata": {},
   "outputs": [
    {
     "data": {
      "text/plain": [
       "[(456, (1.3, 'priya')),\n",
       " (852, (4.0, 'lfg')),\n",
       " (123, (2.7, 'abc')),\n",
       " (789, (1.0, 'vibha')),\n",
       " (741, (3.3, 'hmk')),\n",
       " (963, (2.3, 'sdb')),\n",
       " (951, (2.0, 'jchnsjk'))]"
      ]
     },
     "execution_count": 16,
     "metadata": {},
     "output_type": "execute_result"
    }
   ],
   "source": [
    "grades.rdd.fullOuterJoin(students.rdd).collect()"
   ]
  },
  {
   "cell_type": "code",
   "execution_count": 29,
   "metadata": {},
   "outputs": [
    {
     "data": {
      "text/plain": [
       "[Row(student_id=123, student_name='abc', subject='Big Data', date='30-Oct-20'),\n",
       " Row(student_id=789, student_name='vibha', subject='Big Data', date='30-Oct-20'),\n",
       " Row(student_id=852, student_name='lfg', subject='Big Data', date='30-Oct-20')]"
      ]
     },
     "execution_count": 29,
     "metadata": {},
     "output_type": "execute_result"
    }
   ],
   "source": [
    "students.rdd.filter(lambda y: y[\"subject\"] == \"Big Data\").collect()"
   ]
  },
  {
   "cell_type": "code",
   "execution_count": null,
   "metadata": {},
   "outputs": [],
   "source": []
  },
  {
   "cell_type": "code",
   "execution_count": null,
   "metadata": {},
   "outputs": [],
   "source": []
  }
 ],
 "metadata": {
  "kernelspec": {
   "display_name": "Python 3",
   "language": "python",
   "name": "python3"
  },
  "language_info": {
   "codemirror_mode": {
    "name": "ipython",
    "version": 3
   },
   "file_extension": ".py",
   "mimetype": "text/x-python",
   "name": "python",
   "nbconvert_exporter": "python",
   "pygments_lexer": "ipython3",
   "version": "3.8.3"
  }
 },
 "nbformat": 4,
 "nbformat_minor": 4
}
