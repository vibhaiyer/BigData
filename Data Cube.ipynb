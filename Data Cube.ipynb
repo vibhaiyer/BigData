{
 "cells": [
  {
   "cell_type": "code",
   "execution_count": null,
   "metadata": {},
   "outputs": [],
   "source": [
    "import findspark\n",
    "findspark.init()\n",
    "findspark.find()\n",
    "import pyspark\n",
    "from pyspark import SparkContext, SparkConf\n",
    "from pyspark.sql import SparkSession\n",
    "conf = pyspark.SparkConf().setAppName('SparkApp').setMaster('local')\n",
    "sc = pyspark.SparkContext(conf=conf)\n",
    "spark = SparkSession(sc)"
   ]
  },
  {
   "cell_type": "code",
   "execution_count": 2,
   "metadata": {},
   "outputs": [
    {
     "name": "stdout",
     "output_type": "stream",
     "text": [
      "+---------+---------+--------------------+--------+--------------+---------+----------+--------------+\n",
      "|InvoiceNo|StockCode|         Description|Quantity|   InvoiceDate|UnitPrice|CustomerID|       Country|\n",
      "+---------+---------+--------------------+--------+--------------+---------+----------+--------------+\n",
      "|   536365|   85123A|WHITE HANGING HEA...|       6|12/1/2010 8:26|     2.55|     17850|United Kingdom|\n",
      "|   536365|    71053| WHITE METAL LANTERN|       6|12/1/2010 8:26|     3.39|     17850|United Kingdom|\n",
      "|   536365|   84406B|CREAM CUPID HEART...|       8|12/1/2010 8:26|     2.75|     17850|United Kingdom|\n",
      "|   536365|   84029G|KNITTED UNION FLA...|       6|12/1/2010 8:26|     3.39|     17850|United Kingdom|\n",
      "|   536365|   84029E|RED WOOLLY HOTTIE...|       6|12/1/2010 8:26|     3.39|     17850|United Kingdom|\n",
      "|   536365|    22752|SET 7 BABUSHKA NE...|       2|12/1/2010 8:26|     7.65|     17850|United Kingdom|\n",
      "|   536365|    21730|GLASS STAR FROSTE...|       6|12/1/2010 8:26|     4.25|     17850|United Kingdom|\n",
      "|   536366|    22633|HAND WARMER UNION...|       6|12/1/2010 8:28|     1.85|     17850|United Kingdom|\n",
      "|   536366|    22632|HAND WARMER RED P...|       6|12/1/2010 8:28|     1.85|     17850|United Kingdom|\n",
      "|   536367|    84879|ASSORTED COLOUR B...|      32|12/1/2010 8:34|     1.69|     13047|United Kingdom|\n",
      "|   536367|    22745|POPPY'S PLAYHOUSE...|       6|12/1/2010 8:34|      2.1|     13047|United Kingdom|\n",
      "|   536367|    22748|POPPY'S PLAYHOUSE...|       6|12/1/2010 8:34|      2.1|     13047|United Kingdom|\n",
      "|   536367|    22749|FELTCRAFT PRINCES...|       8|12/1/2010 8:34|     3.75|     13047|United Kingdom|\n",
      "|   536367|    22310|IVORY KNITTED MUG...|       6|12/1/2010 8:34|     1.65|     13047|United Kingdom|\n",
      "|   536367|    84969|BOX OF 6 ASSORTED...|       6|12/1/2010 8:34|     4.25|     13047|United Kingdom|\n",
      "|   536367|    22623|BOX OF VINTAGE JI...|       3|12/1/2010 8:34|     4.95|     13047|United Kingdom|\n",
      "|   536367|    22622|BOX OF VINTAGE AL...|       2|12/1/2010 8:34|     9.95|     13047|United Kingdom|\n",
      "|   536367|    21754|HOME BUILDING BLO...|       3|12/1/2010 8:34|     5.95|     13047|United Kingdom|\n",
      "|   536367|    21755|LOVE BUILDING BLO...|       3|12/1/2010 8:34|     5.95|     13047|United Kingdom|\n",
      "|   536367|    21777|RECIPE BOX WITH M...|       4|12/1/2010 8:34|     7.95|     13047|United Kingdom|\n",
      "+---------+---------+--------------------+--------+--------------+---------+----------+--------------+\n",
      "only showing top 20 rows\n",
      "\n"
     ]
    }
   ],
   "source": [
    "retaildata = spark.read.option(\"inferSchema\",\"true\").option(\"header\",\"true\").csv(\"online-retail-dataset.csv\")\n",
    "retaildata.show()"
   ]
  },
  {
   "cell_type": "code",
   "execution_count": 3,
   "metadata": {},
   "outputs": [
    {
     "name": "stdout",
     "output_type": "stream",
     "text": [
      "+---------+--------------+--------------+\n",
      "|StockCode|       Country|Quantity_total|\n",
      "+---------+--------------+--------------+\n",
      "|    22154|United Kingdom|          3646|\n",
      "|    22478|United Kingdom|          1423|\n",
      "|    22844|United Kingdom|           916|\n",
      "|    21788|United Kingdom|           867|\n",
      "|    22042|United Kingdom|           190|\n",
      "|    22539|        France|           312|\n",
      "|    85078|         Italy|            24|\n",
      "|   85034C|         Italy|             4|\n",
      "|    22389|United Kingdom|           202|\n",
      "|    85087|United Kingdom|           304|\n",
      "|   35809A|United Kingdom|           291|\n",
      "|    84821|United Kingdom|           821|\n",
      "|    22837|         Spain|            16|\n",
      "|    21030|        Cyprus|            10|\n",
      "|    84992|        Sweden|           240|\n",
      "|    22713|   Switzerland|            12|\n",
      "|    21989|       Belgium|            36|\n",
      "|    21080|       Germany|           385|\n",
      "|   84661C|United Kingdom|            71|\n",
      "|   82613D|        Cyprus|            20|\n",
      "+---------+--------------+--------------+\n",
      "only showing top 20 rows\n",
      "\n"
     ]
    }
   ],
   "source": [
    "from pyspark.sql.functions import sum \n",
    "retail_selection = retaildata.select(\"Country\",\"StockCode\", \"Quantity\")\n",
    "retail_selection = retail_selection.groupBy(\"StockCode\", \"Country\").agg(sum(\"Quantity\").alias(\"Quantity_total\"))\n",
    "retail_selection.show()"
   ]
  },
  {
   "cell_type": "code",
   "execution_count": 4,
   "metadata": {},
   "outputs": [
    {
     "name": "stdout",
     "output_type": "stream",
     "text": [
      "+---------+--------------+--------------+\n",
      "|StockCode|       Country|Quantity_total|\n",
      "+---------+--------------+--------------+\n",
      "|    22154|United Kingdom|          3646|\n",
      "|    22478|United Kingdom|          1423|\n",
      "|    22844|United Kingdom|           916|\n",
      "|    21788|United Kingdom|           867|\n",
      "|    22042|United Kingdom|           190|\n",
      "|    22389|United Kingdom|           202|\n",
      "|    85087|United Kingdom|           304|\n",
      "|   35809A|United Kingdom|           291|\n",
      "|    84821|United Kingdom|           821|\n",
      "|   84661C|United Kingdom|            71|\n",
      "|    90157|United Kingdom|            10|\n",
      "|   84984D|United Kingdom|            13|\n",
      "|    23326|United Kingdom|          2435|\n",
      "|    47016|United Kingdom|             2|\n",
      "|    22768|United Kingdom|           807|\n",
      "|    16238|United Kingdom|          1113|\n",
      "|    22916|United Kingdom|          1667|\n",
      "|    21704|United Kingdom|          4743|\n",
      "|        M|United Kingdom|          3662|\n",
      "|   35271S|United Kingdom|             6|\n",
      "+---------+--------------+--------------+\n",
      "only showing top 20 rows\n",
      "\n"
     ]
    }
   ],
   "source": [
    "#slice Operation\n",
    "from pyspark.sql.functions import col\n",
    "retail_slice = retail_selection.where(col(\"Country\") == \"United Kingdom\")\n",
    "retail_slice.show()\n",
    "\n",
    "#slice = datacube.where(col(\"Country\") == \"United States\")"
   ]
  },
  {
   "cell_type": "code",
   "execution_count": 5,
   "metadata": {},
   "outputs": [
    {
     "name": "stdout",
     "output_type": "stream",
     "text": [
      "+---------+--------------+--------------+\n",
      "|StockCode|       Country|Quantity_total|\n",
      "+---------+--------------+--------------+\n",
      "|    21577|           USA|             0|\n",
      "|   84706D|United Kingdom|             1|\n",
      "|    21763|United Kingdom|             0|\n",
      "|    21054|United Kingdom|             1|\n",
      "|    23843|United Kingdom|             0|\n",
      "|    22016|United Kingdom|             1|\n",
      "|    22050|           USA|             0|\n",
      "|   72802c|United Kingdom|             1|\n",
      "|    23602|United Kingdom|             1|\n",
      "|   90187A|United Kingdom|             1|\n",
      "|   46776b|United Kingdom|             1|\n",
      "|    21668|           USA|             0|\n",
      "|    21669|           USA|             0|\n",
      "|   90060B|United Kingdom|             1|\n",
      "|   84031b|United Kingdom|             1|\n",
      "|   35597B|United Kingdom|             1|\n",
      "|    72815|United Kingdom|             0|\n",
      "|    22649|           USA|             0|\n",
      "|    21058|           USA|             0|\n",
      "|   90126A|United Kingdom|             1|\n",
      "+---------+--------------+--------------+\n",
      "only showing top 20 rows\n",
      "\n"
     ]
    }
   ],
   "source": [
    "#Dice Operation\n",
    "retail_dice = retail_selection.where((col(\"Country\") == \"United Kingdom\") | (col(\"Country\") == \"USA\")).where((col(\"Quantity_total\") == 0) | (col(\"Quantity_total\") == \"1\"))\n",
    "retail_dice.show()\n",
    "\n",
    "#dice = datacube.where(((col(\"Country\") == \"United States\") | (col(\"Country\") == \"United Kingdom\")) & (col(\"Quantity\") == 0))"
   ]
  },
  {
   "cell_type": "code",
   "execution_count": 7,
   "metadata": {},
   "outputs": [
    {
     "name": "stdout",
     "output_type": "stream",
     "text": [
      "+---------+---------+-------+-------+-------+------+------+---------------+------+--------------+-------+----+------------------+-------+------+-------+------+---------+-------+------+-----+-----+-------+---------+-----+-----------+------+------+--------+----+------------+---------+-----+------+-----------+----+--------------------+--------------+-----------+\n",
      "|StockCode|Australia|Austria|Bahrain|Belgium|Brazil|Canada|Channel Islands|Cyprus|Czech Republic|Denmark|EIRE|European Community|Finland|France|Germany|Greece|Hong Kong|Iceland|Israel|Italy|Japan|Lebanon|Lithuania|Malta|Netherlands|Norway|Poland|Portugal| RSA|Saudi Arabia|Singapore|Spain|Sweden|Switzerland| USA|United Arab Emirates|United Kingdom|Unspecified|\n",
      "+---------+---------+-------+-------+-------+------+------+---------------+------+--------------+-------+----+------------------+-------+------+-------+------+---------+-------+------+-----+-----+-------+---------+-----+-----------+------+------+--------+----+------------+---------+-----+------+-----------+----+--------------------+--------------+-----------+\n",
      "|    21249|       96|   null|   null|     12|  null|  null|           null|  null|          null|   null|  12|              null|     24|    54|    108|  null|        6|   null|    30|   48| null|   null|     null| null|        120|    18|  null|    null|null|        null|     null|   12|  null|         24|null|                null|           160|       null|\n",
      "|    23318|        6|      6|   null|   null|  null|  null|           null|  null|          null|   null| 259|              null|   null|    82|     54|  null|     null|   null|  null| null| null|   null|     null| null|          6|  null|  null|       6|null|        null|     null| null|     6|         12|null|                   6|          3182|         18|\n",
      "|    22596|     null|   null|   null|   null|  null|  null|           null|  null|          null|   null|  36|              null|   null|    36|     23|  null|     null|   null|  null| null| null|   null|     null| null|       null|    12|  null|    null|null|        null|       48| null|  null|          3|null|                null|          3319|       null|\n",
      "|    23843|     null|   null|   null|   null|  null|  null|           null|  null|          null|   null|null|              null|   null|  null|   null|  null|     null|   null|  null| null| null|   null|     null| null|       null|  null|  null|    null|null|        null|     null| null|  null|       null|null|                null|             0|       null|\n",
      "|    21452|     null|   null|   null|     30|  null|  null|              6|  null|          null|      6|   6|              null|   null|    71|     75|  null|     null|   null|  null| null|   44|   null|     null| null|         96|  null|  null|    null|null|        null|     null|    6|     6|          6|null|                null|           437|       null|\n",
      "|    22254|     null|   null|   null|   null|  null|  null|           null|  null|          null|   null|  12|              null|   null|    24|     24|  null|     null|   null|  null| null| null|   null|     null| null|        204|  null|    24|    null|null|        null|     null| null|  null|         12|null|                null|           357|       null|\n",
      "|    22728|       58|   null|   null|     40|  null|  null|              4|     4|          null|    106| 240|              null|   null|   362|    280|  null|     null|     16|     4| null| null|   null|     null| null|          1|    24|     4|    null|null|        null|     null|   28|  null|         16|null|                null|          4136|       null|\n",
      "|    21248|     null|   null|   null|   null|  null|  null|           null|  null|          null|   null|null|              null|   null|     4|   null|  null|     null|   null|  null| null| null|   null|     null| null|       null|    24|  null|    null|null|        null|     null|    2|  null|       null|null|                null|           156|       null|\n",
      "|   85132b|     null|   null|   null|   null|  null|  null|           null|  null|          null|   null|null|              null|   null|  null|   null|  null|     null|   null|  null| null| null|   null|     null| null|       null|  null|  null|    null|null|        null|     null| null|  null|       null|null|                null|             9|       null|\n",
      "|    21259|     null|   null|   null|   null|  null|  null|           null|  null|          null|   null|  28|              null|   null|     3|      2|  null|     null|   null|  null| null|   72|   null|     null| null|       null|  null|  null|       4|null|        null|     null| null|  null|       null|null|                null|          1008|       null|\n",
      "|    21889|     null|   null|   null|     24|  null|  null|           null|  null|          null|   null| 288|              null|   null|   144|    108|  null|     null|   null|  null| null| null|   null|     null| null|       null|    12|  null|      36|  12|        null|     null|   48|   588|         12|null|                null|          5081|         24|\n",
      "|   90197B|     null|   null|   null|   null|  null|  null|           null|  null|          null|   null|null|              null|   null|  null|   null|  null|     null|   null|  null| null| null|   null|     null| null|       null|  null|  null|    null|null|        null|     null| null|  null|       null|null|                null|            35|       null|\n",
      "|    21894|     null|   null|   null|   null|  null|  null|           null|  null|          null|   null|  24|              null|   null|    12|     24|  null|     null|   null|  null| null| null|   null|     null| null|       null|  null|  null|    null|null|        null|     null| null|  null|       null|null|                null|           497|       null|\n",
      "|    20868|     null|   null|   null|   null|  null|  null|           null|  null|          null|   null|null|              null|   null|  null|   null|  null|     null|   null|  null| null| null|   null|     null| null|       null|  null|  null|       4|null|        null|     null| null|  null|       null|null|                null|           441|         13|\n",
      "|    22121|     null|   null|   null|   null|  null|  null|           null|  null|          null|   null|  15|              null|   null|     6|   null|  null|     null|   null|  null| null| null|   null|     null| null|       null|  null|  null|    null|null|        null|       12| null|  null|       null|null|                null|           272|       null|\n",
      "|   90177A|     null|   null|   null|   null|  null|  null|           null|  null|          null|   null|   0|              null|   null|  null|   null|  null|     null|   null|  null| null| null|   null|     null| null|       null|  null|  null|    null|null|        null|     null| null|  null|       null|null|                null|             8|       null|\n",
      "|    90022|     null|   null|   null|   null|  null|  null|           null|  null|          null|   null|   0|              null|   null|  null|   null|  null|     null|   null|  null| null| null|   null|     null| null|       null|  null|  null|    null|null|        null|     null| null|  null|       null|null|                null|            20|       null|\n",
      "|   90026D|     null|   null|   null|   null|  null|  null|           null|  null|          null|   null|null|              null|   null|  null|   null|  null|     null|   null|  null| null| null|   null|     null| null|       null|  null|  null|    null|null|        null|     null| null|  null|       null|null|                null|             3|       null|\n",
      "|    23459|     null|   null|   null|   null|  null|  null|           null|  null|          null|   null|null|              null|   null|  null|      2|  null|     null|   null|  null| null| null|   null|     null| null|       null|  null|  null|    null|null|        null|     null| null|  null|       null|null|                null|            28|       null|\n",
      "|    90143|     null|   null|   null|   null|  null|  null|           null|  null|          null|   null|null|              null|   null|  null|   null|  null|     null|   null|  null| null| null|   null|     null| null|       null|  null|  null|    null|null|        null|     null| null|  null|       null|null|                null|            31|       null|\n",
      "+---------+---------+-------+-------+-------+------+------+---------------+------+--------------+-------+----+------------------+-------+------+-------+------+---------+-------+------+-----+-----+-------+---------+-----+-----------+------+------+--------+----+------------+---------+-----+------+-----------+----+--------------------+--------------+-----------+\n",
      "only showing top 20 rows\n",
      "\n"
     ]
    },
    {
     "name": "stdout",
     "output_type": "stream",
     "text": [
      "+---------+---------+-------+-------+-------+------+------+---------------+------+--------------+-------+----+------------------+-------+------+-------+------+---------+-------+------+-----+-----+-------+---------+-----+-----------+------+------+--------+----+------------+---------+-----+------+-----------+----+--------------------+--------------+-----------+\n",
      "|StockCode|Australia|Austria|Bahrain|Belgium|Brazil|Canada|Channel Islands|Cyprus|Czech Republic|Denmark|EIRE|European Community|Finland|France|Germany|Greece|Hong Kong|Iceland|Israel|Italy|Japan|Lebanon|Lithuania|Malta|Netherlands|Norway|Poland|Portugal| RSA|Saudi Arabia|Singapore|Spain|Sweden|Switzerland| USA|United Arab Emirates|United Kingdom|Unspecified|\n",
      "+---------+---------+-------+-------+-------+------+------+---------------+------+--------------+-------+----+------------------+-------+------+-------+------+---------+-------+------+-----+-----+-------+---------+-----+-----------+------+------+--------+----+------------+---------+-----+------+-----------+----+--------------------+--------------+-----------+\n",
      "|    10002|     null|   null|   null|   null|  null|  null|           null|  null|          null|   null|  12|              null|   null|   372|      1|  null|     null|   null|  null| null|    1|   null|     null| null|       null|  null|  null|    null|null|        null|     null|   24|  null|         12|null|                null|           615|       null|\n",
      "|    10080|     null|   null|   null|   null|  null|  null|           null|  null|          null|   null|null|              null|   null|  null|   null|  null|     null|   null|  null| null| null|   null|     null| null|       null|  null|  null|    null|null|        null|     null| null|  null|       null|null|                null|           495|       null|\n",
      "|    10120|     null|   null|   null|   null|  null|  null|           null|  null|          null|   null|null|              null|   null|    10|   null|  null|     null|   null|  null| null| null|   null|     null| null|       null|  null|  null|    null|null|        null|     null| null|  null|       null|null|                null|           183|       null|\n",
      "|   10123C|     null|   null|   null|   null|  null|  null|           null|  null|          null|   null|null|              null|   null|  null|   null|  null|     null|   null|  null| null| null|   null|     null| null|       null|  null|  null|    null|null|        null|     null| null|  null|       null|null|                null|           -13|       null|\n",
      "|   10123G|     null|   null|   null|   null|  null|  null|           null|  null|          null|   null|null|              null|   null|  null|   null|  null|     null|   null|  null| null| null|   null|     null| null|       null|  null|  null|    null|null|        null|     null| null|  null|       null|null|                null|           -38|       null|\n",
      "|   10124A|     null|   null|   null|   null|  null|  null|           null|  null|          null|   null|null|              null|   null|  null|   null|  null|     null|   null|  null| null| null|   null|     null| null|       null|  null|  null|    null|null|        null|     null| null|  null|       null|null|                null|            16|       null|\n",
      "|   10124G|     null|   null|   null|   null|  null|  null|           null|  null|          null|   null|null|              null|   null|  null|   null|  null|     null|   null|  null| null| null|   null|     null| null|       null|  null|  null|    null|null|        null|     null| null|  null|       null|null|                null|            17|       null|\n",
      "|    10125|     null|   null|   null|   null|  null|  null|           null|  null|          null|   null|null|              null|   null|   470|    120|  null|     null|   null|  null| null| null|   null|     null| null|       null|  null|  null|    null|null|        null|     null| null|  null|         20|null|                null|           686|       null|\n",
      "|    10133|     null|   null|   null|   null|  null|    40|           null|  null|          null|   null|  40|              null|   null|  null|   null|  null|     null|   null|    20| null| null|   null|     null| null|       null|  null|  null|      20|null|        null|     null| null|  null|         10|null|                null|          2645|       null|\n",
      "|    10134|     null|   null|   null|   null|  null|  null|           null|  null|          null|   null|null|              null|   null|  null|   null|  null|     null|   null|  null| null| null|   null|     null| null|       null|  null|  null|    null|null|        null|     null| null|  null|       null|null|                null|           -19|       null|\n",
      "|    10135|     null|   null|   null|   null|  null|    20|           null|  null|          null|   null|  60|              null|   null|    10|    200|  null|     null|   null|  null| null| null|   null|     null| null|       null|    10|  null|    null|null|        null|     null| null|  null|       null|null|                null|          1930|       null|\n",
      "|    11001|     null|   null|   null|   null|  null|  null|           null|  null|          null|   null|  48|              null|   null|    16|     32|  null|     null|   null|  null| null| null|   null|     null| null|       null|    16|  null|      16|null|        null|     null|   16|  null|       null|null|                null|          1254|         32|\n",
      "|    15030|     null|   null|   null|   null|  null|  null|           null|  null|          null|   null|null|              null|   null|  null|   null|  null|     null|   null|  null| null| null|   null|     null| null|       null|  null|  null|    null|null|        null|     null| null|  null|       null|null|                null|           293|       null|\n",
      "|    15034|     null|   null|   null|   null|  null|  null|           null|  null|          null|   null|null|              null|   null|  null|     24|    24|     null|   null|  null| null| null|   null|     null| null|       null|   120|  null|    null|null|        null|     null|   24|  null|       null|null|                null|          5014|       null|\n",
      "|    15036|      600|   null|   null|   null|  null|  null|           null|  null|          null|     12|  48|              null|   null|    60|   1164|  null|     null|   null|  null|   12| null|   null|     null| null|         12|    48|  null|    null|null|        null|     null| null|   804|       null|null|                null|         19792|       null|\n",
      "|    15039|     null|   null|   null|     10|  null|  null|           null|  null|          null|   null|null|              null|   null|    10|      1|  null|     null|   null|  null| null| null|   null|     null| null|       null|  null|  null|    null|null|        null|     null| null|  null|       null|null|                null|          2044|       null|\n",
      "|   15044A|     null|   null|   null|   null|  null|     6|           null|  null|          null|   null|null|              null|   null|  null|     30|  null|     null|   null|  null| null| null|   null|     null| null|       null|  null|  null|    null|null|        null|     null| null|  null|       null|null|                null|           427|       null|\n",
      "|   15044B|     null|   null|   null|   null|  null|  null|           null|  null|          null|   null|null|              null|   null|  null|     12|  null|     null|   null|  null| null| null|   null|     null| null|       null|  null|  null|    null|null|        null|     null|    6|  null|       null|null|                null|           275|       null|\n",
      "|   15044C|     null|   null|   null|   null|  null|     6|           null|  null|          null|   null|null|              null|   null|     6|   null|  null|     null|   null|  null| null| null|   null|     null| null|       null|  null|  null|    null|null|        null|     null| null|  null|       null|null|                null|           299|       null|\n",
      "|   15044D|     null|   null|   null|   null|  null|     6|           null|  null|          null|   null|   6|              null|   null|  null|     18|  null|     null|   null|  null| null| null|   null|     null| null|       null|  null|  null|    null|null|        null|     null|    6|  null|       null|null|                null|           607|       null|\n",
      "+---------+---------+-------+-------+-------+------+------+---------------+------+--------------+-------+----+------------------+-------+------+-------+------+---------+-------+------+-----+-----+-------+---------+-----+-----------+------+------+--------+----+------------+---------+-----+------+-----------+----+--------------------+--------------+-----------+\n",
      "only showing top 20 rows\n",
      "\n"
     ]
    }
   ],
   "source": [
    "#Pivot Operation. We will make a new column for every country\n",
    "retail_pivot = retaildata.groupBy(\"StockCode\").pivot(\"Country\").agg(sum(\"Quantity\"))\n",
    "retail_pivot.show()\n",
    "\n",
    "\n",
    "#How many instances of each product were sold ineach country?\n",
    "retail_pivot_2 = retaildata.groupBy(\"StockCode\").pivot(\"Country\").agg(sum(\"Quantity\")).orderBy(\"StockCode\")\n",
    "retail_pivot_2.show()\n",
    "\n",
    "#retail_data.groupBy(\"StockCode\").pivot(\"Country\").sum(\"Quantity\").show()"
   ]
  },
  {
   "cell_type": "code",
   "execution_count": 8,
   "metadata": {},
   "outputs": [
    {
     "name": "stdout",
     "output_type": "stream",
     "text": [
      "+---------+--------------+-----------------+\n",
      "|StockCode|       Country|positive_quantity|\n",
      "+---------+--------------+-----------------+\n",
      "|    22154|United Kingdom|             true|\n",
      "|    22478|United Kingdom|             true|\n",
      "|    22844|United Kingdom|             true|\n",
      "|    21788|United Kingdom|             true|\n",
      "|    22042|United Kingdom|             true|\n",
      "|    22539|        France|             true|\n",
      "|    85078|         Italy|             true|\n",
      "|   85034C|         Italy|             true|\n",
      "|    22389|United Kingdom|             true|\n",
      "|    85087|United Kingdom|             true|\n",
      "|   35809A|United Kingdom|             true|\n",
      "|    84821|United Kingdom|             true|\n",
      "|    22837|         Spain|             true|\n",
      "|    21030|        Cyprus|             true|\n",
      "|    84992|        Sweden|             true|\n",
      "|    22713|   Switzerland|             true|\n",
      "|    21989|       Belgium|             true|\n",
      "|    21080|       Germany|             true|\n",
      "|   84661C|United Kingdom|             true|\n",
      "|   82613D|        Cyprus|             true|\n",
      "+---------+--------------+-----------------+\n",
      "only showing top 20 rows\n",
      "\n"
     ]
    }
   ],
   "source": [
    "#Rollup. Divide the quantity to +ve and -ve\n",
    "retail_rollUp = retail_selection.select(\"StockCode\",\"Country\",(col(\"Quantity_total\") > 0).alias(\"positive_quantity\"))\n",
    "retail_rollUp.show()\n",
    "#roll_up = datacube.rollup(\"Stock Code\", \"Country, (col(\"Quantity\") > 0).alias(\"positive quantity\")"
   ]
  },
  {
   "cell_type": "code",
   "execution_count": null,
   "metadata": {},
   "outputs": [],
   "source": [
    "#Drill Down. D"
   ]
  },
  {
   "cell_type": "raw",
   "metadata": {},
   "source": [
    "# Create a datacube that allows answering the following questions:\n",
    "How many breakdowns occurred in total?\n",
    "How many breakdowns occurred in each town in total?\n",
    "How many breakdowns occurred in each route number in total?\n",
    "How many breakdowns occurred in each town per year?\n",
    "How many breakdowns occurred in each route number per year?\n",
    "It is normal if the resulting table can answer more questions than the above-mentioned."
   ]
  },
  {
   "cell_type": "code",
   "execution_count": 9,
   "metadata": {},
   "outputs": [
    {
     "name": "stdout",
     "output_type": "stream",
     "text": [
      "+-----------+---------------+--------+------+------------+---------------+----------------+------+\n",
      "|School year|Busbreakdown_ID|Run_Type|Bus_No|Route_Number|School_Serviced|     Occurred_On|  Town|\n",
      "+-----------+---------------+--------+------+------------+---------------+----------------+------+\n",
      "|       2010|          45345|      43|     1|           4|            dfg|12-01-2010 08:26|Bhopal|\n",
      "|       2012|           5756|       4|     2|           5|           dgdf|12-02-2010 08:26|Mumbai|\n",
      "|       2020|            223|      43|     3|           6|           dgdf|12-01-2011 08:26|  Bang|\n",
      "+-----------+---------------+--------+------+------------+---------------+----------------+------+\n",
      "\n"
     ]
    }
   ],
   "source": [
    "busbreakdownData = spark.read.option(\"inferSchema\",\"true\").option(\"header\",\"true\").csv(\"busbreakdownData.csv\")\n",
    "busbreakdownData.show()"
   ]
  },
  {
   "cell_type": "code",
   "execution_count": 18,
   "metadata": {},
   "outputs": [],
   "source": [
    "datacube = busbreakdownData.select(\"Busbreakdown_ID\",\"Town\", \"Route_Number\",\"School year\")\n",
    "from pyspark.sql.functions import sum,count"
   ]
  },
  {
   "cell_type": "code",
   "execution_count": 19,
   "metadata": {},
   "outputs": [
    {
     "name": "stdout",
     "output_type": "stream",
     "text": [
      "+----------------------+\n",
      "|count(Busbreakdown_ID)|\n",
      "+----------------------+\n",
      "|                     3|\n",
      "+----------------------+\n",
      "\n"
     ]
    }
   ],
   "source": [
    "#How many breakdowns occurred in total?\n",
    "datacube.agg(count(\"Busbreakdown_ID\")).show()"
   ]
  },
  {
   "cell_type": "code",
   "execution_count": 26,
   "metadata": {},
   "outputs": [
    {
     "name": "stdout",
     "output_type": "stream",
     "text": [
      "+------+----------------------+\n",
      "|  Town|count(Busbreakdown_ID)|\n",
      "+------+----------------------+\n",
      "|Mumbai|                     1|\n",
      "|  Bang|                     1|\n",
      "|Bhopal|                     1|\n",
      "+------+----------------------+\n",
      "\n"
     ]
    }
   ],
   "source": [
    "#How many breakdowns occurred in each town in total?\n",
    "datacube.groupBy(\"Town\").agg(count(\"Busbreakdown_ID\")).show()"
   ]
  },
  {
   "cell_type": "code",
   "execution_count": 27,
   "metadata": {},
   "outputs": [
    {
     "name": "stdout",
     "output_type": "stream",
     "text": [
      "+------+----------------------+\n",
      "|  Town|count(Busbreakdown_ID)|\n",
      "+------+----------------------+\n",
      "|Mumbai|                     1|\n",
      "|  Bang|                     1|\n",
      "|Bhopal|                     1|\n",
      "+------+----------------------+\n",
      "\n"
     ]
    }
   ],
   "source": [
    "#How many breakdowns occurred in each route number in total?\n",
    "datacube.groupBy(\"Town\").agg(count(\"Busbreakdown_ID\")).show()\n"
   ]
  },
  {
   "cell_type": "code",
   "execution_count": 28,
   "metadata": {},
   "outputs": [
    {
     "name": "stdout",
     "output_type": "stream",
     "text": [
      "Object `year` not found.\n"
     ]
    },
    {
     "ename": "AttributeError",
     "evalue": "'GroupedData' object has no attribute 'groupBy'",
     "output_type": "error",
     "traceback": [
      "\u001b[1;31m---------------------------------------------------------------------------\u001b[0m",
      "\u001b[1;31mAttributeError\u001b[0m                            Traceback (most recent call last)",
      "\u001b[1;32m<ipython-input-28-3099b0eb1007>\u001b[0m in \u001b[0;36m<module>\u001b[1;34m\u001b[0m\n\u001b[0;32m      1\u001b[0m \u001b[0mget_ipython\u001b[0m\u001b[1;33m(\u001b[0m\u001b[1;33m)\u001b[0m\u001b[1;33m.\u001b[0m\u001b[0mrun_line_magic\u001b[0m\u001b[1;33m(\u001b[0m\u001b[1;34m'pinfo'\u001b[0m\u001b[1;33m,\u001b[0m \u001b[1;34m'year'\u001b[0m\u001b[1;33m)\u001b[0m\u001b[1;33m\u001b[0m\u001b[1;33m\u001b[0m\u001b[0m\n\u001b[0;32m      2\u001b[0m \u001b[1;33m\u001b[0m\u001b[0m\n\u001b[1;32m----> 3\u001b[1;33m \u001b[0mretaildata_cube\u001b[0m \u001b[1;33m=\u001b[0m \u001b[0mretaildata\u001b[0m\u001b[1;33m.\u001b[0m\u001b[0mcube\u001b[0m\u001b[1;33m(\u001b[0m\u001b[1;34m\"Town\"\u001b[0m\u001b[1;33m,\u001b[0m\u001b[1;34m\"School year\"\u001b[0m\u001b[1;33m)\u001b[0m\u001b[1;33m.\u001b[0m\u001b[0mgroupBy\u001b[0m\u001b[1;33m(\u001b[0m\u001b[1;34m\"Town\"\u001b[0m\u001b[1;33m)\u001b[0m\u001b[1;33m.\u001b[0m\u001b[0magg\u001b[0m\u001b[1;33m(\u001b[0m\u001b[0mcount\u001b[0m\u001b[1;33m(\u001b[0m\u001b[1;34m\"Busbreakdown_ID\"\u001b[0m\u001b[1;33m)\u001b[0m\u001b[1;33m)\u001b[0m\u001b[1;33m.\u001b[0m\u001b[0mshow\u001b[0m\u001b[1;33m(\u001b[0m\u001b[1;33m)\u001b[0m\u001b[1;33m\u001b[0m\u001b[1;33m\u001b[0m\u001b[0m\n\u001b[0m",
      "\u001b[1;31mAttributeError\u001b[0m: 'GroupedData' object has no attribute 'groupBy'"
     ]
    }
   ],
   "source": [
    "How many breakdowns occurred in each town per year?\n",
    "\n",
    "retaildata_cube = retaildata.cube(\"Town\",\"School year\").groupBy(\"Town\").agg(count(\"Busbreakdown_ID\")).show()"
   ]
  },
  {
   "cell_type": "code",
   "execution_count": null,
   "metadata": {},
   "outputs": [],
   "source": [
    "#How many breakdowns occurred in each route number per year?\n",
    "retaildata.cube(\"name\", df.age).count().orderBy(\"name\", \"age\").show()"
   ]
  },
  {
   "cell_type": "code",
   "execution_count": 37,
   "metadata": {},
   "outputs": [
    {
     "name": "stdout",
     "output_type": "stream",
     "text": [
      "+------+-----------+------------+-----+\n",
      "|  Town|School year|Route_Number|count|\n",
      "+------+-----------+------------+-----+\n",
      "|  null|       null|        null|    3|\n",
      "|  null|       null|           4|    1|\n",
      "|  null|       null|           5|    1|\n",
      "|  null|       null|           6|    1|\n",
      "|  Bang|       null|        null|    1|\n",
      "|  Bang|       null|           6|    1|\n",
      "|Bhopal|       null|        null|    1|\n",
      "|Bhopal|       null|           4|    1|\n",
      "|Mumbai|       null|        null|    1|\n",
      "|Mumbai|       null|           5|    1|\n",
      "|  null|       2010|        null|    1|\n",
      "|  null|       2010|           4|    1|\n",
      "|Bhopal|       2010|        null|    1|\n",
      "|Bhopal|       2010|           4|    1|\n",
      "|  null|       2012|        null|    1|\n",
      "|  null|       2012|           5|    1|\n",
      "|Mumbai|       2012|        null|    1|\n",
      "|Mumbai|       2012|           5|    1|\n",
      "|  null|       2020|        null|    1|\n",
      "|  null|       2020|           6|    1|\n",
      "+------+-----------+------------+-----+\n",
      "only showing top 20 rows\n",
      "\n"
     ]
    }
   ],
   "source": [
    "datacube.cube(\"Town\", \"School year\", \"Route_Number\")\\\n",
    "            .count()\\\n",
    "            .withColumnRenamed(\"count(Busbreakdown_ID)\", \"Count\")\\\n",
    "            .orderBy(\"School year\", \"Town\",\"Route_Number\")\\\n",
    "            .show()"
   ]
  },
  {
   "cell_type": "code",
   "execution_count": 39,
   "metadata": {},
   "outputs": [
    {
     "name": "stdout",
     "output_type": "stream",
     "text": [
      "+------+-----------+------------+-----+\n",
      "|  Town|School year|Route_Number|count|\n",
      "+------+-----------+------------+-----+\n",
      "|  null|       null|        null|    3|\n",
      "|  null|       null|           4|    1|\n",
      "|  null|       null|           5|    1|\n",
      "|  null|       null|           6|    1|\n",
      "|  Bang|       null|        null|    1|\n",
      "|  Bang|       null|           6|    1|\n",
      "|Bhopal|       null|        null|    1|\n",
      "|Bhopal|       null|           4|    1|\n",
      "|Mumbai|       null|        null|    1|\n",
      "|Mumbai|       null|           5|    1|\n",
      "|  null|       2010|        null|    1|\n",
      "|  null|       2010|           4|    1|\n",
      "|Bhopal|       2010|        null|    1|\n",
      "|Bhopal|       2010|           4|    1|\n",
      "|  null|       2012|        null|    1|\n",
      "|  null|       2012|           5|    1|\n",
      "|Mumbai|       2012|        null|    1|\n",
      "|Mumbai|       2012|           5|    1|\n",
      "|  null|       2020|        null|    1|\n",
      "|  null|       2020|           6|    1|\n",
      "+------+-----------+------------+-----+\n",
      "only showing top 20 rows\n",
      "\n"
     ]
    }
   ],
   "source": [
    "datacube.cube(\"Town\", \"School year\", \"Route_Number\")\\\n",
    "            .count()\\\n",
    "            .orderBy(\"School year\", \"Town\",\"Route_Number\")\\\n",
    "            .show()"
   ]
  },
  {
   "cell_type": "code",
   "execution_count": null,
   "metadata": {},
   "outputs": [],
   "source": []
  }
 ],
 "metadata": {
  "kernelspec": {
   "display_name": "Python 3",
   "language": "python",
   "name": "python3"
  },
  "language_info": {
   "codemirror_mode": {
    "name": "ipython",
    "version": 3
   },
   "file_extension": ".py",
   "mimetype": "text/x-python",
   "name": "python",
   "nbconvert_exporter": "python",
   "pygments_lexer": "ipython3",
   "version": "3.8.3"
  }
 },
 "nbformat": 4,
 "nbformat_minor": 4
}
