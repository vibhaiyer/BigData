{
 "cells": [
  {
   "cell_type": "code",
   "execution_count": 6,
   "metadata": {},
   "outputs": [],
   "source": [
    "from datetime import timedelta, time, datetime, date"
   ]
  },
  {
   "cell_type": "code",
   "execution_count": 9,
   "metadata": {},
   "outputs": [
    {
     "name": "stdout",
     "output_type": "stream",
     "text": [
      "1 .\t 08:00:00 - 08:15:00 Value :-  6\n",
      "2 .\t 08:10:00 - 08:25:00 Value :-  4\n",
      "3 .\t 08:20:00 - 08:35:00 Value :-  -2\n",
      "4 .\t 08:30:00 - 08:45:00 Value :-  -2\n",
      "5 .\t 08:40:00 - 08:55:00 Value :-  -3\n",
      "6 .\t 08:50:00 - 09:05:00 Value :-  0\n",
      "7 .\t 09:00:00 - 09:15:00 Value :-  0\n",
      "8 .\t 09:10:00 - 09:25:00 Value :-  0\n",
      "9 .\t 09:20:00 - 09:35:00 Value :-  0\n"
     ]
    }
   ],
   "source": [
    "start_time = time(8,0,0)\n",
    "window_size = timedelta(minutes=15)\n",
    "slide_time = timedelta(minutes=10)\n",
    "\n",
    "\n",
    "#entry dictionary\n",
    "start_time_dict = {8.00:1,\n",
    "8.10:5,\n",
    "8.15:1,\n",
    "8.30:4}\n",
    "\n",
    "#exit dictionary\n",
    "end_time_dict = {8.20:2,\n",
    "8.25:1,\n",
    "8.30:3,\n",
    "8.40:3}\n",
    "\n",
    "a_start_time = datetime.combine(date.today(), start_time)\n",
    "#coding\n",
    "n = 1\n",
    "while(n<10) :\n",
    "    \n",
    "    end_time = a_start_time + window_size   \n",
    "    l = a_start_time.hour + (0.01* a_start_time.minute)\n",
    "    k = end_time.hour + (0.01* end_time.minute)   \n",
    "    change = 0\n",
    "    for e_time, no in start_time_dict.items() :\n",
    "        if l <= e_time < k :\n",
    "            change = change + no\n",
    "    for e_time, no in end_time_dict.items() :\n",
    "        if l <= e_time < k :\n",
    "            change = change - no\n",
    "    print(n , \".\\t\" ,a_start_time.time(), \"-\" ,end_time.time(), \"Value :- \", change )    \n",
    "    a_start_time = a_start_time + slide_time\n",
    "    n = n+1"
   ]
  },
  {
   "cell_type": "code",
   "execution_count": null,
   "metadata": {},
   "outputs": [],
   "source": []
  },
  {
   "cell_type": "code",
   "execution_count": null,
   "metadata": {},
   "outputs": [],
   "source": []
  },
  {
   "cell_type": "code",
   "execution_count": null,
   "metadata": {},
   "outputs": [],
   "source": []
  },
  {
   "cell_type": "code",
   "execution_count": null,
   "metadata": {},
   "outputs": [],
   "source": []
  },
  {
   "cell_type": "code",
   "execution_count": null,
   "metadata": {},
   "outputs": [],
   "source": []
  },
  {
   "cell_type": "code",
   "execution_count": null,
   "metadata": {},
   "outputs": [],
   "source": []
  },
  {
   "cell_type": "code",
   "execution_count": null,
   "metadata": {},
   "outputs": [],
   "source": []
  }
 ],
 "metadata": {
  "kernelspec": {
   "display_name": "Python 3",
   "language": "python",
   "name": "python3"
  },
  "language_info": {
   "codemirror_mode": {
    "name": "ipython",
    "version": 3
   },
   "file_extension": ".py",
   "mimetype": "text/x-python",
   "name": "python",
   "nbconvert_exporter": "python",
   "pygments_lexer": "ipython3",
   "version": "3.8.3"
  }
 },
 "nbformat": 4,
 "nbformat_minor": 4
}
