{
 "cells": [
  {
   "cell_type": "code",
   "execution_count": 1,
   "metadata": {},
   "outputs": [],
   "source": [
    "import findspark\n",
    "findspark.init()\n",
    "import pyspark\n",
    "import math\n",
    "from pyspark.sql.functions import expr, col, mean, variance\n"
   ]
  },
  {
   "cell_type": "code",
   "execution_count": 2,
   "metadata": {},
   "outputs": [],
   "source": [
    "sc = pyspark.SparkContext(\"local\", \"Bayes Classifier\")\n",
    "sc.setLogLevel(\"ERROR\")\n",
    "spark = pyspark.sql.SparkSession(sc)"
   ]
  },
  {
   "cell_type": "code",
   "execution_count": 3,
   "metadata": {},
   "outputs": [
    {
     "name": "stdout",
     "output_type": "stream",
     "text": [
      "+---------+------+------+\n",
      "|PulpColor| Taste|Edible|\n",
      "+---------+------+------+\n",
      "|      red|  sour|   yes|\n",
      "|      red|  sour|    no|\n",
      "|      red|bitter|    no|\n",
      "|   yellow| sweet|   yes|\n",
      "|   yellow|bitter|    no|\n",
      "|    green|  sour|   yes|\n",
      "|    green| sweet|   yes|\n",
      "|    green|bitter|    no|\n",
      "+---------+------+------+\n",
      "\n"
     ]
    }
   ],
   "source": [
    "df = spark.read.option(\"InferSchema\", \"true\").option(\"header\", \"true\").csv(\"naive_bayes.csv\")\n",
    "df.show()"
   ]
  },
  {
   "cell_type": "code",
   "execution_count": 4,
   "metadata": {},
   "outputs": [
    {
     "name": "stdout",
     "output_type": "stream",
     "text": [
      "+---------+-----+------+\n",
      "|PulpColor|Taste|Edible|\n",
      "+---------+-----+------+\n",
      "|      red| sour|   yes|\n",
      "|   yellow|sweet|   yes|\n",
      "|    green| sour|   yes|\n",
      "|    green|sweet|   yes|\n",
      "+---------+-----+------+\n",
      "\n"
     ]
    }
   ],
   "source": [
    "dataSize = df.count()\n",
    "yesDf = df.filter(expr(\"Edible = \\\"yes\\\"\"))\n",
    "yesDf.show()"
   ]
  },
  {
   "cell_type": "code",
   "execution_count": 5,
   "metadata": {},
   "outputs": [
    {
     "name": "stdout",
     "output_type": "stream",
     "text": [
      "+---------+------+------+\n",
      "|PulpColor| Taste|Edible|\n",
      "+---------+------+------+\n",
      "|      red|  sour|    no|\n",
      "|      red|bitter|    no|\n",
      "|   yellow|bitter|    no|\n",
      "|    green|bitter|    no|\n",
      "+---------+------+------+\n",
      "\n"
     ]
    }
   ],
   "source": [
    "noDf = df.filter(expr(\"Edible = \\\"no\\\"\"))\n",
    "noDf.show()"
   ]
  },
  {
   "cell_type": "code",
   "execution_count": 6,
   "metadata": {},
   "outputs": [],
   "source": [
    "yes = yesDf.count()\n",
    "yesYellow = yesDf.filter(expr(\"PulpColor = \\\"yellow\\\"\")).count()\n",
    "yesSour = yesDf.filter(expr(\"Taste = \\\"sour\\\"\")).count()"
   ]
  },
  {
   "cell_type": "code",
   "execution_count": 7,
   "metadata": {},
   "outputs": [
    {
     "name": "stdout",
     "output_type": "stream",
     "text": [
      "8 4 1 2\n",
      "0.0625\n"
     ]
    }
   ],
   "source": [
    "likehoodYes = (yes/dataSize) * (yesYellow/yes) * (yesSour/yes)\n",
    "print(dataSize, yes, yesYellow, yesSour)\n",
    "print(likehoodYes)"
   ]
  },
  {
   "cell_type": "code",
   "execution_count": 8,
   "metadata": {},
   "outputs": [
    {
     "name": "stdout",
     "output_type": "stream",
     "text": [
      "8 4 1 1\n",
      "0.03125\n"
     ]
    }
   ],
   "source": [
    "no = noDf.count()\n",
    "noYellow = noDf.filter(expr(\"PulpColor = \\\"yellow\\\"\")).count()\n",
    "noSour = noDf.filter(expr(\"Taste = \\\"sour\\\"\")).count()\n",
    "likehoodNo = (no/dataSize) * (noYellow/no) * (noSour/no)\n",
    "print(dataSize, no, noYellow,noSour)\n",
    "print(likehoodNo)"
   ]
  },
  {
   "cell_type": "code",
   "execution_count": 9,
   "metadata": {},
   "outputs": [
    {
     "name": "stdout",
     "output_type": "stream",
     "text": [
      "yes\n"
     ]
    }
   ],
   "source": [
    "if likehoodYes > likehoodNo :\n",
    "    print(\"yes\")\n",
    "else:\n",
    "    print(\"no\")"
   ]
  },
  {
   "cell_type": "code",
   "execution_count": null,
   "metadata": {},
   "outputs": [],
   "source": []
  }
 ],
 "metadata": {
  "kernelspec": {
   "display_name": "Python 3",
   "language": "python",
   "name": "python3"
  },
  "language_info": {
   "codemirror_mode": {
    "name": "ipython",
    "version": 3
   },
   "file_extension": ".py",
   "mimetype": "text/x-python",
   "name": "python",
   "nbconvert_exporter": "python",
   "pygments_lexer": "ipython3",
   "version": "3.8.3"
  }
 },
 "nbformat": 4,
 "nbformat_minor": 4
}
