{
 "cells": [
  {
   "cell_type": "code",
   "execution_count": 7,
   "metadata": {},
   "outputs": [],
   "source": [
    "import numpy as np\n",
    "import pandas as pd\n",
    "from sklearn.base import BaseEstimator, ClassifierMixin\n",
    "from sklearn.utils.validation import check_X_y, check_array, check_is_fitted\n",
    "\n",
    "class GaussianNaiveBayesClassifier(BaseEstimator, ClassifierMixin):\n",
    "    def fit(self, X, y):\n",
    "        X, y = check_X_y(X, y)\n",
    "        self.priors_ = np.bincount(y) / len(y)\n",
    "        self.n_classes_ = np.max(y) + 1\n",
    "        \n",
    "        self.means_ = np.array([X[np.where(y==i)].mean(axis=0) for i in range(self.n_classes_)])\n",
    "        std = pd.DataFrame(X).groupby(by=y).std()\n",
    "        self.stds_ = np.array(std)\n",
    "        #self.stds_ = np.array([X.groupby(by=y).std(axis=0) for i in range(self.n_classes_)])\n",
    "        print(\"----------Prior Probabilities:P(Yes) or P(No)---------\")\n",
    "        print(\"P(0):\",self.priors_[0])\n",
    "        print(\"P(1):\",self.priors_[1])\n",
    "        #when there are two features uncomment below code\n",
    "        \"\"\"\n",
    "        print(\"-------Feature1=Age, Feature2=Salary-------\")\n",
    "        print(\"mean_feat1_0:\",self.means_[0][0])\n",
    "        print(\"mean_feat2_0:\",self.means_[0][1])\n",
    "        print(\"mean_feat1_1:\",self.means_[1][0])\n",
    "        print(\"mean_feat1_1:\",self.means_[1][1])\n",
    "        \n",
    "        print(\"std_feat1_0:\",self.stds_[0][0])\n",
    "        print(\"std_feat2_0:\",self.stds_[0][1])\n",
    "        print(\"std_feat1_1:\",self.stds_[1][0])\n",
    "        print(\"std_feat1_1:\",self.stds_[1][1])\n",
    "        \n",
    "        print(\"var_feat1_0:\",self.stds_[0][0]**2)\n",
    "        print(\"var_feat2_0:\",self.stds_[0][1]**2)\n",
    "        print(\"var_feat1_1:\",self.stds_[1][0]**2)\n",
    "        print(\"var_feat1_1:\",self.stds_[1][1]**2)\n",
    "        \"\"\"\n",
    "        #for only 1 feature uncomment below code\n",
    "        print(\"-------Feature1=Age, Feature2=Salary-------\")\n",
    "        print(\"mean_feat1_0:\",self.means_[0][0])\n",
    "        print(\"mean_feat1_1:\",self.means_[1][0])\n",
    "        \n",
    "        print(\"std_feat1_0:\",self.stds_[0][0])\n",
    "        print(\"std_feat1_1:\",self.stds_[1][0])\n",
    "        \n",
    "        print(\"var_feat1_0:\",self.stds_[0][0]**2)\n",
    "        print(\"var_feat1_1:\",self.stds_[1][0]**2)\n",
    "        \n",
    "        return self\n",
    "    \n",
    "    def predict_proba(self, X):\n",
    "        check_is_fitted(self)\n",
    "        X = check_array(X)\n",
    "        \n",
    "        res = []\n",
    "        print(\"-------------Final Probabilities-----------\")\n",
    "        for i in range(len(X)):\n",
    "            probas = []\n",
    "            for j in range(self.n_classes_):\n",
    "                #printing P(x|no) & P(x|yes)\n",
    "                if j==0:\n",
    "                    print(\"P(x1|no):\",(1/np.sqrt(2*np.pi*self.stds_[j]**2)*np.exp(-0.5*((X[i]-self.means_[j])/self.stds_[j])**2)).prod())\n",
    "                else:\n",
    "                    print(\"P(x1|yes):\",(1/np.sqrt(2*np.pi*self.stds_[j]**2)*np.exp(-0.5*((X[i]-self.means_[j])/self.stds_[j])**2)).prod())\n",
    "                \n",
    "                probas.append((1/np.sqrt(2*np.pi*self.stds_[j]**2)*np.exp(-0.5*((X[i]-self.means_[j])/self.stds_[j])**2)).prod()*self.priors_[j])\n",
    "            probas = np.array(probas)\n",
    "            print(\"P(no|x1):\",probas[0])\n",
    "            print(\"P(yes|x1):\",probas[1])\n",
    "            res.append(probas / probas.sum())\n",
    "            \n",
    "        print(\"----------------------------------------------------------\")\n",
    "        return np.array(res)\n",
    "    def predict(self, X):\n",
    "        check_is_fitted(self)\n",
    "        X = check_array(X)\n",
    "        \n",
    "        res = self.predict_proba(X)\n",
    "        \n",
    "        return res.argmax(axis=1)"
   ]
  },
  {
   "cell_type": "code",
   "execution_count": 8,
   "metadata": {},
   "outputs": [
    {
     "name": "stdout",
     "output_type": "stream",
     "text": [
      "----------Prior Probabilities:P(Yes) or P(No)---------\n",
      "P(0): 0.4117647058823529\n",
      "P(1): 0.5882352941176471\n",
      "-------Feature1=Age, Feature2=Salary-------\n",
      "mean_feat1_0: 38.42857142857143\n",
      "mean_feat1_1: 45.5\n",
      "std_feat1_0: 4.68533680244878\n",
      "std_feat1_1: 8.195527235429498\n",
      "var_feat1_0: 21.952380952380956\n",
      "var_feat1_1: 67.16666666666667\n",
      "-------------Final Probabilities-----------\n",
      "P(x1|no): 1.1266995920268005e-06\n",
      "P(x1|yes): 3.3534468935573886e-07\n",
      "P(no|x1): 4.6393512612868253e-07\n",
      "P(yes|x1): 1.9726158197396404e-07\n",
      "----------------------------------------------------------\n"
     ]
    },
    {
     "data": {
      "text/plain": [
       "array([[0.70165976, 0.29834024]])"
      ]
     },
     "execution_count": 8,
     "metadata": {},
     "output_type": "execute_result"
    }
   ],
   "source": [
    "#--------------------------exam version-------------------------------------------------\n",
    "#----------------input X,y,[38, 71000]---------------------------\n",
    "X = pd.DataFrame({'Age': [59,35,37,52,48,37,37,48,41,37,39,49,55,37,35,36,42], \n",
    "        'Salary': [88000,61000,70000,21000,141000,93000,62000,138000,79000,78000,134000,89000,39000,77000,57000,63000,73000]})\n",
    "\n",
    "y = pd.Series([1,0,1,1,0,1,0,1,0,1,1,1,1,0,0,0,1])\n",
    "\n",
    "my_gauss = GaussianNaiveBayesClassifier()\n",
    "my_gauss.fit(X, y)\n",
    "my_gauss.predict_proba([[38, 71000]])"
   ]
  },
  {
   "cell_type": "code",
   "execution_count": 10,
   "metadata": {},
   "outputs": [
    {
     "name": "stdout",
     "output_type": "stream",
     "text": [
      "----------Prior Probabilities:P(Yes) or P(No)---------\n",
      "P(0): 0.45454545454545453\n",
      "P(1): 0.5454545454545454\n",
      "-------Feature1=Age, Feature2=Salary-------\n",
      "mean_feat1_0: 29.8\n",
      "mean_feat1_1: 76.16666666666667\n",
      "std_feat1_0: 11.476062042355819\n",
      "std_feat1_1: 16.36357744097136\n",
      "var_feat1_0: 131.70000000000002\n",
      "var_feat1_1: 267.76666666666677\n",
      "-------------Final Probabilities-----------\n",
      "P(x1|no): 0.0008631916482906215\n",
      "P(x1|yes): 0.01586679399696767\n",
      "P(no|x1): 0.00039235984013210066\n",
      "P(yes|x1): 0.00865461490743691\n",
      "----------------------------------------------------------\n"
     ]
    },
    {
     "data": {
      "text/plain": [
       "array([[0.04336918, 0.95663082]])"
      ]
     },
     "execution_count": 10,
     "metadata": {},
     "output_type": "execute_result"
    }
   ],
   "source": [
    "#--------------------------exam version-------------------------------------------------\n",
    "#----------------input X1,y1,[61]---------------------------\n",
    "X1 = pd.DataFrame({'Percent': [70,36,95,63,43,84,54,15,21,91,34]})\n",
    "\n",
    "y1 = pd.Series([1,0,1,1,0,1,1,0,0,1,0])\n",
    "\n",
    "my_gauss = GaussianNaiveBayesClassifier()\n",
    "my_gauss.fit(X1, y1)\n",
    "my_gauss.predict_proba([[61]])"
   ]
  },
  {
   "cell_type": "markdown",
   "metadata": {},
   "source": [
    "# Normal calculation not part of above code"
   ]
  },
  {
   "cell_type": "code",
   "execution_count": 6,
   "metadata": {},
   "outputs": [
    {
     "name": "stdout",
     "output_type": "stream",
     "text": [
      "P(X|YorN): 0.0008631916482906208\n"
     ]
    }
   ],
   "source": [
    "#Calculating PRobability with variance\n",
    "import numpy as np\n",
    "X = 61\n",
    "mean_y = 29.8\n",
    "var_y = 131.7\n",
    "\n",
    "print(\"P(X|YorN):\",(1/np.sqrt(2*np.pi*var_y)*np.exp(-0.5*(((X-mean_y)**2)/var_y))))"
   ]
  },
  {
   "cell_type": "code",
   "execution_count": 16,
   "metadata": {},
   "outputs": [
    {
     "name": "stdout",
     "output_type": "stream",
     "text": [
      "P(X|YorN): 1.047164563704697e-05\n"
     ]
    }
   ],
   "source": [
    "#Calculating PRobability with stddev\n",
    "import numpy as np\n",
    "X = 71000\n",
    "mean_y = 82300\n",
    "std_y = 36295\n",
    "\n",
    "print(\"P(X|YorN):\",(1/np.sqrt(2*np.pi*(std_y**2))*np.exp(-0.5*(((X-mean_y)**2)/(std_y**2)))))"
   ]
  },
  {
   "cell_type": "code",
   "execution_count": null,
   "metadata": {},
   "outputs": [],
   "source": []
  }
 ],
 "metadata": {
  "kernelspec": {
   "display_name": "Python 3",
   "language": "python",
   "name": "python3"
  },
  "language_info": {
   "codemirror_mode": {
    "name": "ipython",
    "version": 3
   },
   "file_extension": ".py",
   "mimetype": "text/x-python",
   "name": "python",
   "nbconvert_exporter": "python",
   "pygments_lexer": "ipython3",
   "version": "3.8.3"
  }
 },
 "nbformat": 4,
 "nbformat_minor": 5
}
